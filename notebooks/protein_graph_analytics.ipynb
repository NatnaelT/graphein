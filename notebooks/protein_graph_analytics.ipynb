{
 "cells": [
  {
   "cell_type": "markdown",
   "metadata": {},
   "source": [
    "# Protein Graph Analytics"
   ]
  },
  {
   "cell_type": "code",
   "execution_count": 1,
   "metadata": {},
   "outputs": [],
   "source": [
    "# Install graphein if necessary:\n",
    "# !pip install graphein"
   ]
  },
  {
   "cell_type": "code",
   "execution_count": 1,
   "metadata": {},
   "outputs": [
    {
     "name": "stdout",
     "output_type": "stream",
     "text": [
      "To use the Graphein submodule graphein.protein.features.sequence.embeddings, you need to install biovec.\n",
      "\n",
      "biovec cannot be installed via conda\n",
      "To use the Graphein submodule graphein.protein.visualisation, you need to install pytorch3d.\n",
      "\n",
      "To do so, use the following command:\n",
      "\n",
      "    conda install -c pytorch3d pytorch3d\n",
      "To use the Graphein submodule graphein.protein.meshes, you need to install pytorch3d.\n",
      "\n",
      "To do so, use the following command:\n",
      "\n",
      "    conda install -c pytorch3d pytorch3d\n"
     ]
    },
    {
     "name": "stderr",
     "output_type": "stream",
     "text": [
      "DEBUG:graphein.protein.graphs:Deprotonating protein. This removes H atoms from the pdb_df dataframe\n",
      "DEBUG:graphein.protein.graphs:Detected 174 total nodes\n",
      "DEBUG:graphein.protein.features.nodes.amino_acid:Reading meiler embeddings from: /Users/arianjamasb/github/graphein/graphein/protein/features/nodes/meiler_embeddings.csv\n",
      "INFO:graphein.protein.edges.distance:Found 413 hydrophobic interactions.\n",
      "INFO:graphein.protein.edges.distance:Found: 16 aromatic-aromatic interactions\n",
      "DEBUG:graphein.protein.edges.distance:1 CYS residues found. Cannot add disulfide interactions with fewer than two CYS residues.\n"
     ]
    },
    {
     "name": "stdout",
     "output_type": "stream",
     "text": [
      "Downloading PDB structure '3eiy'...\n"
     ]
    },
    {
     "name": "stderr",
     "output_type": "stream",
     "text": [
      "INFO:graphein.protein.utils:Downloaded PDB file for: 3eiy\n"
     ]
    }
   ],
   "source": [
    "from graphein.protein.config import ProteinGraphConfig, DSSPConfig\n",
    "from graphein.protein.graphs import construct_graph\n",
    "from graphein.protein.edges.distance import (\n",
    "    add_aromatic_interactions,\n",
    "    add_disulfide_interactions,\n",
    "    add_hydrophobic_interactions,\n",
    "    add_peptide_bonds,\n",
    ")\n",
    "from graphein.protein.features.nodes import asa, rsa\n",
    "\n",
    "config = ProteinGraphConfig(\n",
    "    edge_construction_functions=[       # List of functions to call to construct edges.\n",
    "        add_hydrophobic_interactions,\n",
    "        add_aromatic_interactions,\n",
    "        add_disulfide_interactions,\n",
    "        add_peptide_bonds,\n",
    "    ],\n",
    "    graph_metadata_functions=[asa, rsa],  # Add ASA and RSA features.\n",
    "    dssp_config=DSSPConfig(),             # Add DSSP config in order to compute ASA and RSA.\n",
    ")\n",
    "\n",
    "g = construct_graph(pdb_code=\"3eiy\", config=config)"
   ]
  },
  {
   "cell_type": "markdown",
   "metadata": {},
   "source": [
    "## Residue Composition"
   ]
  },
  {
   "cell_type": "code",
   "execution_count": 2,
   "metadata": {},
   "outputs": [
    {
     "data": {
      "application/vnd.plotly.v1+json": {
       "config": {
        "plotlyServerURL": "https://plot.ly"
       },
       "data": [
        {
         "domain": {
          "x": [
           0,
           1
          ],
          "y": [
           0,
           1
          ]
         },
         "hovertemplate": "index=%{label}<br>counts=%{value}<extra></extra>",
         "labels": [
          "VAL",
          "LYS",
          "ASP",
          "ALA",
          "GLY",
          "LEU",
          "PRO",
          "ILE",
          "PHE",
          "GLU",
          "SER",
          "THR",
          "TYR",
          "GLN",
          "ASN",
          "ARG",
          "MET",
          "HIS",
          "TRP",
          "CYS"
         ],
         "legendgroup": "",
         "name": "",
         "showlegend": true,
         "type": "pie",
         "values": [
          19,
          16,
          16,
          15,
          14,
          14,
          12,
          10,
          8,
          8,
          7,
          6,
          5,
          5,
          5,
          4,
          4,
          3,
          2,
          1
         ]
        }
       ],
       "layout": {
        "legend": {
         "tracegroupgap": 0
        },
        "template": {
         "data": {
          "bar": [
           {
            "error_x": {
             "color": "#2a3f5f"
            },
            "error_y": {
             "color": "#2a3f5f"
            },
            "marker": {
             "line": {
              "color": "#E5ECF6",
              "width": 0.5
             },
             "pattern": {
              "fillmode": "overlay",
              "size": 10,
              "solidity": 0.2
             }
            },
            "type": "bar"
           }
          ],
          "barpolar": [
           {
            "marker": {
             "line": {
              "color": "#E5ECF6",
              "width": 0.5
             },
             "pattern": {
              "fillmode": "overlay",
              "size": 10,
              "solidity": 0.2
             }
            },
            "type": "barpolar"
           }
          ],
          "carpet": [
           {
            "aaxis": {
             "endlinecolor": "#2a3f5f",
             "gridcolor": "white",
             "linecolor": "white",
             "minorgridcolor": "white",
             "startlinecolor": "#2a3f5f"
            },
            "baxis": {
             "endlinecolor": "#2a3f5f",
             "gridcolor": "white",
             "linecolor": "white",
             "minorgridcolor": "white",
             "startlinecolor": "#2a3f5f"
            },
            "type": "carpet"
           }
          ],
          "choropleth": [
           {
            "colorbar": {
             "outlinewidth": 0,
             "ticks": ""
            },
            "type": "choropleth"
           }
          ],
          "contour": [
           {
            "colorbar": {
             "outlinewidth": 0,
             "ticks": ""
            },
            "colorscale": [
             [
              0,
              "#0d0887"
             ],
             [
              0.1111111111111111,
              "#46039f"
             ],
             [
              0.2222222222222222,
              "#7201a8"
             ],
             [
              0.3333333333333333,
              "#9c179e"
             ],
             [
              0.4444444444444444,
              "#bd3786"
             ],
             [
              0.5555555555555556,
              "#d8576b"
             ],
             [
              0.6666666666666666,
              "#ed7953"
             ],
             [
              0.7777777777777778,
              "#fb9f3a"
             ],
             [
              0.8888888888888888,
              "#fdca26"
             ],
             [
              1,
              "#f0f921"
             ]
            ],
            "type": "contour"
           }
          ],
          "contourcarpet": [
           {
            "colorbar": {
             "outlinewidth": 0,
             "ticks": ""
            },
            "type": "contourcarpet"
           }
          ],
          "heatmap": [
           {
            "colorbar": {
             "outlinewidth": 0,
             "ticks": ""
            },
            "colorscale": [
             [
              0,
              "#0d0887"
             ],
             [
              0.1111111111111111,
              "#46039f"
             ],
             [
              0.2222222222222222,
              "#7201a8"
             ],
             [
              0.3333333333333333,
              "#9c179e"
             ],
             [
              0.4444444444444444,
              "#bd3786"
             ],
             [
              0.5555555555555556,
              "#d8576b"
             ],
             [
              0.6666666666666666,
              "#ed7953"
             ],
             [
              0.7777777777777778,
              "#fb9f3a"
             ],
             [
              0.8888888888888888,
              "#fdca26"
             ],
             [
              1,
              "#f0f921"
             ]
            ],
            "type": "heatmap"
           }
          ],
          "heatmapgl": [
           {
            "colorbar": {
             "outlinewidth": 0,
             "ticks": ""
            },
            "colorscale": [
             [
              0,
              "#0d0887"
             ],
             [
              0.1111111111111111,
              "#46039f"
             ],
             [
              0.2222222222222222,
              "#7201a8"
             ],
             [
              0.3333333333333333,
              "#9c179e"
             ],
             [
              0.4444444444444444,
              "#bd3786"
             ],
             [
              0.5555555555555556,
              "#d8576b"
             ],
             [
              0.6666666666666666,
              "#ed7953"
             ],
             [
              0.7777777777777778,
              "#fb9f3a"
             ],
             [
              0.8888888888888888,
              "#fdca26"
             ],
             [
              1,
              "#f0f921"
             ]
            ],
            "type": "heatmapgl"
           }
          ],
          "histogram": [
           {
            "marker": {
             "pattern": {
              "fillmode": "overlay",
              "size": 10,
              "solidity": 0.2
             }
            },
            "type": "histogram"
           }
          ],
          "histogram2d": [
           {
            "colorbar": {
             "outlinewidth": 0,
             "ticks": ""
            },
            "colorscale": [
             [
              0,
              "#0d0887"
             ],
             [
              0.1111111111111111,
              "#46039f"
             ],
             [
              0.2222222222222222,
              "#7201a8"
             ],
             [
              0.3333333333333333,
              "#9c179e"
             ],
             [
              0.4444444444444444,
              "#bd3786"
             ],
             [
              0.5555555555555556,
              "#d8576b"
             ],
             [
              0.6666666666666666,
              "#ed7953"
             ],
             [
              0.7777777777777778,
              "#fb9f3a"
             ],
             [
              0.8888888888888888,
              "#fdca26"
             ],
             [
              1,
              "#f0f921"
             ]
            ],
            "type": "histogram2d"
           }
          ],
          "histogram2dcontour": [
           {
            "colorbar": {
             "outlinewidth": 0,
             "ticks": ""
            },
            "colorscale": [
             [
              0,
              "#0d0887"
             ],
             [
              0.1111111111111111,
              "#46039f"
             ],
             [
              0.2222222222222222,
              "#7201a8"
             ],
             [
              0.3333333333333333,
              "#9c179e"
             ],
             [
              0.4444444444444444,
              "#bd3786"
             ],
             [
              0.5555555555555556,
              "#d8576b"
             ],
             [
              0.6666666666666666,
              "#ed7953"
             ],
             [
              0.7777777777777778,
              "#fb9f3a"
             ],
             [
              0.8888888888888888,
              "#fdca26"
             ],
             [
              1,
              "#f0f921"
             ]
            ],
            "type": "histogram2dcontour"
           }
          ],
          "mesh3d": [
           {
            "colorbar": {
             "outlinewidth": 0,
             "ticks": ""
            },
            "type": "mesh3d"
           }
          ],
          "parcoords": [
           {
            "line": {
             "colorbar": {
              "outlinewidth": 0,
              "ticks": ""
             }
            },
            "type": "parcoords"
           }
          ],
          "pie": [
           {
            "automargin": true,
            "type": "pie"
           }
          ],
          "scatter": [
           {
            "marker": {
             "colorbar": {
              "outlinewidth": 0,
              "ticks": ""
             }
            },
            "type": "scatter"
           }
          ],
          "scatter3d": [
           {
            "line": {
             "colorbar": {
              "outlinewidth": 0,
              "ticks": ""
             }
            },
            "marker": {
             "colorbar": {
              "outlinewidth": 0,
              "ticks": ""
             }
            },
            "type": "scatter3d"
           }
          ],
          "scattercarpet": [
           {
            "marker": {
             "colorbar": {
              "outlinewidth": 0,
              "ticks": ""
             }
            },
            "type": "scattercarpet"
           }
          ],
          "scattergeo": [
           {
            "marker": {
             "colorbar": {
              "outlinewidth": 0,
              "ticks": ""
             }
            },
            "type": "scattergeo"
           }
          ],
          "scattergl": [
           {
            "marker": {
             "colorbar": {
              "outlinewidth": 0,
              "ticks": ""
             }
            },
            "type": "scattergl"
           }
          ],
          "scattermapbox": [
           {
            "marker": {
             "colorbar": {
              "outlinewidth": 0,
              "ticks": ""
             }
            },
            "type": "scattermapbox"
           }
          ],
          "scatterpolar": [
           {
            "marker": {
             "colorbar": {
              "outlinewidth": 0,
              "ticks": ""
             }
            },
            "type": "scatterpolar"
           }
          ],
          "scatterpolargl": [
           {
            "marker": {
             "colorbar": {
              "outlinewidth": 0,
              "ticks": ""
             }
            },
            "type": "scatterpolargl"
           }
          ],
          "scatterternary": [
           {
            "marker": {
             "colorbar": {
              "outlinewidth": 0,
              "ticks": ""
             }
            },
            "type": "scatterternary"
           }
          ],
          "surface": [
           {
            "colorbar": {
             "outlinewidth": 0,
             "ticks": ""
            },
            "colorscale": [
             [
              0,
              "#0d0887"
             ],
             [
              0.1111111111111111,
              "#46039f"
             ],
             [
              0.2222222222222222,
              "#7201a8"
             ],
             [
              0.3333333333333333,
              "#9c179e"
             ],
             [
              0.4444444444444444,
              "#bd3786"
             ],
             [
              0.5555555555555556,
              "#d8576b"
             ],
             [
              0.6666666666666666,
              "#ed7953"
             ],
             [
              0.7777777777777778,
              "#fb9f3a"
             ],
             [
              0.8888888888888888,
              "#fdca26"
             ],
             [
              1,
              "#f0f921"
             ]
            ],
            "type": "surface"
           }
          ],
          "table": [
           {
            "cells": {
             "fill": {
              "color": "#EBF0F8"
             },
             "line": {
              "color": "white"
             }
            },
            "header": {
             "fill": {
              "color": "#C8D4E3"
             },
             "line": {
              "color": "white"
             }
            },
            "type": "table"
           }
          ]
         },
         "layout": {
          "annotationdefaults": {
           "arrowcolor": "#2a3f5f",
           "arrowhead": 0,
           "arrowwidth": 1
          },
          "autotypenumbers": "strict",
          "coloraxis": {
           "colorbar": {
            "outlinewidth": 0,
            "ticks": ""
           }
          },
          "colorscale": {
           "diverging": [
            [
             0,
             "#8e0152"
            ],
            [
             0.1,
             "#c51b7d"
            ],
            [
             0.2,
             "#de77ae"
            ],
            [
             0.3,
             "#f1b6da"
            ],
            [
             0.4,
             "#fde0ef"
            ],
            [
             0.5,
             "#f7f7f7"
            ],
            [
             0.6,
             "#e6f5d0"
            ],
            [
             0.7,
             "#b8e186"
            ],
            [
             0.8,
             "#7fbc41"
            ],
            [
             0.9,
             "#4d9221"
            ],
            [
             1,
             "#276419"
            ]
           ],
           "sequential": [
            [
             0,
             "#0d0887"
            ],
            [
             0.1111111111111111,
             "#46039f"
            ],
            [
             0.2222222222222222,
             "#7201a8"
            ],
            [
             0.3333333333333333,
             "#9c179e"
            ],
            [
             0.4444444444444444,
             "#bd3786"
            ],
            [
             0.5555555555555556,
             "#d8576b"
            ],
            [
             0.6666666666666666,
             "#ed7953"
            ],
            [
             0.7777777777777778,
             "#fb9f3a"
            ],
            [
             0.8888888888888888,
             "#fdca26"
            ],
            [
             1,
             "#f0f921"
            ]
           ],
           "sequentialminus": [
            [
             0,
             "#0d0887"
            ],
            [
             0.1111111111111111,
             "#46039f"
            ],
            [
             0.2222222222222222,
             "#7201a8"
            ],
            [
             0.3333333333333333,
             "#9c179e"
            ],
            [
             0.4444444444444444,
             "#bd3786"
            ],
            [
             0.5555555555555556,
             "#d8576b"
            ],
            [
             0.6666666666666666,
             "#ed7953"
            ],
            [
             0.7777777777777778,
             "#fb9f3a"
            ],
            [
             0.8888888888888888,
             "#fdca26"
            ],
            [
             1,
             "#f0f921"
            ]
           ]
          },
          "colorway": [
           "#636efa",
           "#EF553B",
           "#00cc96",
           "#ab63fa",
           "#FFA15A",
           "#19d3f3",
           "#FF6692",
           "#B6E880",
           "#FF97FF",
           "#FECB52"
          ],
          "font": {
           "color": "#2a3f5f"
          },
          "geo": {
           "bgcolor": "white",
           "lakecolor": "white",
           "landcolor": "#E5ECF6",
           "showlakes": true,
           "showland": true,
           "subunitcolor": "white"
          },
          "hoverlabel": {
           "align": "left"
          },
          "hovermode": "closest",
          "mapbox": {
           "style": "light"
          },
          "paper_bgcolor": "white",
          "plot_bgcolor": "#E5ECF6",
          "polar": {
           "angularaxis": {
            "gridcolor": "white",
            "linecolor": "white",
            "ticks": ""
           },
           "bgcolor": "#E5ECF6",
           "radialaxis": {
            "gridcolor": "white",
            "linecolor": "white",
            "ticks": ""
           }
          },
          "scene": {
           "xaxis": {
            "backgroundcolor": "#E5ECF6",
            "gridcolor": "white",
            "gridwidth": 2,
            "linecolor": "white",
            "showbackground": true,
            "ticks": "",
            "zerolinecolor": "white"
           },
           "yaxis": {
            "backgroundcolor": "#E5ECF6",
            "gridcolor": "white",
            "gridwidth": 2,
            "linecolor": "white",
            "showbackground": true,
            "ticks": "",
            "zerolinecolor": "white"
           },
           "zaxis": {
            "backgroundcolor": "#E5ECF6",
            "gridcolor": "white",
            "gridwidth": 2,
            "linecolor": "white",
            "showbackground": true,
            "ticks": "",
            "zerolinecolor": "white"
           }
          },
          "shapedefaults": {
           "line": {
            "color": "#2a3f5f"
           }
          },
          "ternary": {
           "aaxis": {
            "gridcolor": "white",
            "linecolor": "white",
            "ticks": ""
           },
           "baxis": {
            "gridcolor": "white",
            "linecolor": "white",
            "ticks": ""
           },
           "bgcolor": "#E5ECF6",
           "caxis": {
            "gridcolor": "white",
            "linecolor": "white",
            "ticks": ""
           }
          },
          "title": {
           "x": 0.05
          },
          "xaxis": {
           "automargin": true,
           "gridcolor": "white",
           "linecolor": "white",
           "ticks": "",
           "title": {
            "standoff": 15
           },
           "zerolinecolor": "white",
           "zerolinewidth": 2
          },
          "yaxis": {
           "automargin": true,
           "gridcolor": "white",
           "linecolor": "white",
           "ticks": "",
           "title": {
            "standoff": 15
           },
           "zerolinecolor": "white",
           "zerolinewidth": 2
          }
         }
        },
        "title": {
         "text": "3eiy - Residue Composition"
        }
       }
      }
     },
     "metadata": {},
     "output_type": "display_data"
    }
   ],
   "source": [
    "from graphein.protein.analysis import plot_residue_composition\n",
    "\n",
    "fig = plot_residue_composition(g, sort_by=\"count\", plot_type=\"pie\") # Can also sort by \"alphabetical\"\n",
    "fig.show()"
   ]
  },
  {
   "cell_type": "code",
   "execution_count": 3,
   "metadata": {},
   "outputs": [
    {
     "data": {
      "application/vnd.plotly.v1+json": {
       "config": {
        "plotlyServerURL": "https://plot.ly"
       },
       "data": [
        {
         "alignmentgroup": "True",
         "hovertemplate": "variable=counts<br>index=%{x}<br>value=%{y}<extra></extra>",
         "legendgroup": "counts",
         "marker": {
          "color": "#636efa",
          "pattern": {
           "shape": ""
          }
         },
         "name": "counts",
         "offsetgroup": "counts",
         "orientation": "v",
         "showlegend": true,
         "textposition": "auto",
         "type": "bar",
         "x": [
          "VAL",
          "LYS",
          "ASP",
          "ALA",
          "GLY",
          "LEU",
          "PRO",
          "ILE",
          "PHE",
          "GLU",
          "SER",
          "THR",
          "TYR",
          "GLN",
          "ASN",
          "ARG",
          "MET",
          "HIS",
          "TRP",
          "CYS"
         ],
         "xaxis": "x",
         "y": [
          19,
          16,
          16,
          15,
          14,
          14,
          12,
          10,
          8,
          8,
          7,
          6,
          5,
          5,
          5,
          4,
          4,
          3,
          2,
          1
         ],
         "yaxis": "y"
        }
       ],
       "layout": {
        "barmode": "relative",
        "legend": {
         "title": {
          "text": "variable"
         },
         "tracegroupgap": 0
        },
        "template": {
         "data": {
          "bar": [
           {
            "error_x": {
             "color": "#2a3f5f"
            },
            "error_y": {
             "color": "#2a3f5f"
            },
            "marker": {
             "line": {
              "color": "#E5ECF6",
              "width": 0.5
             },
             "pattern": {
              "fillmode": "overlay",
              "size": 10,
              "solidity": 0.2
             }
            },
            "type": "bar"
           }
          ],
          "barpolar": [
           {
            "marker": {
             "line": {
              "color": "#E5ECF6",
              "width": 0.5
             },
             "pattern": {
              "fillmode": "overlay",
              "size": 10,
              "solidity": 0.2
             }
            },
            "type": "barpolar"
           }
          ],
          "carpet": [
           {
            "aaxis": {
             "endlinecolor": "#2a3f5f",
             "gridcolor": "white",
             "linecolor": "white",
             "minorgridcolor": "white",
             "startlinecolor": "#2a3f5f"
            },
            "baxis": {
             "endlinecolor": "#2a3f5f",
             "gridcolor": "white",
             "linecolor": "white",
             "minorgridcolor": "white",
             "startlinecolor": "#2a3f5f"
            },
            "type": "carpet"
           }
          ],
          "choropleth": [
           {
            "colorbar": {
             "outlinewidth": 0,
             "ticks": ""
            },
            "type": "choropleth"
           }
          ],
          "contour": [
           {
            "colorbar": {
             "outlinewidth": 0,
             "ticks": ""
            },
            "colorscale": [
             [
              0,
              "#0d0887"
             ],
             [
              0.1111111111111111,
              "#46039f"
             ],
             [
              0.2222222222222222,
              "#7201a8"
             ],
             [
              0.3333333333333333,
              "#9c179e"
             ],
             [
              0.4444444444444444,
              "#bd3786"
             ],
             [
              0.5555555555555556,
              "#d8576b"
             ],
             [
              0.6666666666666666,
              "#ed7953"
             ],
             [
              0.7777777777777778,
              "#fb9f3a"
             ],
             [
              0.8888888888888888,
              "#fdca26"
             ],
             [
              1,
              "#f0f921"
             ]
            ],
            "type": "contour"
           }
          ],
          "contourcarpet": [
           {
            "colorbar": {
             "outlinewidth": 0,
             "ticks": ""
            },
            "type": "contourcarpet"
           }
          ],
          "heatmap": [
           {
            "colorbar": {
             "outlinewidth": 0,
             "ticks": ""
            },
            "colorscale": [
             [
              0,
              "#0d0887"
             ],
             [
              0.1111111111111111,
              "#46039f"
             ],
             [
              0.2222222222222222,
              "#7201a8"
             ],
             [
              0.3333333333333333,
              "#9c179e"
             ],
             [
              0.4444444444444444,
              "#bd3786"
             ],
             [
              0.5555555555555556,
              "#d8576b"
             ],
             [
              0.6666666666666666,
              "#ed7953"
             ],
             [
              0.7777777777777778,
              "#fb9f3a"
             ],
             [
              0.8888888888888888,
              "#fdca26"
             ],
             [
              1,
              "#f0f921"
             ]
            ],
            "type": "heatmap"
           }
          ],
          "heatmapgl": [
           {
            "colorbar": {
             "outlinewidth": 0,
             "ticks": ""
            },
            "colorscale": [
             [
              0,
              "#0d0887"
             ],
             [
              0.1111111111111111,
              "#46039f"
             ],
             [
              0.2222222222222222,
              "#7201a8"
             ],
             [
              0.3333333333333333,
              "#9c179e"
             ],
             [
              0.4444444444444444,
              "#bd3786"
             ],
             [
              0.5555555555555556,
              "#d8576b"
             ],
             [
              0.6666666666666666,
              "#ed7953"
             ],
             [
              0.7777777777777778,
              "#fb9f3a"
             ],
             [
              0.8888888888888888,
              "#fdca26"
             ],
             [
              1,
              "#f0f921"
             ]
            ],
            "type": "heatmapgl"
           }
          ],
          "histogram": [
           {
            "marker": {
             "pattern": {
              "fillmode": "overlay",
              "size": 10,
              "solidity": 0.2
             }
            },
            "type": "histogram"
           }
          ],
          "histogram2d": [
           {
            "colorbar": {
             "outlinewidth": 0,
             "ticks": ""
            },
            "colorscale": [
             [
              0,
              "#0d0887"
             ],
             [
              0.1111111111111111,
              "#46039f"
             ],
             [
              0.2222222222222222,
              "#7201a8"
             ],
             [
              0.3333333333333333,
              "#9c179e"
             ],
             [
              0.4444444444444444,
              "#bd3786"
             ],
             [
              0.5555555555555556,
              "#d8576b"
             ],
             [
              0.6666666666666666,
              "#ed7953"
             ],
             [
              0.7777777777777778,
              "#fb9f3a"
             ],
             [
              0.8888888888888888,
              "#fdca26"
             ],
             [
              1,
              "#f0f921"
             ]
            ],
            "type": "histogram2d"
           }
          ],
          "histogram2dcontour": [
           {
            "colorbar": {
             "outlinewidth": 0,
             "ticks": ""
            },
            "colorscale": [
             [
              0,
              "#0d0887"
             ],
             [
              0.1111111111111111,
              "#46039f"
             ],
             [
              0.2222222222222222,
              "#7201a8"
             ],
             [
              0.3333333333333333,
              "#9c179e"
             ],
             [
              0.4444444444444444,
              "#bd3786"
             ],
             [
              0.5555555555555556,
              "#d8576b"
             ],
             [
              0.6666666666666666,
              "#ed7953"
             ],
             [
              0.7777777777777778,
              "#fb9f3a"
             ],
             [
              0.8888888888888888,
              "#fdca26"
             ],
             [
              1,
              "#f0f921"
             ]
            ],
            "type": "histogram2dcontour"
           }
          ],
          "mesh3d": [
           {
            "colorbar": {
             "outlinewidth": 0,
             "ticks": ""
            },
            "type": "mesh3d"
           }
          ],
          "parcoords": [
           {
            "line": {
             "colorbar": {
              "outlinewidth": 0,
              "ticks": ""
             }
            },
            "type": "parcoords"
           }
          ],
          "pie": [
           {
            "automargin": true,
            "type": "pie"
           }
          ],
          "scatter": [
           {
            "marker": {
             "colorbar": {
              "outlinewidth": 0,
              "ticks": ""
             }
            },
            "type": "scatter"
           }
          ],
          "scatter3d": [
           {
            "line": {
             "colorbar": {
              "outlinewidth": 0,
              "ticks": ""
             }
            },
            "marker": {
             "colorbar": {
              "outlinewidth": 0,
              "ticks": ""
             }
            },
            "type": "scatter3d"
           }
          ],
          "scattercarpet": [
           {
            "marker": {
             "colorbar": {
              "outlinewidth": 0,
              "ticks": ""
             }
            },
            "type": "scattercarpet"
           }
          ],
          "scattergeo": [
           {
            "marker": {
             "colorbar": {
              "outlinewidth": 0,
              "ticks": ""
             }
            },
            "type": "scattergeo"
           }
          ],
          "scattergl": [
           {
            "marker": {
             "colorbar": {
              "outlinewidth": 0,
              "ticks": ""
             }
            },
            "type": "scattergl"
           }
          ],
          "scattermapbox": [
           {
            "marker": {
             "colorbar": {
              "outlinewidth": 0,
              "ticks": ""
             }
            },
            "type": "scattermapbox"
           }
          ],
          "scatterpolar": [
           {
            "marker": {
             "colorbar": {
              "outlinewidth": 0,
              "ticks": ""
             }
            },
            "type": "scatterpolar"
           }
          ],
          "scatterpolargl": [
           {
            "marker": {
             "colorbar": {
              "outlinewidth": 0,
              "ticks": ""
             }
            },
            "type": "scatterpolargl"
           }
          ],
          "scatterternary": [
           {
            "marker": {
             "colorbar": {
              "outlinewidth": 0,
              "ticks": ""
             }
            },
            "type": "scatterternary"
           }
          ],
          "surface": [
           {
            "colorbar": {
             "outlinewidth": 0,
             "ticks": ""
            },
            "colorscale": [
             [
              0,
              "#0d0887"
             ],
             [
              0.1111111111111111,
              "#46039f"
             ],
             [
              0.2222222222222222,
              "#7201a8"
             ],
             [
              0.3333333333333333,
              "#9c179e"
             ],
             [
              0.4444444444444444,
              "#bd3786"
             ],
             [
              0.5555555555555556,
              "#d8576b"
             ],
             [
              0.6666666666666666,
              "#ed7953"
             ],
             [
              0.7777777777777778,
              "#fb9f3a"
             ],
             [
              0.8888888888888888,
              "#fdca26"
             ],
             [
              1,
              "#f0f921"
             ]
            ],
            "type": "surface"
           }
          ],
          "table": [
           {
            "cells": {
             "fill": {
              "color": "#EBF0F8"
             },
             "line": {
              "color": "white"
             }
            },
            "header": {
             "fill": {
              "color": "#C8D4E3"
             },
             "line": {
              "color": "white"
             }
            },
            "type": "table"
           }
          ]
         },
         "layout": {
          "annotationdefaults": {
           "arrowcolor": "#2a3f5f",
           "arrowhead": 0,
           "arrowwidth": 1
          },
          "autotypenumbers": "strict",
          "coloraxis": {
           "colorbar": {
            "outlinewidth": 0,
            "ticks": ""
           }
          },
          "colorscale": {
           "diverging": [
            [
             0,
             "#8e0152"
            ],
            [
             0.1,
             "#c51b7d"
            ],
            [
             0.2,
             "#de77ae"
            ],
            [
             0.3,
             "#f1b6da"
            ],
            [
             0.4,
             "#fde0ef"
            ],
            [
             0.5,
             "#f7f7f7"
            ],
            [
             0.6,
             "#e6f5d0"
            ],
            [
             0.7,
             "#b8e186"
            ],
            [
             0.8,
             "#7fbc41"
            ],
            [
             0.9,
             "#4d9221"
            ],
            [
             1,
             "#276419"
            ]
           ],
           "sequential": [
            [
             0,
             "#0d0887"
            ],
            [
             0.1111111111111111,
             "#46039f"
            ],
            [
             0.2222222222222222,
             "#7201a8"
            ],
            [
             0.3333333333333333,
             "#9c179e"
            ],
            [
             0.4444444444444444,
             "#bd3786"
            ],
            [
             0.5555555555555556,
             "#d8576b"
            ],
            [
             0.6666666666666666,
             "#ed7953"
            ],
            [
             0.7777777777777778,
             "#fb9f3a"
            ],
            [
             0.8888888888888888,
             "#fdca26"
            ],
            [
             1,
             "#f0f921"
            ]
           ],
           "sequentialminus": [
            [
             0,
             "#0d0887"
            ],
            [
             0.1111111111111111,
             "#46039f"
            ],
            [
             0.2222222222222222,
             "#7201a8"
            ],
            [
             0.3333333333333333,
             "#9c179e"
            ],
            [
             0.4444444444444444,
             "#bd3786"
            ],
            [
             0.5555555555555556,
             "#d8576b"
            ],
            [
             0.6666666666666666,
             "#ed7953"
            ],
            [
             0.7777777777777778,
             "#fb9f3a"
            ],
            [
             0.8888888888888888,
             "#fdca26"
            ],
            [
             1,
             "#f0f921"
            ]
           ]
          },
          "colorway": [
           "#636efa",
           "#EF553B",
           "#00cc96",
           "#ab63fa",
           "#FFA15A",
           "#19d3f3",
           "#FF6692",
           "#B6E880",
           "#FF97FF",
           "#FECB52"
          ],
          "font": {
           "color": "#2a3f5f"
          },
          "geo": {
           "bgcolor": "white",
           "lakecolor": "white",
           "landcolor": "#E5ECF6",
           "showlakes": true,
           "showland": true,
           "subunitcolor": "white"
          },
          "hoverlabel": {
           "align": "left"
          },
          "hovermode": "closest",
          "mapbox": {
           "style": "light"
          },
          "paper_bgcolor": "white",
          "plot_bgcolor": "#E5ECF6",
          "polar": {
           "angularaxis": {
            "gridcolor": "white",
            "linecolor": "white",
            "ticks": ""
           },
           "bgcolor": "#E5ECF6",
           "radialaxis": {
            "gridcolor": "white",
            "linecolor": "white",
            "ticks": ""
           }
          },
          "scene": {
           "xaxis": {
            "backgroundcolor": "#E5ECF6",
            "gridcolor": "white",
            "gridwidth": 2,
            "linecolor": "white",
            "showbackground": true,
            "ticks": "",
            "zerolinecolor": "white"
           },
           "yaxis": {
            "backgroundcolor": "#E5ECF6",
            "gridcolor": "white",
            "gridwidth": 2,
            "linecolor": "white",
            "showbackground": true,
            "ticks": "",
            "zerolinecolor": "white"
           },
           "zaxis": {
            "backgroundcolor": "#E5ECF6",
            "gridcolor": "white",
            "gridwidth": 2,
            "linecolor": "white",
            "showbackground": true,
            "ticks": "",
            "zerolinecolor": "white"
           }
          },
          "shapedefaults": {
           "line": {
            "color": "#2a3f5f"
           }
          },
          "ternary": {
           "aaxis": {
            "gridcolor": "white",
            "linecolor": "white",
            "ticks": ""
           },
           "baxis": {
            "gridcolor": "white",
            "linecolor": "white",
            "ticks": ""
           },
           "bgcolor": "#E5ECF6",
           "caxis": {
            "gridcolor": "white",
            "linecolor": "white",
            "ticks": ""
           }
          },
          "title": {
           "x": 0.05
          },
          "xaxis": {
           "automargin": true,
           "gridcolor": "white",
           "linecolor": "white",
           "ticks": "",
           "title": {
            "standoff": 15
           },
           "zerolinecolor": "white",
           "zerolinewidth": 2
          },
          "yaxis": {
           "automargin": true,
           "gridcolor": "white",
           "linecolor": "white",
           "ticks": "",
           "title": {
            "standoff": 15
           },
           "zerolinecolor": "white",
           "zerolinewidth": 2
          }
         }
        },
        "title": {
         "text": "3eiy - Residue Composition"
        },
        "xaxis": {
         "anchor": "y",
         "domain": [
          0,
          1
         ],
         "title": {
          "text": "index"
         }
        },
        "yaxis": {
         "anchor": "x",
         "domain": [
          0,
          1
         ],
         "title": {
          "text": "value"
         }
        }
       }
      }
     },
     "metadata": {},
     "output_type": "display_data"
    }
   ],
   "source": [
    "fig = plot_residue_composition(g, sort_by=\"count\", plot_type=\"bar\")\n",
    "fig.show()"
   ]
  },
  {
   "cell_type": "markdown",
   "metadata": {},
   "source": [
    "## Graph Summary Statistics\n",
    "We can compute graph-theoretic summary statistics for a given protein graph"
   ]
  },
  {
   "cell_type": "code",
   "execution_count": 4,
   "metadata": {},
   "outputs": [
    {
     "data": {
      "text/html": [
       "<div>\n",
       "<style scoped>\n",
       "    .dataframe tbody tr th:only-of-type {\n",
       "        vertical-align: middle;\n",
       "    }\n",
       "\n",
       "    .dataframe tbody tr th {\n",
       "        vertical-align: top;\n",
       "    }\n",
       "\n",
       "    .dataframe thead th {\n",
       "        text-align: right;\n",
       "    }\n",
       "</style>\n",
       "<table border=\"1\" class=\"dataframe\">\n",
       "  <thead>\n",
       "    <tr style=\"text-align: right;\">\n",
       "      <th></th>\n",
       "      <th>degree</th>\n",
       "      <th>betweenness_centrality</th>\n",
       "      <th>closeness_centrality</th>\n",
       "      <th>eigenvector_centrality</th>\n",
       "      <th>communicability_betweenness_centrality</th>\n",
       "      <th>residue_type</th>\n",
       "      <th>position</th>\n",
       "      <th>chain</th>\n",
       "    </tr>\n",
       "    <tr>\n",
       "      <th>node</th>\n",
       "      <th></th>\n",
       "      <th></th>\n",
       "      <th></th>\n",
       "      <th></th>\n",
       "      <th></th>\n",
       "      <th></th>\n",
       "      <th></th>\n",
       "      <th></th>\n",
       "    </tr>\n",
       "  </thead>\n",
       "  <tbody>\n",
       "    <tr>\n",
       "      <th>A:SER:2</th>\n",
       "      <td>1.0</td>\n",
       "      <td>0.000000</td>\n",
       "      <td>0.178719</td>\n",
       "      <td>0.005604</td>\n",
       "      <td>0.000954</td>\n",
       "      <td>SER</td>\n",
       "      <td>2</td>\n",
       "      <td>A</td>\n",
       "    </tr>\n",
       "    <tr>\n",
       "      <th>A:PHE:3</th>\n",
       "      <td>6.0</td>\n",
       "      <td>0.053228</td>\n",
       "      <td>0.217337</td>\n",
       "      <td>0.036295</td>\n",
       "      <td>0.070745</td>\n",
       "      <td>PHE</td>\n",
       "      <td>3</td>\n",
       "      <td>A</td>\n",
       "    </tr>\n",
       "    <tr>\n",
       "      <th>A:SER:4</th>\n",
       "      <td>2.0</td>\n",
       "      <td>0.002035</td>\n",
       "      <td>0.179461</td>\n",
       "      <td>0.006685</td>\n",
       "      <td>0.003441</td>\n",
       "      <td>SER</td>\n",
       "      <td>4</td>\n",
       "      <td>A</td>\n",
       "    </tr>\n",
       "    <tr>\n",
       "      <th>A:ASN:5</th>\n",
       "      <td>2.0</td>\n",
       "      <td>0.000750</td>\n",
       "      <td>0.174220</td>\n",
       "      <td>0.007002</td>\n",
       "      <td>0.002090</td>\n",
       "      <td>ASN</td>\n",
       "      <td>5</td>\n",
       "      <td>A</td>\n",
       "    </tr>\n",
       "    <tr>\n",
       "      <th>A:VAL:6</th>\n",
       "      <td>5.0</td>\n",
       "      <td>0.017827</td>\n",
       "      <td>0.204734</td>\n",
       "      <td>0.038670</td>\n",
       "      <td>0.026333</td>\n",
       "      <td>VAL</td>\n",
       "      <td>6</td>\n",
       "      <td>A</td>\n",
       "    </tr>\n",
       "    <tr>\n",
       "      <th>...</th>\n",
       "      <td>...</td>\n",
       "      <td>...</td>\n",
       "      <td>...</td>\n",
       "      <td>...</td>\n",
       "      <td>...</td>\n",
       "      <td>...</td>\n",
       "      <td>...</td>\n",
       "      <td>...</td>\n",
       "    </tr>\n",
       "    <tr>\n",
       "      <th>A:ALA:171</th>\n",
       "      <td>2.0</td>\n",
       "      <td>0.034513</td>\n",
       "      <td>0.170108</td>\n",
       "      <td>0.008591</td>\n",
       "      <td>0.037133</td>\n",
       "      <td>ALA</td>\n",
       "      <td>171</td>\n",
       "      <td>A</td>\n",
       "    </tr>\n",
       "    <tr>\n",
       "      <th>A:ASN:172</th>\n",
       "      <td>2.0</td>\n",
       "      <td>0.024214</td>\n",
       "      <td>0.147863</td>\n",
       "      <td>0.001368</td>\n",
       "      <td>0.026655</td>\n",
       "      <td>ASN</td>\n",
       "      <td>172</td>\n",
       "      <td>A</td>\n",
       "    </tr>\n",
       "    <tr>\n",
       "      <th>A:PHE:173</th>\n",
       "      <td>3.0</td>\n",
       "      <td>0.025774</td>\n",
       "      <td>0.135156</td>\n",
       "      <td>0.000269</td>\n",
       "      <td>0.026477</td>\n",
       "      <td>PHE</td>\n",
       "      <td>173</td>\n",
       "      <td>A</td>\n",
       "    </tr>\n",
       "    <tr>\n",
       "      <th>A:LYS:174</th>\n",
       "      <td>2.0</td>\n",
       "      <td>0.011561</td>\n",
       "      <td>0.119310</td>\n",
       "      <td>0.000043</td>\n",
       "      <td>0.011769</td>\n",
       "      <td>LYS</td>\n",
       "      <td>174</td>\n",
       "      <td>A</td>\n",
       "    </tr>\n",
       "    <tr>\n",
       "      <th>A:LYS:175</th>\n",
       "      <td>1.0</td>\n",
       "      <td>0.000000</td>\n",
       "      <td>0.106658</td>\n",
       "      <td>0.000007</td>\n",
       "      <td>0.000126</td>\n",
       "      <td>LYS</td>\n",
       "      <td>175</td>\n",
       "      <td>A</td>\n",
       "    </tr>\n",
       "  </tbody>\n",
       "</table>\n",
       "<p>174 rows × 8 columns</p>\n",
       "</div>"
      ],
      "text/plain": [
       "           degree  betweenness_centrality  closeness_centrality  \\\n",
       "node                                                              \n",
       "A:SER:2       1.0                0.000000              0.178719   \n",
       "A:PHE:3       6.0                0.053228              0.217337   \n",
       "A:SER:4       2.0                0.002035              0.179461   \n",
       "A:ASN:5       2.0                0.000750              0.174220   \n",
       "A:VAL:6       5.0                0.017827              0.204734   \n",
       "...           ...                     ...                   ...   \n",
       "A:ALA:171     2.0                0.034513              0.170108   \n",
       "A:ASN:172     2.0                0.024214              0.147863   \n",
       "A:PHE:173     3.0                0.025774              0.135156   \n",
       "A:LYS:174     2.0                0.011561              0.119310   \n",
       "A:LYS:175     1.0                0.000000              0.106658   \n",
       "\n",
       "           eigenvector_centrality  communicability_betweenness_centrality  \\\n",
       "node                                                                        \n",
       "A:SER:2                  0.005604                                0.000954   \n",
       "A:PHE:3                  0.036295                                0.070745   \n",
       "A:SER:4                  0.006685                                0.003441   \n",
       "A:ASN:5                  0.007002                                0.002090   \n",
       "A:VAL:6                  0.038670                                0.026333   \n",
       "...                           ...                                     ...   \n",
       "A:ALA:171                0.008591                                0.037133   \n",
       "A:ASN:172                0.001368                                0.026655   \n",
       "A:PHE:173                0.000269                                0.026477   \n",
       "A:LYS:174                0.000043                                0.011769   \n",
       "A:LYS:175                0.000007                                0.000126   \n",
       "\n",
       "          residue_type position chain  \n",
       "node                                   \n",
       "A:SER:2            SER        2     A  \n",
       "A:PHE:3            PHE        3     A  \n",
       "A:SER:4            SER        4     A  \n",
       "A:ASN:5            ASN        5     A  \n",
       "A:VAL:6            VAL        6     A  \n",
       "...                ...      ...   ...  \n",
       "A:ALA:171          ALA      171     A  \n",
       "A:ASN:172          ASN      172     A  \n",
       "A:PHE:173          PHE      173     A  \n",
       "A:LYS:174          LYS      174     A  \n",
       "A:LYS:175          LYS      175     A  \n",
       "\n",
       "[174 rows x 8 columns]"
      ]
     },
     "execution_count": 4,
     "metadata": {},
     "output_type": "execute_result"
    }
   ],
   "source": [
    "from graphein.protein.analysis import graph_summary\n",
    "\n",
    "graph_summary(g)"
   ]
  },
  {
   "cell_type": "code",
   "execution_count": 5,
   "metadata": {},
   "outputs": [
    {
     "data": {
      "application/vnd.plotly.v1+json": {
       "config": {
        "plotlyServerURL": "https://plot.ly"
       },
       "data": [
        {
         "coloraxis": "coloraxis",
         "hovertemplate": "node: %{x}<br>y: %{y}<br>color: %{z}<extra></extra>",
         "name": "0",
         "type": "heatmap",
         "x": [
          "A:SER:2",
          "A:PHE:3",
          "A:SER:4",
          "A:ASN:5",
          "A:VAL:6",
          "A:PRO:7",
          "A:ALA:8",
          "A:GLY:9",
          "A:LYS:10",
          "A:ASP:11",
          "A:LEU:12",
          "A:PRO:13",
          "A:GLN:14",
          "A:ASP:15",
          "A:PHE:16",
          "A:ASN:17",
          "A:VAL:18",
          "A:ILE:19",
          "A:ILE:20",
          "A:GLU:21",
          "A:ILE:22",
          "A:PRO:23",
          "A:ALA:24",
          "A:GLN:25",
          "A:SER:26",
          "A:GLU:27",
          "A:PRO:28",
          "A:VAL:29",
          "A:LYS:30",
          "A:TYR:31",
          "A:GLU:32",
          "A:ALA:33",
          "A:ASP:34",
          "A:LYS:35",
          "A:ALA:36",
          "A:LEU:37",
          "A:GLY:38",
          "A:LEU:39",
          "A:LEU:40",
          "A:VAL:41",
          "A:VAL:42",
          "A:ASP:43",
          "A:ARG:44",
          "A:PHE:45",
          "A:ILE:46",
          "A:GLY:47",
          "A:THR:48",
          "A:GLY:49",
          "A:MET:50",
          "A:ARG:51",
          "A:TYR:52",
          "A:PRO:53",
          "A:VAL:54",
          "A:ASN:55",
          "A:TYR:56",
          "A:GLY:57",
          "A:PHE:58",
          "A:ILE:59",
          "A:PRO:60",
          "A:GLN:61",
          "A:THR:62",
          "A:LEU:63",
          "A:SER:64",
          "A:GLY:65",
          "A:ASP:66",
          "A:GLY:67",
          "A:ASP:68",
          "A:PRO:69",
          "A:VAL:70",
          "A:ASP:71",
          "A:VAL:72",
          "A:LEU:73",
          "A:VAL:74",
          "A:ILE:75",
          "A:THR:76",
          "A:PRO:77",
          "A:PHE:78",
          "A:PRO:79",
          "A:LEU:80",
          "A:LEU:81",
          "A:ALA:82",
          "A:GLY:83",
          "A:SER:84",
          "A:VAL:85",
          "A:VAL:86",
          "A:ARG:87",
          "A:ALA:88",
          "A:ARG:89",
          "A:ALA:90",
          "A:LEU:91",
          "A:GLY:92",
          "A:MET:93",
          "A:LEU:94",
          "A:LYS:95",
          "A:MET:96",
          "A:THR:97",
          "A:ASP:98",
          "A:GLU:99",
          "A:SER:100",
          "A:GLY:101",
          "A:VAL:102",
          "A:ASP:103",
          "A:ALA:104",
          "A:LYS:105",
          "A:LEU:106",
          "A:VAL:107",
          "A:ALA:108",
          "A:VAL:109",
          "A:PRO:110",
          "A:HIS:111",
          "A:ASP:112",
          "A:LYS:113",
          "A:VAL:114",
          "A:CYS:115",
          "A:PRO:116",
          "A:MET:117",
          "A:THR:118",
          "A:ALA:119",
          "A:ASN:120",
          "A:LEU:121",
          "A:LYS:122",
          "A:SER:123",
          "A:ILE:124",
          "A:ASP:125",
          "A:ASP:126",
          "A:VAL:127",
          "A:PRO:128",
          "A:ALA:129",
          "A:TYR:130",
          "A:LEU:131",
          "A:LYS:132",
          "A:ASP:133",
          "A:GLN:134",
          "A:ILE:135",
          "A:LYS:136",
          "A:HIS:137",
          "A:PHE:138",
          "A:PHE:139",
          "A:GLU:140",
          "A:GLN:141",
          "A:TYR:142",
          "A:LYS:143",
          "A:ALA:144",
          "A:LEU:145",
          "A:GLU:146",
          "A:LYS:147",
          "A:GLY:148",
          "A:LYS:149",
          "A:TRP:150",
          "A:VAL:151",
          "A:LYS:152",
          "A:VAL:153",
          "A:GLU:154",
          "A:GLY:155",
          "A:TRP:156",
          "A:ASP:157",
          "A:GLY:158",
          "A:ILE:159",
          "A:ASP:160",
          "A:ALA:161",
          "A:ALA:162",
          "A:HIS:163",
          "A:LYS:164",
          "A:GLU:165",
          "A:ILE:166",
          "A:THR:167",
          "A:ASP:168",
          "A:GLY:169",
          "A:VAL:170",
          "A:ALA:171",
          "A:ASN:172",
          "A:PHE:173",
          "A:LYS:174",
          "A:LYS:175"
         ],
         "xaxis": "x",
         "y": [
          "degree",
          "betweenness_centrality",
          "closeness_centrality",
          "eigenvector_centrality",
          "communicability_betweenness_centrality"
         ],
         "yaxis": "y",
         "z": [
          [
           1,
           6,
           2,
           2,
           5,
           2,
           5,
           2,
           2,
           2,
           6,
           3,
           2,
           2,
           10,
           2,
           9,
           7,
           7,
           2,
           5,
           5,
           4,
           2,
           2,
           2,
           3,
           5,
           2,
           6,
           2,
           5,
           2,
           2,
           2,
           4,
           2,
           3,
           6,
           3,
           5,
           2,
           2,
           4,
           7,
           2,
           2,
           2,
           5,
           2,
           9,
           5,
           7,
           2,
           6,
           2,
           7,
           9,
           5,
           2,
           2,
           3,
           2,
           2,
           2,
           2,
           2,
           3,
           6,
           2,
           9,
           8,
           9,
           9,
           2,
           3,
           2,
           4,
           5,
           2,
           4,
           2,
           2,
           4,
           9,
           2,
           6,
           2,
           6,
           8,
           2,
           6,
           7,
           2,
           6,
           2,
           2,
           2,
           2,
           2,
           2,
           2,
           3,
           2,
           8,
           8,
           6,
           5,
           5,
           2,
           2,
           2,
           4,
           2,
           2,
           3,
           2,
           2,
           2,
           6,
           2,
           2,
           6,
           2,
           2,
           7,
           5,
           2,
           3,
           8,
           2,
           2,
           2,
           9,
           2,
           2,
           7,
           11,
           2,
           2,
           8,
           2,
           2,
           2,
           2,
           2,
           2,
           2,
           2,
           6,
           2,
           6,
           2,
           2,
           6,
           2,
           2,
           3,
           2,
           3,
           5,
           2,
           2,
           2,
           10,
           2,
           2,
           2,
           5,
           2,
           2,
           3,
           2,
           1
          ],
          [
           0,
           0.05322768323082323,
           0.0020348580086018376,
           0.0007495644711668368,
           0.017827287800428075,
           0.0032122128083002014,
           0.033450536576057274,
           0.005574541140477425,
           0.00006721333512568894,
           0.005918939166015384,
           0.026168337343376154,
           0.004350496748866233,
           0.00006721333512568894,
           0.007142983557626576,
           0.07377594192753173,
           0,
           0.0570058562945924,
           0.053595107166094856,
           0.046866533898437875,
           0.00426893198694035,
           0.0595164828632,
           0.04403567678236315,
           0.03202395424315709,
           0.010867240256271029,
           0.003055076989745627,
           0.00374292926383261,
           0.015695904302266552,
           0.009166478862506558,
           0,
           0.05632923976925615,
           0.005291654697452261,
           0.050464418341478356,
           0.015958790338418672,
           0.005696434286978059,
           0.0011639109199265139,
           0.008263748746669148,
           0,
           0.01570137311829784,
           0.06807058606995642,
           0.017915721266040713,
           0.02400274942121759,
           0.0010961156511633725,
           0.002036683106449161,
           0.02862784995456655,
           0.07483178300153474,
           0.00978234601457102,
           0.00006721333512568894,
           0.0017111342919217995,
           0.01384090083760445,
           0.0019652688225195065,
           0.11629945820462007,
           0.023518987206021934,
           0.04485414756152362,
           0.0009602995186301848,
           0.05235637710100116,
           0.028640299051901685,
           0.10605597991561179,
           0.12993542100041208,
           0.060784827206272825,
           0.04252068825943123,
           0.03223704798520085,
           0.025361061813259738,
           0.0030208712289637157,
           0.0015347044853698973,
           0.010612233579030194,
           0.02096308718838629,
           0.031448367467993774,
           0.04318173367855883,
           0.03974927334748586,
           0,
           0.1127779643761299,
           0.17796499146249656,
           0.10521572480414601,
           0.08247970997055284,
           0.021267386797811393,
           0.018719883746525542,
           0.007680126110339828,
           0.018172426166758335,
           0.020862466588271154,
           0.0032537622750412765,
           0.023330842060692525,
           0.0022574078697213517,
           0.004129164572236551,
           0.021602153374980382,
           0.06463612649646866,
           0,
           0.015241464020113612,
           0.0013282652581093105,
           0.05483426890401487,
           0.04834750953619218,
           0.005570244534111436,
           0.08039638381729183,
           0.07318599486553339,
           0,
           0.04672173634344856,
           0.030787018595606872,
           0.019831244970119576,
           0.008942684679757971,
           0.0023639870185895506,
           0.005049209315575763,
           0.014380342608856083,
           0.02533611623434339,
           0.03698640583361806,
           0.0126913930418009,
           0.12060372752927453,
           0.08314790704419052,
           0.018416538588878092,
           0.015173399838335846,
           0.03482839844444286,
           0.009611604951696119,
           0.00006721333512568894,
           0.001881875354796693,
           0.03467023008252019,
           0.011336098600107779,
           0.003100550116204979,
           0.008893279114250509,
           0.0010626487782355505,
           0.006741546232732692,
           0.017295122113469476,
           0.04262003301525125,
           0.0009131288570729357,
           0.00172114725060789,
           0.02519715470557037,
           0.0002925647115054294,
           0.0005864155523047848,
           0.025181374192634245,
           0.013352129389350197,
           0,
           0.002774989159247796,
           0.04896755439381092,
           0.003428886165141038,
           0.00006721333512568894,
           0.008064594141351767,
           0.06767295797645907,
           0.0032956098831662907,
           0.0014139605297691063,
           0.029819651510095878,
           0.15593986133993729,
           0.002960560053506601,
           0.00040338912331115587,
           0.07427745500769205,
           0.03427183953296334,
           0.02324885257235035,
           0.012225865611737373,
           0.001440365768568484,
           0.0007751937984496123,
           0.010895521671499623,
           0.02191850863211262,
           0.032941495592725606,
           0.052238172479818636,
           0,
           0.018512401275767875,
           0.0013014279660740055,
           0.0029937406248066287,
           0.03902716040345175,
           0.006159141973767595,
           0.0020763052722993576,
           0.013142139708210416,
           0.0008357658159378822,
           0.006228076676053556,
           0.02362419516065187,
           0.004416477766062646,
           0.00041672267777927163,
           0.007426511883083747,
           0.11304090920881336,
           0.010521184838969487,
           0.00006721333512568894,
           0.0009722954675233208,
           0.0567655559863565,
           0.034513267165436935,
           0.02421394377967719,
           0.025774011587614398,
           0.011560693641618498,
           0
          ],
          [
           0.1787190082644628,
           0.21733668341708542,
           0.17946058091286307,
           0.17421953675730112,
           0.20473372781065088,
           0.18948521358159912,
           0.21733668341708542,
           0.17927461139896372,
           0.15585585585585585,
           0.17816683831101957,
           0.21571072319201995,
           0.19548022598870057,
           0.1752786220871327,
           0.20329024676850763,
           0.2536656891495601,
           0.21464019851116625,
           0.2578241430700447,
           0.23159303882195448,
           0.25,
           0.22094508301404853,
           0.2303595206391478,
           0.23473541383989144,
           0.22010178117048346,
           0.1828752642706131,
           0.1624413145539906,
           0.16093023255813954,
           0.1858216970998926,
           0.1779835390946502,
           0.17248255234297108,
           0.20546318289786222,
           0.19200887902330743,
           0.20944309927360774,
           0.17421953675730112,
           0.15069686411149827,
           0.13974151857835218,
           0.1522887323943662,
           0.1481164383561644,
           0.17145688800792863,
           0.20497630331753555,
           0.1778006166495375,
           0.17816683831101957,
           0.1516213847502191,
           0.15741583257506825,
           0.18622174381054898,
           0.21544209215442092,
           0.1779835390946502,
           0.15175438596491228,
           0.16093023255813954,
           0.19094922737306844,
           0.20425029515938606,
           0.25441176470588234,
           0.2255541069100391,
           0.2443502824858757,
           0.21761006289308177,
           0.25441176470588234,
           0.23159303882195448,
           0.24366197183098592,
           0.26371951219512196,
           0.22733245729303547,
           0.1888646288209607,
           0.1618334892422825,
           0.14238683127572016,
           0.125544267053701,
           0.12200282087447109,
           0.13622047244094487,
           0.1550179211469534,
           0.18020833333333333,
           0.21625,
           0.24714285714285714,
           0.2220795892169448,
           0.2763578274760383,
           0.27813504823151125,
           0.2686335403726708,
           0.2446958981612447,
           0.19953863898500576,
           0.17617107942973523,
           0.1778006166495375,
           0.20843373493975903,
           0.23221476510067113,
           0.19794050343249428,
           0.20092915214866433,
           0.17369477911646586,
           0.180773249738767,
           0.21358024691358024,
           0.24061196105702365,
           0.2023391812865497,
           0.2261437908496732,
           0.2023391812865497,
           0.23473541383989144,
           0.24027777777777778,
           0.21571072319201995,
           0.242296918767507,
           0.24297752808988765,
           0.19794050343249428,
           0.2189873417721519,
           0.18153200419727178,
           0.1550179211469534,
           0.13536776212832552,
           0.12446043165467625,
           0.12729948491537896,
           0.1440466278101582,
           0.16666666666666666,
           0.1977142857142857,
           0.21046228710462286,
           0.2617246596066566,
           0.2665639445300462,
           0.24679029957203993,
           0.22179487179487178,
           0.2232258064516129,
           0.1832627118644068,
           0.15599639314697927,
           0.16747337850919652,
           0.20023148148148148,
           0.1689453125,
           0.14875322441960448,
           0.15336879432624115,
           0.13884430176565007,
           0.1516213847502191,
           0.17617107942973523,
           0.2114914425427873,
           0.17761806981519507,
           0.18463180362860193,
           0.2243839169909209,
           0.18384697130712008,
           0.1876355748373102,
           0.2300531914893617,
           0.20595238095238094,
           0.17111770524233433,
           0.1905286343612335,
           0.2325268817204301,
           0.18948521358159912,
           0.17077986179664364,
           0.20046349942062572,
           0.24927953890489912,
           0.20400943396226415,
           0.1866235167206041,
           0.22526041666666666,
           0.25667655786350146,
           0.20497630331753555,
           0.18210526315789474,
           0.22179487179487178,
           0.1832627118644068,
           0.15613718411552346,
           0.1360062893081761,
           0.12047353760445682,
           0.1184931506849315,
           0.13348765432098766,
           0.15282685512367492,
           0.1787190082644628,
           0.21517412935323382,
           0.18443496801705758,
           0.21815889029003782,
           0.18404255319148935,
           0.19094922737306844,
           0.23283983849259757,
           0.19073869900771775,
           0.1787190082644628,
           0.19329608938547485,
           0.17725409836065573,
           0.19885057471264367,
           0.2255541069100391,
           0.18502673796791444,
           0.17010816125860373,
           0.1943820224719101,
           0.23961218836565096,
           0.1941638608305275,
           0.16476190476190475,
           0.16779825412221144,
           0.20069605568445475,
           0.17010816125860373,
           0.14786324786324787,
           0.13515625,
           0.1193103448275862,
           0.10665844636251541
          ],
          [
           0.005603584005315519,
           0.036295408714033105,
           0.006684642079511436,
           0.007002235729676022,
           0.03867015561106481,
           0.015605298525101216,
           0.062408236423440185,
           0.010233605379394984,
           0.0038767192531952927,
           0.014876681344138616,
           0.09248224524767688,
           0.04387882685191156,
           0.012916502581658267,
           0.03978363608982308,
           0.24476813962872687,
           0.07710974453525231,
           0.2546828229223045,
           0.10516321066735264,
           0.14660503959888888,
           0.030615842258447216,
           0.05169481500166359,
           0.041312517291614885,
           0.031230886499991565,
           0.004987922289317486,
           0.0010753740932918515,
           0.001977048209935735,
           0.01172916018099088,
           0.007231429807147968,
           0.0031914126111335034,
           0.013438525723083626,
           0.005436816230777319,
           0.021775904653837354,
           0.003449814537606873,
           0.0005691391195098697,
           0.000236603976512272,
           0.0009633684745984722,
           0.0005094937566829749,
           0.0023366675647119245,
           0.013661966365958168,
           0.0031570092367898123,
           0.005822540754120381,
           0.0012299986348813597,
           0.0021437076131651193,
           0.012653896093607663,
           0.06675681850176221,
           0.01074871797828235,
           0.0028584956034938716,
           0.0077645047229383465,
           0.04742902924854904,
           0.030049189351781327,
           0.1471902148791566,
           0.10075936770958968,
           0.1294143097982091,
           0.035769803290303395,
           0.10226013295699309,
           0.028479789120842817,
           0.08220195136218071,
           0.2316284728128563,
           0.07242786361559989,
           0.011463139056906602,
           0.0018209149387908563,
           0.00033128171614470035,
           0.00005597447670099832,
           0.00003127855918588524,
           0.00014662410518651392,
           0.0009184356345267297,
           0.005802252852176106,
           0.03666372934741013,
           0.14947237275456712,
           0.06553155453090903,
           0.2749833763531658,
           0.2192071300683208,
           0.24962993200714406,
           0.1775077870237711,
           0.02822155510006067,
           0.005282429745113697,
           0.004916971284305013,
           0.026564992613481785,
           0.09460242267219493,
           0.016379035975655997,
           0.011486350480265932,
           0.003044285407435818,
           0.008231826274788535,
           0.05027457012661819,
           0.17357067090115083,
           0.049362152361129834,
           0.14615475440836417,
           0.03863963776032447,
           0.10411949955358903,
           0.13636659961514552,
           0.03066767087603704,
           0.062267785669646594,
           0.09992278502554358,
           0.026344054749583144,
           0.07069982940806299,
           0.011189577092276254,
           0.0017711911450923488,
           0.00028174264859345507,
           0.00005353479346301537,
           0.00006498123533265566,
           0.0003673477000099316,
           0.0023143459254975737,
           0.014622770692440239,
           0.030130151279343053,
           0.18053350241940858,
           0.1839474374537888,
           0.18564035539624174,
           0.10292545392046616,
           0.09007143908995487,
           0.014419808000865295,
           0.0033270678062078773,
           0.007130002899912308,
           0.04285489141753037,
           0.006804162997428362,
           0.0012165619580293031,
           0.0010756585707002691,
           0.00046805129365451155,
           0.001955899889549626,
           0.012200258398742333,
           0.07706489196202554,
           0.014294030798493014,
           0.015517143345497614,
           0.08620977354471616,
           0.016585237322614136,
           0.02121194184012603,
           0.12080333825939028,
           0.05585372917797348,
           0.013161224579742207,
           0.02938999706631148,
           0.12134021908891025,
           0.01979234471877798,
           0.0068518420451494635,
           0.024585628347341328,
           0.15238406793528708,
           0.026599852361262718,
           0.019897090760399312,
           0.1022670667043333,
           0.17997629855719352,
           0.030917446491900986,
           0.020266747145120414,
           0.10034301489796661,
           0.01588120269342377,
           0.0025136879654094235,
           0.00039891915626636787,
           0.00006992760116852438,
           0.00005396551598928243,
           0.0002795785480033329,
           0.001756734915958441,
           0.011098065173849403,
           0.07012131944463497,
           0.021688433748468707,
           0.07034691825143555,
           0.013206444478951853,
           0.015187014568780062,
           0.08515724708327511,
           0.013901569181667798,
           0.004881342055058191,
           0.017714918913906575,
           0.005740831333090333,
           0.019468980698037475,
           0.05809303217292949,
           0.009884426741064425,
           0.005929505827061392,
           0.028521955813971586,
           0.17881186918645312,
           0.028507207665902274,
           0.005834002187532875,
           0.00928071543988116,
           0.054278965279772835,
           0.008591201993265003,
           0.0013678878585548107,
           0.0002688951835287636,
           0.00004252738060102115,
           0.000006565620352724713
          ],
          [
           0.0009537617993682485,
           0.07074547332206543,
           0.003440681257066719,
           0.002089745964762669,
           0.026333103139643068,
           0.0035941230845279756,
           0.04362137864513258,
           0.005774518969937564,
           0.0007259482345023312,
           0.007382918512095874,
           0.055841561335762575,
           0.011600035006970228,
           0.0008945679433725069,
           0.00785248456800003,
           0.14639119282979943,
           0.007803597440108302,
           0.14680767986037452,
           0.0942585505669218,
           0.08676061991360168,
           0.008467226235882247,
           0.0694900415722316,
           0.048218221571879924,
           0.034426349946899075,
           0.010358242418464338,
           0.0024341818109738568,
           0.004097940396728068,
           0.020661608276741024,
           0.020911958702691146,
           0.0031814825743175837,
           0.06153398116811012,
           0.00807950661749091,
           0.05987510779646587,
           0.015160043025253511,
           0.004496025500111805,
           0.0016439104052491575,
           0.0132076144173822,
           0.001496766867208681,
           0.01816732185011323,
           0.07501057449539114,
           0.021599511475067102,
           0.03022261413824559,
           0.002055990331908136,
           0.0029482775088418233,
           0.032672343621037304,
           0.09428120917687019,
           0.008986744632979377,
           0.0007442844026635462,
           0.004526997475185573,
           0.03039341520212134,
           0.006091625426971921,
           0.16634149179351693,
           0.050565904751183076,
           0.08460331391173016,
           0.005204951739433882,
           0.08141720111399649,
           0.021997611205792973,
           0.12077573676513415,
           0.19957745547125985,
           0.08000793380532921,
           0.04154783476747547,
           0.030917667672918776,
           0.024363921525224094,
           0.004158180628863399,
           0.002127689958711363,
           0.010271493886235184,
           0.020646314030608178,
           0.03132839621857682,
           0.048535119441780794,
           0.08252177016780797,
           0.007123418371139619,
           0.19837817959185605,
           0.24778409027467246,
           0.1842755321549981,
           0.133790476073069,
           0.022822710649384362,
           0.017749201337741903,
           0.00716852511534986,
           0.024415665432853055,
           0.042960762635141,
           0.005705657484713151,
           0.024618687718278236,
           0.0023763421794720345,
           0.004458530034070822,
           0.0282464960183194,
           0.1050875117184545,
           0.004087757622762265,
           0.042655550972241905,
           0.0038185590930409005,
           0.06675751988507324,
           0.08056307109253373,
           0.007518677406990089,
           0.0808641986397615,
           0.0956079034479437,
           0.0050461230115932485,
           0.07118798553785395,
           0.031755276458438376,
           0.02041856756756711,
           0.009631971280152259,
           0.002685903033094482,
           0.004880334701685859,
           0.0141860028215396,
           0.0251734435720586,
           0.03813064189341491,
           0.015976968870243278,
           0.15710373344444672,
           0.1337257874836445,
           0.0721222241863526,
           0.03897392530259024,
           0.050257033237839026,
           0.009285056254450101,
           0.0008718172272738393,
           0.003918535123747475,
           0.04009718008278643,
           0.01228875966589661,
           0.003410213478358805,
           0.00836998698769709,
           0.0014288402529474716,
           0.007302844807462442,
           0.018332016832320944,
           0.05511126444383246,
           0.0022235118672500687,
           0.0026005721653408116,
           0.04305609407565409,
           0.0018565329693500069,
           0.002701135968117105,
           0.05891315468999722,
           0.02319108560309936,
           0.0011308849148313896,
           0.007218367663916245,
           0.07976650694538678,
           0.005874000305290017,
           0.0008414554701602856,
           0.00877243486824494,
           0.12353610580933824,
           0.004699103316827473,
           0.0025885002027188605,
           0.07627065322660118,
           0.22200763930688872,
           0.006061871440350192,
           0.002835886157776788,
           0.1163239227634885,
           0.03565627791041124,
           0.0237384445778884,
           0.012681233060384156,
           0.002425091473467742,
           0.0014800538705549405,
           0.010768172883735778,
           0.02179996060300935,
           0.03322712069899232,
           0.07460679381633883,
           0.0032244106212684256,
           0.04553656605453633,
           0.0023877439633181318,
           0.003689679191198163,
           0.059403977141945154,
           0.007076259832177354,
           0.00196525821626307,
           0.012789303182310856,
           0.0015289146823499631,
           0.01105503719801344,
           0.038435028176228854,
           0.004501831039013604,
           0.0011493331145910875,
           0.010344641382834573,
           0.15646213842627424,
           0.011856933569239588,
           0.0011621005757804716,
           0.0032876784319815023,
           0.06832241627825868,
           0.03713266653857182,
           0.026654518118818613,
           0.02647669337693696,
           0.011769444427517794,
           0.0001261099414032021
          ]
         ]
        }
       ],
       "layout": {
        "coloraxis": {
         "colorscale": [
          [
           0,
           "#0d0887"
          ],
          [
           0.1111111111111111,
           "#46039f"
          ],
          [
           0.2222222222222222,
           "#7201a8"
          ],
          [
           0.3333333333333333,
           "#9c179e"
          ],
          [
           0.4444444444444444,
           "#bd3786"
          ],
          [
           0.5555555555555556,
           "#d8576b"
          ],
          [
           0.6666666666666666,
           "#ed7953"
          ],
          [
           0.7777777777777778,
           "#fb9f3a"
          ],
          [
           0.8888888888888888,
           "#fdca26"
          ],
          [
           1,
           "#f0f921"
          ]
         ]
        },
        "margin": {
         "t": 60
        },
        "template": {
         "data": {
          "bar": [
           {
            "error_x": {
             "color": "#2a3f5f"
            },
            "error_y": {
             "color": "#2a3f5f"
            },
            "marker": {
             "line": {
              "color": "#E5ECF6",
              "width": 0.5
             },
             "pattern": {
              "fillmode": "overlay",
              "size": 10,
              "solidity": 0.2
             }
            },
            "type": "bar"
           }
          ],
          "barpolar": [
           {
            "marker": {
             "line": {
              "color": "#E5ECF6",
              "width": 0.5
             },
             "pattern": {
              "fillmode": "overlay",
              "size": 10,
              "solidity": 0.2
             }
            },
            "type": "barpolar"
           }
          ],
          "carpet": [
           {
            "aaxis": {
             "endlinecolor": "#2a3f5f",
             "gridcolor": "white",
             "linecolor": "white",
             "minorgridcolor": "white",
             "startlinecolor": "#2a3f5f"
            },
            "baxis": {
             "endlinecolor": "#2a3f5f",
             "gridcolor": "white",
             "linecolor": "white",
             "minorgridcolor": "white",
             "startlinecolor": "#2a3f5f"
            },
            "type": "carpet"
           }
          ],
          "choropleth": [
           {
            "colorbar": {
             "outlinewidth": 0,
             "ticks": ""
            },
            "type": "choropleth"
           }
          ],
          "contour": [
           {
            "colorbar": {
             "outlinewidth": 0,
             "ticks": ""
            },
            "colorscale": [
             [
              0,
              "#0d0887"
             ],
             [
              0.1111111111111111,
              "#46039f"
             ],
             [
              0.2222222222222222,
              "#7201a8"
             ],
             [
              0.3333333333333333,
              "#9c179e"
             ],
             [
              0.4444444444444444,
              "#bd3786"
             ],
             [
              0.5555555555555556,
              "#d8576b"
             ],
             [
              0.6666666666666666,
              "#ed7953"
             ],
             [
              0.7777777777777778,
              "#fb9f3a"
             ],
             [
              0.8888888888888888,
              "#fdca26"
             ],
             [
              1,
              "#f0f921"
             ]
            ],
            "type": "contour"
           }
          ],
          "contourcarpet": [
           {
            "colorbar": {
             "outlinewidth": 0,
             "ticks": ""
            },
            "type": "contourcarpet"
           }
          ],
          "heatmap": [
           {
            "colorbar": {
             "outlinewidth": 0,
             "ticks": ""
            },
            "colorscale": [
             [
              0,
              "#0d0887"
             ],
             [
              0.1111111111111111,
              "#46039f"
             ],
             [
              0.2222222222222222,
              "#7201a8"
             ],
             [
              0.3333333333333333,
              "#9c179e"
             ],
             [
              0.4444444444444444,
              "#bd3786"
             ],
             [
              0.5555555555555556,
              "#d8576b"
             ],
             [
              0.6666666666666666,
              "#ed7953"
             ],
             [
              0.7777777777777778,
              "#fb9f3a"
             ],
             [
              0.8888888888888888,
              "#fdca26"
             ],
             [
              1,
              "#f0f921"
             ]
            ],
            "type": "heatmap"
           }
          ],
          "heatmapgl": [
           {
            "colorbar": {
             "outlinewidth": 0,
             "ticks": ""
            },
            "colorscale": [
             [
              0,
              "#0d0887"
             ],
             [
              0.1111111111111111,
              "#46039f"
             ],
             [
              0.2222222222222222,
              "#7201a8"
             ],
             [
              0.3333333333333333,
              "#9c179e"
             ],
             [
              0.4444444444444444,
              "#bd3786"
             ],
             [
              0.5555555555555556,
              "#d8576b"
             ],
             [
              0.6666666666666666,
              "#ed7953"
             ],
             [
              0.7777777777777778,
              "#fb9f3a"
             ],
             [
              0.8888888888888888,
              "#fdca26"
             ],
             [
              1,
              "#f0f921"
             ]
            ],
            "type": "heatmapgl"
           }
          ],
          "histogram": [
           {
            "marker": {
             "pattern": {
              "fillmode": "overlay",
              "size": 10,
              "solidity": 0.2
             }
            },
            "type": "histogram"
           }
          ],
          "histogram2d": [
           {
            "colorbar": {
             "outlinewidth": 0,
             "ticks": ""
            },
            "colorscale": [
             [
              0,
              "#0d0887"
             ],
             [
              0.1111111111111111,
              "#46039f"
             ],
             [
              0.2222222222222222,
              "#7201a8"
             ],
             [
              0.3333333333333333,
              "#9c179e"
             ],
             [
              0.4444444444444444,
              "#bd3786"
             ],
             [
              0.5555555555555556,
              "#d8576b"
             ],
             [
              0.6666666666666666,
              "#ed7953"
             ],
             [
              0.7777777777777778,
              "#fb9f3a"
             ],
             [
              0.8888888888888888,
              "#fdca26"
             ],
             [
              1,
              "#f0f921"
             ]
            ],
            "type": "histogram2d"
           }
          ],
          "histogram2dcontour": [
           {
            "colorbar": {
             "outlinewidth": 0,
             "ticks": ""
            },
            "colorscale": [
             [
              0,
              "#0d0887"
             ],
             [
              0.1111111111111111,
              "#46039f"
             ],
             [
              0.2222222222222222,
              "#7201a8"
             ],
             [
              0.3333333333333333,
              "#9c179e"
             ],
             [
              0.4444444444444444,
              "#bd3786"
             ],
             [
              0.5555555555555556,
              "#d8576b"
             ],
             [
              0.6666666666666666,
              "#ed7953"
             ],
             [
              0.7777777777777778,
              "#fb9f3a"
             ],
             [
              0.8888888888888888,
              "#fdca26"
             ],
             [
              1,
              "#f0f921"
             ]
            ],
            "type": "histogram2dcontour"
           }
          ],
          "mesh3d": [
           {
            "colorbar": {
             "outlinewidth": 0,
             "ticks": ""
            },
            "type": "mesh3d"
           }
          ],
          "parcoords": [
           {
            "line": {
             "colorbar": {
              "outlinewidth": 0,
              "ticks": ""
             }
            },
            "type": "parcoords"
           }
          ],
          "pie": [
           {
            "automargin": true,
            "type": "pie"
           }
          ],
          "scatter": [
           {
            "marker": {
             "colorbar": {
              "outlinewidth": 0,
              "ticks": ""
             }
            },
            "type": "scatter"
           }
          ],
          "scatter3d": [
           {
            "line": {
             "colorbar": {
              "outlinewidth": 0,
              "ticks": ""
             }
            },
            "marker": {
             "colorbar": {
              "outlinewidth": 0,
              "ticks": ""
             }
            },
            "type": "scatter3d"
           }
          ],
          "scattercarpet": [
           {
            "marker": {
             "colorbar": {
              "outlinewidth": 0,
              "ticks": ""
             }
            },
            "type": "scattercarpet"
           }
          ],
          "scattergeo": [
           {
            "marker": {
             "colorbar": {
              "outlinewidth": 0,
              "ticks": ""
             }
            },
            "type": "scattergeo"
           }
          ],
          "scattergl": [
           {
            "marker": {
             "colorbar": {
              "outlinewidth": 0,
              "ticks": ""
             }
            },
            "type": "scattergl"
           }
          ],
          "scattermapbox": [
           {
            "marker": {
             "colorbar": {
              "outlinewidth": 0,
              "ticks": ""
             }
            },
            "type": "scattermapbox"
           }
          ],
          "scatterpolar": [
           {
            "marker": {
             "colorbar": {
              "outlinewidth": 0,
              "ticks": ""
             }
            },
            "type": "scatterpolar"
           }
          ],
          "scatterpolargl": [
           {
            "marker": {
             "colorbar": {
              "outlinewidth": 0,
              "ticks": ""
             }
            },
            "type": "scatterpolargl"
           }
          ],
          "scatterternary": [
           {
            "marker": {
             "colorbar": {
              "outlinewidth": 0,
              "ticks": ""
             }
            },
            "type": "scatterternary"
           }
          ],
          "surface": [
           {
            "colorbar": {
             "outlinewidth": 0,
             "ticks": ""
            },
            "colorscale": [
             [
              0,
              "#0d0887"
             ],
             [
              0.1111111111111111,
              "#46039f"
             ],
             [
              0.2222222222222222,
              "#7201a8"
             ],
             [
              0.3333333333333333,
              "#9c179e"
             ],
             [
              0.4444444444444444,
              "#bd3786"
             ],
             [
              0.5555555555555556,
              "#d8576b"
             ],
             [
              0.6666666666666666,
              "#ed7953"
             ],
             [
              0.7777777777777778,
              "#fb9f3a"
             ],
             [
              0.8888888888888888,
              "#fdca26"
             ],
             [
              1,
              "#f0f921"
             ]
            ],
            "type": "surface"
           }
          ],
          "table": [
           {
            "cells": {
             "fill": {
              "color": "#EBF0F8"
             },
             "line": {
              "color": "white"
             }
            },
            "header": {
             "fill": {
              "color": "#C8D4E3"
             },
             "line": {
              "color": "white"
             }
            },
            "type": "table"
           }
          ]
         },
         "layout": {
          "annotationdefaults": {
           "arrowcolor": "#2a3f5f",
           "arrowhead": 0,
           "arrowwidth": 1
          },
          "autotypenumbers": "strict",
          "coloraxis": {
           "colorbar": {
            "outlinewidth": 0,
            "ticks": ""
           }
          },
          "colorscale": {
           "diverging": [
            [
             0,
             "#8e0152"
            ],
            [
             0.1,
             "#c51b7d"
            ],
            [
             0.2,
             "#de77ae"
            ],
            [
             0.3,
             "#f1b6da"
            ],
            [
             0.4,
             "#fde0ef"
            ],
            [
             0.5,
             "#f7f7f7"
            ],
            [
             0.6,
             "#e6f5d0"
            ],
            [
             0.7,
             "#b8e186"
            ],
            [
             0.8,
             "#7fbc41"
            ],
            [
             0.9,
             "#4d9221"
            ],
            [
             1,
             "#276419"
            ]
           ],
           "sequential": [
            [
             0,
             "#0d0887"
            ],
            [
             0.1111111111111111,
             "#46039f"
            ],
            [
             0.2222222222222222,
             "#7201a8"
            ],
            [
             0.3333333333333333,
             "#9c179e"
            ],
            [
             0.4444444444444444,
             "#bd3786"
            ],
            [
             0.5555555555555556,
             "#d8576b"
            ],
            [
             0.6666666666666666,
             "#ed7953"
            ],
            [
             0.7777777777777778,
             "#fb9f3a"
            ],
            [
             0.8888888888888888,
             "#fdca26"
            ],
            [
             1,
             "#f0f921"
            ]
           ],
           "sequentialminus": [
            [
             0,
             "#0d0887"
            ],
            [
             0.1111111111111111,
             "#46039f"
            ],
            [
             0.2222222222222222,
             "#7201a8"
            ],
            [
             0.3333333333333333,
             "#9c179e"
            ],
            [
             0.4444444444444444,
             "#bd3786"
            ],
            [
             0.5555555555555556,
             "#d8576b"
            ],
            [
             0.6666666666666666,
             "#ed7953"
            ],
            [
             0.7777777777777778,
             "#fb9f3a"
            ],
            [
             0.8888888888888888,
             "#fdca26"
            ],
            [
             1,
             "#f0f921"
            ]
           ]
          },
          "colorway": [
           "#636efa",
           "#EF553B",
           "#00cc96",
           "#ab63fa",
           "#FFA15A",
           "#19d3f3",
           "#FF6692",
           "#B6E880",
           "#FF97FF",
           "#FECB52"
          ],
          "font": {
           "color": "#2a3f5f"
          },
          "geo": {
           "bgcolor": "white",
           "lakecolor": "white",
           "landcolor": "#E5ECF6",
           "showlakes": true,
           "showland": true,
           "subunitcolor": "white"
          },
          "hoverlabel": {
           "align": "left"
          },
          "hovermode": "closest",
          "mapbox": {
           "style": "light"
          },
          "paper_bgcolor": "white",
          "plot_bgcolor": "#E5ECF6",
          "polar": {
           "angularaxis": {
            "gridcolor": "white",
            "linecolor": "white",
            "ticks": ""
           },
           "bgcolor": "#E5ECF6",
           "radialaxis": {
            "gridcolor": "white",
            "linecolor": "white",
            "ticks": ""
           }
          },
          "scene": {
           "xaxis": {
            "backgroundcolor": "#E5ECF6",
            "gridcolor": "white",
            "gridwidth": 2,
            "linecolor": "white",
            "showbackground": true,
            "ticks": "",
            "zerolinecolor": "white"
           },
           "yaxis": {
            "backgroundcolor": "#E5ECF6",
            "gridcolor": "white",
            "gridwidth": 2,
            "linecolor": "white",
            "showbackground": true,
            "ticks": "",
            "zerolinecolor": "white"
           },
           "zaxis": {
            "backgroundcolor": "#E5ECF6",
            "gridcolor": "white",
            "gridwidth": 2,
            "linecolor": "white",
            "showbackground": true,
            "ticks": "",
            "zerolinecolor": "white"
           }
          },
          "shapedefaults": {
           "line": {
            "color": "#2a3f5f"
           }
          },
          "ternary": {
           "aaxis": {
            "gridcolor": "white",
            "linecolor": "white",
            "ticks": ""
           },
           "baxis": {
            "gridcolor": "white",
            "linecolor": "white",
            "ticks": ""
           },
           "bgcolor": "#E5ECF6",
           "caxis": {
            "gridcolor": "white",
            "linecolor": "white",
            "ticks": ""
           }
          },
          "title": {
           "x": 0.05
          },
          "xaxis": {
           "automargin": true,
           "gridcolor": "white",
           "linecolor": "white",
           "ticks": "",
           "title": {
            "standoff": 15
           },
           "zerolinecolor": "white",
           "zerolinewidth": 2
          },
          "yaxis": {
           "automargin": true,
           "gridcolor": "white",
           "linecolor": "white",
           "ticks": "",
           "title": {
            "standoff": 15
           },
           "zerolinecolor": "white",
           "zerolinewidth": 2
          }
         }
        },
        "xaxis": {
         "anchor": "y",
         "constrain": "domain",
         "domain": [
          0,
          1
         ],
         "scaleanchor": "y",
         "title": {
          "text": "node"
         }
        },
        "yaxis": {
         "anchor": "x",
         "autorange": "reversed",
         "constrain": "domain",
         "domain": [
          0,
          1
         ]
        }
       }
      }
     },
     "metadata": {},
     "output_type": "display_data"
    }
   ],
   "source": [
    "graph_summary(g, plot=True)"
   ]
  },
  {
   "cell_type": "markdown",
   "metadata": {},
   "source": [
    "## Degree Distribution\n",
    "\n",
    "We can plot the distribution of node degrees over the protein graph"
   ]
  },
  {
   "cell_type": "code",
   "execution_count": 7,
   "metadata": {},
   "outputs": [
    {
     "data": {
      "application/vnd.plotly.v1+json": {
       "config": {
        "plotlyServerURL": "https://plot.ly"
       },
       "data": [
        {
         "alignmentgroup": "True",
         "bingroup": "x",
         "hovertemplate": "degree=%{x}<br>count=%{y}<extra></extra>",
         "legendgroup": "",
         "marker": {
          "color": "#636efa",
          "pattern": {
           "shape": ""
          }
         },
         "name": "",
         "offsetgroup": "",
         "orientation": "v",
         "showlegend": false,
         "type": "histogram",
         "x": [
          1,
          6,
          2,
          2,
          5,
          2,
          5,
          2,
          2,
          2,
          6,
          3,
          2,
          2,
          10,
          2,
          9,
          7,
          7,
          2,
          5,
          5,
          4,
          2,
          2,
          2,
          3,
          5,
          2,
          6,
          2,
          5,
          2,
          2,
          2,
          4,
          2,
          3,
          6,
          3,
          5,
          2,
          2,
          4,
          7,
          2,
          2,
          2,
          5,
          2,
          9,
          5,
          7,
          2,
          6,
          2,
          7,
          9,
          5,
          2,
          2,
          3,
          2,
          2,
          2,
          2,
          2,
          3,
          6,
          2,
          9,
          8,
          9,
          9,
          2,
          3,
          2,
          4,
          5,
          2,
          4,
          2,
          2,
          4,
          9,
          2,
          6,
          2,
          6,
          8,
          2,
          6,
          7,
          2,
          6,
          2,
          2,
          2,
          2,
          2,
          2,
          2,
          3,
          2,
          8,
          8,
          6,
          5,
          5,
          2,
          2,
          2,
          4,
          2,
          2,
          3,
          2,
          2,
          2,
          6,
          2,
          2,
          6,
          2,
          2,
          7,
          5,
          2,
          3,
          8,
          2,
          2,
          2,
          9,
          2,
          2,
          7,
          11,
          2,
          2,
          8,
          2,
          2,
          2,
          2,
          2,
          2,
          2,
          2,
          6,
          2,
          6,
          2,
          2,
          6,
          2,
          2,
          3,
          2,
          3,
          5,
          2,
          2,
          2,
          10,
          2,
          2,
          2,
          5,
          2,
          2,
          3,
          2,
          1
         ],
         "xaxis": "x",
         "yaxis": "y"
        }
       ],
       "layout": {
        "barmode": "relative",
        "legend": {
         "tracegroupgap": 0
        },
        "template": {
         "data": {
          "bar": [
           {
            "error_x": {
             "color": "#2a3f5f"
            },
            "error_y": {
             "color": "#2a3f5f"
            },
            "marker": {
             "line": {
              "color": "#E5ECF6",
              "width": 0.5
             },
             "pattern": {
              "fillmode": "overlay",
              "size": 10,
              "solidity": 0.2
             }
            },
            "type": "bar"
           }
          ],
          "barpolar": [
           {
            "marker": {
             "line": {
              "color": "#E5ECF6",
              "width": 0.5
             },
             "pattern": {
              "fillmode": "overlay",
              "size": 10,
              "solidity": 0.2
             }
            },
            "type": "barpolar"
           }
          ],
          "carpet": [
           {
            "aaxis": {
             "endlinecolor": "#2a3f5f",
             "gridcolor": "white",
             "linecolor": "white",
             "minorgridcolor": "white",
             "startlinecolor": "#2a3f5f"
            },
            "baxis": {
             "endlinecolor": "#2a3f5f",
             "gridcolor": "white",
             "linecolor": "white",
             "minorgridcolor": "white",
             "startlinecolor": "#2a3f5f"
            },
            "type": "carpet"
           }
          ],
          "choropleth": [
           {
            "colorbar": {
             "outlinewidth": 0,
             "ticks": ""
            },
            "type": "choropleth"
           }
          ],
          "contour": [
           {
            "colorbar": {
             "outlinewidth": 0,
             "ticks": ""
            },
            "colorscale": [
             [
              0,
              "#0d0887"
             ],
             [
              0.1111111111111111,
              "#46039f"
             ],
             [
              0.2222222222222222,
              "#7201a8"
             ],
             [
              0.3333333333333333,
              "#9c179e"
             ],
             [
              0.4444444444444444,
              "#bd3786"
             ],
             [
              0.5555555555555556,
              "#d8576b"
             ],
             [
              0.6666666666666666,
              "#ed7953"
             ],
             [
              0.7777777777777778,
              "#fb9f3a"
             ],
             [
              0.8888888888888888,
              "#fdca26"
             ],
             [
              1,
              "#f0f921"
             ]
            ],
            "type": "contour"
           }
          ],
          "contourcarpet": [
           {
            "colorbar": {
             "outlinewidth": 0,
             "ticks": ""
            },
            "type": "contourcarpet"
           }
          ],
          "heatmap": [
           {
            "colorbar": {
             "outlinewidth": 0,
             "ticks": ""
            },
            "colorscale": [
             [
              0,
              "#0d0887"
             ],
             [
              0.1111111111111111,
              "#46039f"
             ],
             [
              0.2222222222222222,
              "#7201a8"
             ],
             [
              0.3333333333333333,
              "#9c179e"
             ],
             [
              0.4444444444444444,
              "#bd3786"
             ],
             [
              0.5555555555555556,
              "#d8576b"
             ],
             [
              0.6666666666666666,
              "#ed7953"
             ],
             [
              0.7777777777777778,
              "#fb9f3a"
             ],
             [
              0.8888888888888888,
              "#fdca26"
             ],
             [
              1,
              "#f0f921"
             ]
            ],
            "type": "heatmap"
           }
          ],
          "heatmapgl": [
           {
            "colorbar": {
             "outlinewidth": 0,
             "ticks": ""
            },
            "colorscale": [
             [
              0,
              "#0d0887"
             ],
             [
              0.1111111111111111,
              "#46039f"
             ],
             [
              0.2222222222222222,
              "#7201a8"
             ],
             [
              0.3333333333333333,
              "#9c179e"
             ],
             [
              0.4444444444444444,
              "#bd3786"
             ],
             [
              0.5555555555555556,
              "#d8576b"
             ],
             [
              0.6666666666666666,
              "#ed7953"
             ],
             [
              0.7777777777777778,
              "#fb9f3a"
             ],
             [
              0.8888888888888888,
              "#fdca26"
             ],
             [
              1,
              "#f0f921"
             ]
            ],
            "type": "heatmapgl"
           }
          ],
          "histogram": [
           {
            "marker": {
             "pattern": {
              "fillmode": "overlay",
              "size": 10,
              "solidity": 0.2
             }
            },
            "type": "histogram"
           }
          ],
          "histogram2d": [
           {
            "colorbar": {
             "outlinewidth": 0,
             "ticks": ""
            },
            "colorscale": [
             [
              0,
              "#0d0887"
             ],
             [
              0.1111111111111111,
              "#46039f"
             ],
             [
              0.2222222222222222,
              "#7201a8"
             ],
             [
              0.3333333333333333,
              "#9c179e"
             ],
             [
              0.4444444444444444,
              "#bd3786"
             ],
             [
              0.5555555555555556,
              "#d8576b"
             ],
             [
              0.6666666666666666,
              "#ed7953"
             ],
             [
              0.7777777777777778,
              "#fb9f3a"
             ],
             [
              0.8888888888888888,
              "#fdca26"
             ],
             [
              1,
              "#f0f921"
             ]
            ],
            "type": "histogram2d"
           }
          ],
          "histogram2dcontour": [
           {
            "colorbar": {
             "outlinewidth": 0,
             "ticks": ""
            },
            "colorscale": [
             [
              0,
              "#0d0887"
             ],
             [
              0.1111111111111111,
              "#46039f"
             ],
             [
              0.2222222222222222,
              "#7201a8"
             ],
             [
              0.3333333333333333,
              "#9c179e"
             ],
             [
              0.4444444444444444,
              "#bd3786"
             ],
             [
              0.5555555555555556,
              "#d8576b"
             ],
             [
              0.6666666666666666,
              "#ed7953"
             ],
             [
              0.7777777777777778,
              "#fb9f3a"
             ],
             [
              0.8888888888888888,
              "#fdca26"
             ],
             [
              1,
              "#f0f921"
             ]
            ],
            "type": "histogram2dcontour"
           }
          ],
          "mesh3d": [
           {
            "colorbar": {
             "outlinewidth": 0,
             "ticks": ""
            },
            "type": "mesh3d"
           }
          ],
          "parcoords": [
           {
            "line": {
             "colorbar": {
              "outlinewidth": 0,
              "ticks": ""
             }
            },
            "type": "parcoords"
           }
          ],
          "pie": [
           {
            "automargin": true,
            "type": "pie"
           }
          ],
          "scatter": [
           {
            "marker": {
             "colorbar": {
              "outlinewidth": 0,
              "ticks": ""
             }
            },
            "type": "scatter"
           }
          ],
          "scatter3d": [
           {
            "line": {
             "colorbar": {
              "outlinewidth": 0,
              "ticks": ""
             }
            },
            "marker": {
             "colorbar": {
              "outlinewidth": 0,
              "ticks": ""
             }
            },
            "type": "scatter3d"
           }
          ],
          "scattercarpet": [
           {
            "marker": {
             "colorbar": {
              "outlinewidth": 0,
              "ticks": ""
             }
            },
            "type": "scattercarpet"
           }
          ],
          "scattergeo": [
           {
            "marker": {
             "colorbar": {
              "outlinewidth": 0,
              "ticks": ""
             }
            },
            "type": "scattergeo"
           }
          ],
          "scattergl": [
           {
            "marker": {
             "colorbar": {
              "outlinewidth": 0,
              "ticks": ""
             }
            },
            "type": "scattergl"
           }
          ],
          "scattermapbox": [
           {
            "marker": {
             "colorbar": {
              "outlinewidth": 0,
              "ticks": ""
             }
            },
            "type": "scattermapbox"
           }
          ],
          "scatterpolar": [
           {
            "marker": {
             "colorbar": {
              "outlinewidth": 0,
              "ticks": ""
             }
            },
            "type": "scatterpolar"
           }
          ],
          "scatterpolargl": [
           {
            "marker": {
             "colorbar": {
              "outlinewidth": 0,
              "ticks": ""
             }
            },
            "type": "scatterpolargl"
           }
          ],
          "scatterternary": [
           {
            "marker": {
             "colorbar": {
              "outlinewidth": 0,
              "ticks": ""
             }
            },
            "type": "scatterternary"
           }
          ],
          "surface": [
           {
            "colorbar": {
             "outlinewidth": 0,
             "ticks": ""
            },
            "colorscale": [
             [
              0,
              "#0d0887"
             ],
             [
              0.1111111111111111,
              "#46039f"
             ],
             [
              0.2222222222222222,
              "#7201a8"
             ],
             [
              0.3333333333333333,
              "#9c179e"
             ],
             [
              0.4444444444444444,
              "#bd3786"
             ],
             [
              0.5555555555555556,
              "#d8576b"
             ],
             [
              0.6666666666666666,
              "#ed7953"
             ],
             [
              0.7777777777777778,
              "#fb9f3a"
             ],
             [
              0.8888888888888888,
              "#fdca26"
             ],
             [
              1,
              "#f0f921"
             ]
            ],
            "type": "surface"
           }
          ],
          "table": [
           {
            "cells": {
             "fill": {
              "color": "#EBF0F8"
             },
             "line": {
              "color": "white"
             }
            },
            "header": {
             "fill": {
              "color": "#C8D4E3"
             },
             "line": {
              "color": "white"
             }
            },
            "type": "table"
           }
          ]
         },
         "layout": {
          "annotationdefaults": {
           "arrowcolor": "#2a3f5f",
           "arrowhead": 0,
           "arrowwidth": 1
          },
          "autotypenumbers": "strict",
          "coloraxis": {
           "colorbar": {
            "outlinewidth": 0,
            "ticks": ""
           }
          },
          "colorscale": {
           "diverging": [
            [
             0,
             "#8e0152"
            ],
            [
             0.1,
             "#c51b7d"
            ],
            [
             0.2,
             "#de77ae"
            ],
            [
             0.3,
             "#f1b6da"
            ],
            [
             0.4,
             "#fde0ef"
            ],
            [
             0.5,
             "#f7f7f7"
            ],
            [
             0.6,
             "#e6f5d0"
            ],
            [
             0.7,
             "#b8e186"
            ],
            [
             0.8,
             "#7fbc41"
            ],
            [
             0.9,
             "#4d9221"
            ],
            [
             1,
             "#276419"
            ]
           ],
           "sequential": [
            [
             0,
             "#0d0887"
            ],
            [
             0.1111111111111111,
             "#46039f"
            ],
            [
             0.2222222222222222,
             "#7201a8"
            ],
            [
             0.3333333333333333,
             "#9c179e"
            ],
            [
             0.4444444444444444,
             "#bd3786"
            ],
            [
             0.5555555555555556,
             "#d8576b"
            ],
            [
             0.6666666666666666,
             "#ed7953"
            ],
            [
             0.7777777777777778,
             "#fb9f3a"
            ],
            [
             0.8888888888888888,
             "#fdca26"
            ],
            [
             1,
             "#f0f921"
            ]
           ],
           "sequentialminus": [
            [
             0,
             "#0d0887"
            ],
            [
             0.1111111111111111,
             "#46039f"
            ],
            [
             0.2222222222222222,
             "#7201a8"
            ],
            [
             0.3333333333333333,
             "#9c179e"
            ],
            [
             0.4444444444444444,
             "#bd3786"
            ],
            [
             0.5555555555555556,
             "#d8576b"
            ],
            [
             0.6666666666666666,
             "#ed7953"
            ],
            [
             0.7777777777777778,
             "#fb9f3a"
            ],
            [
             0.8888888888888888,
             "#fdca26"
            ],
            [
             1,
             "#f0f921"
            ]
           ]
          },
          "colorway": [
           "#636efa",
           "#EF553B",
           "#00cc96",
           "#ab63fa",
           "#FFA15A",
           "#19d3f3",
           "#FF6692",
           "#B6E880",
           "#FF97FF",
           "#FECB52"
          ],
          "font": {
           "color": "#2a3f5f"
          },
          "geo": {
           "bgcolor": "white",
           "lakecolor": "white",
           "landcolor": "#E5ECF6",
           "showlakes": true,
           "showland": true,
           "subunitcolor": "white"
          },
          "hoverlabel": {
           "align": "left"
          },
          "hovermode": "closest",
          "mapbox": {
           "style": "light"
          },
          "paper_bgcolor": "white",
          "plot_bgcolor": "#E5ECF6",
          "polar": {
           "angularaxis": {
            "gridcolor": "white",
            "linecolor": "white",
            "ticks": ""
           },
           "bgcolor": "#E5ECF6",
           "radialaxis": {
            "gridcolor": "white",
            "linecolor": "white",
            "ticks": ""
           }
          },
          "scene": {
           "xaxis": {
            "backgroundcolor": "#E5ECF6",
            "gridcolor": "white",
            "gridwidth": 2,
            "linecolor": "white",
            "showbackground": true,
            "ticks": "",
            "zerolinecolor": "white"
           },
           "yaxis": {
            "backgroundcolor": "#E5ECF6",
            "gridcolor": "white",
            "gridwidth": 2,
            "linecolor": "white",
            "showbackground": true,
            "ticks": "",
            "zerolinecolor": "white"
           },
           "zaxis": {
            "backgroundcolor": "#E5ECF6",
            "gridcolor": "white",
            "gridwidth": 2,
            "linecolor": "white",
            "showbackground": true,
            "ticks": "",
            "zerolinecolor": "white"
           }
          },
          "shapedefaults": {
           "line": {
            "color": "#2a3f5f"
           }
          },
          "ternary": {
           "aaxis": {
            "gridcolor": "white",
            "linecolor": "white",
            "ticks": ""
           },
           "baxis": {
            "gridcolor": "white",
            "linecolor": "white",
            "ticks": ""
           },
           "bgcolor": "#E5ECF6",
           "caxis": {
            "gridcolor": "white",
            "linecolor": "white",
            "ticks": ""
           }
          },
          "title": {
           "x": 0.05
          },
          "xaxis": {
           "automargin": true,
           "gridcolor": "white",
           "linecolor": "white",
           "ticks": "",
           "title": {
            "standoff": 15
           },
           "zerolinecolor": "white",
           "zerolinewidth": 2
          },
          "yaxis": {
           "automargin": true,
           "gridcolor": "white",
           "linecolor": "white",
           "ticks": "",
           "title": {
            "standoff": 15
           },
           "zerolinecolor": "white",
           "zerolinewidth": 2
          }
         }
        },
        "title": {
         "text": "3eiy - Degree Distribution"
        },
        "xaxis": {
         "anchor": "y",
         "domain": [
          0,
          1
         ],
         "title": {
          "text": "degree"
         }
        },
        "yaxis": {
         "anchor": "x",
         "domain": [
          0,
          1
         ],
         "title": {
          "text": "count"
         }
        }
       }
      }
     },
     "metadata": {},
     "output_type": "display_data"
    }
   ],
   "source": [
    "from graphein.protein.analysis import plot_degree_distribution\n",
    "\n",
    "fig = plot_degree_distribution(g)\n",
    "fig.show()"
   ]
  },
  {
   "cell_type": "code",
   "execution_count": 8,
   "metadata": {},
   "outputs": [
    {
     "data": {
      "application/vnd.plotly.v1+json": {
       "config": {
        "plotlyServerURL": "https://plot.ly"
       },
       "data": [
        {
         "alignmentgroup": "True",
         "bingroup": "x",
         "histfunc": "sum",
         "hovertemplate": "index=%{x}<br>sum of y=%{y}<extra></extra>",
         "legendgroup": "",
         "marker": {
          "color": "#636efa",
          "pattern": {
           "shape": ""
          }
         },
         "name": "",
         "offsetgroup": "",
         "orientation": "v",
         "showlegend": false,
         "type": "histogram",
         "x": [
          "SER",
          "GLY",
          "MET",
          "GLN",
          "PHE",
          "LEU",
          "LYS",
          "ILE",
          "ASN",
          "ASP",
          "CYS",
          "TRP",
          "VAL",
          "ALA",
          "GLU",
          "TYR",
          "HIS",
          "PRO",
          "THR",
          "ARG"
         ],
         "xaxis": "x",
         "y": [
          13,
          28,
          20,
          10,
          50,
          76,
          31,
          72,
          10,
          32,
          2,
          8,
          114,
          57,
          16,
          32,
          6,
          45,
          12,
          8
         ],
         "yaxis": "y"
        }
       ],
       "layout": {
        "barmode": "relative",
        "legend": {
         "tracegroupgap": 0
        },
        "template": {
         "data": {
          "bar": [
           {
            "error_x": {
             "color": "#2a3f5f"
            },
            "error_y": {
             "color": "#2a3f5f"
            },
            "marker": {
             "line": {
              "color": "#E5ECF6",
              "width": 0.5
             },
             "pattern": {
              "fillmode": "overlay",
              "size": 10,
              "solidity": 0.2
             }
            },
            "type": "bar"
           }
          ],
          "barpolar": [
           {
            "marker": {
             "line": {
              "color": "#E5ECF6",
              "width": 0.5
             },
             "pattern": {
              "fillmode": "overlay",
              "size": 10,
              "solidity": 0.2
             }
            },
            "type": "barpolar"
           }
          ],
          "carpet": [
           {
            "aaxis": {
             "endlinecolor": "#2a3f5f",
             "gridcolor": "white",
             "linecolor": "white",
             "minorgridcolor": "white",
             "startlinecolor": "#2a3f5f"
            },
            "baxis": {
             "endlinecolor": "#2a3f5f",
             "gridcolor": "white",
             "linecolor": "white",
             "minorgridcolor": "white",
             "startlinecolor": "#2a3f5f"
            },
            "type": "carpet"
           }
          ],
          "choropleth": [
           {
            "colorbar": {
             "outlinewidth": 0,
             "ticks": ""
            },
            "type": "choropleth"
           }
          ],
          "contour": [
           {
            "colorbar": {
             "outlinewidth": 0,
             "ticks": ""
            },
            "colorscale": [
             [
              0,
              "#0d0887"
             ],
             [
              0.1111111111111111,
              "#46039f"
             ],
             [
              0.2222222222222222,
              "#7201a8"
             ],
             [
              0.3333333333333333,
              "#9c179e"
             ],
             [
              0.4444444444444444,
              "#bd3786"
             ],
             [
              0.5555555555555556,
              "#d8576b"
             ],
             [
              0.6666666666666666,
              "#ed7953"
             ],
             [
              0.7777777777777778,
              "#fb9f3a"
             ],
             [
              0.8888888888888888,
              "#fdca26"
             ],
             [
              1,
              "#f0f921"
             ]
            ],
            "type": "contour"
           }
          ],
          "contourcarpet": [
           {
            "colorbar": {
             "outlinewidth": 0,
             "ticks": ""
            },
            "type": "contourcarpet"
           }
          ],
          "heatmap": [
           {
            "colorbar": {
             "outlinewidth": 0,
             "ticks": ""
            },
            "colorscale": [
             [
              0,
              "#0d0887"
             ],
             [
              0.1111111111111111,
              "#46039f"
             ],
             [
              0.2222222222222222,
              "#7201a8"
             ],
             [
              0.3333333333333333,
              "#9c179e"
             ],
             [
              0.4444444444444444,
              "#bd3786"
             ],
             [
              0.5555555555555556,
              "#d8576b"
             ],
             [
              0.6666666666666666,
              "#ed7953"
             ],
             [
              0.7777777777777778,
              "#fb9f3a"
             ],
             [
              0.8888888888888888,
              "#fdca26"
             ],
             [
              1,
              "#f0f921"
             ]
            ],
            "type": "heatmap"
           }
          ],
          "heatmapgl": [
           {
            "colorbar": {
             "outlinewidth": 0,
             "ticks": ""
            },
            "colorscale": [
             [
              0,
              "#0d0887"
             ],
             [
              0.1111111111111111,
              "#46039f"
             ],
             [
              0.2222222222222222,
              "#7201a8"
             ],
             [
              0.3333333333333333,
              "#9c179e"
             ],
             [
              0.4444444444444444,
              "#bd3786"
             ],
             [
              0.5555555555555556,
              "#d8576b"
             ],
             [
              0.6666666666666666,
              "#ed7953"
             ],
             [
              0.7777777777777778,
              "#fb9f3a"
             ],
             [
              0.8888888888888888,
              "#fdca26"
             ],
             [
              1,
              "#f0f921"
             ]
            ],
            "type": "heatmapgl"
           }
          ],
          "histogram": [
           {
            "marker": {
             "pattern": {
              "fillmode": "overlay",
              "size": 10,
              "solidity": 0.2
             }
            },
            "type": "histogram"
           }
          ],
          "histogram2d": [
           {
            "colorbar": {
             "outlinewidth": 0,
             "ticks": ""
            },
            "colorscale": [
             [
              0,
              "#0d0887"
             ],
             [
              0.1111111111111111,
              "#46039f"
             ],
             [
              0.2222222222222222,
              "#7201a8"
             ],
             [
              0.3333333333333333,
              "#9c179e"
             ],
             [
              0.4444444444444444,
              "#bd3786"
             ],
             [
              0.5555555555555556,
              "#d8576b"
             ],
             [
              0.6666666666666666,
              "#ed7953"
             ],
             [
              0.7777777777777778,
              "#fb9f3a"
             ],
             [
              0.8888888888888888,
              "#fdca26"
             ],
             [
              1,
              "#f0f921"
             ]
            ],
            "type": "histogram2d"
           }
          ],
          "histogram2dcontour": [
           {
            "colorbar": {
             "outlinewidth": 0,
             "ticks": ""
            },
            "colorscale": [
             [
              0,
              "#0d0887"
             ],
             [
              0.1111111111111111,
              "#46039f"
             ],
             [
              0.2222222222222222,
              "#7201a8"
             ],
             [
              0.3333333333333333,
              "#9c179e"
             ],
             [
              0.4444444444444444,
              "#bd3786"
             ],
             [
              0.5555555555555556,
              "#d8576b"
             ],
             [
              0.6666666666666666,
              "#ed7953"
             ],
             [
              0.7777777777777778,
              "#fb9f3a"
             ],
             [
              0.8888888888888888,
              "#fdca26"
             ],
             [
              1,
              "#f0f921"
             ]
            ],
            "type": "histogram2dcontour"
           }
          ],
          "mesh3d": [
           {
            "colorbar": {
             "outlinewidth": 0,
             "ticks": ""
            },
            "type": "mesh3d"
           }
          ],
          "parcoords": [
           {
            "line": {
             "colorbar": {
              "outlinewidth": 0,
              "ticks": ""
             }
            },
            "type": "parcoords"
           }
          ],
          "pie": [
           {
            "automargin": true,
            "type": "pie"
           }
          ],
          "scatter": [
           {
            "marker": {
             "colorbar": {
              "outlinewidth": 0,
              "ticks": ""
             }
            },
            "type": "scatter"
           }
          ],
          "scatter3d": [
           {
            "line": {
             "colorbar": {
              "outlinewidth": 0,
              "ticks": ""
             }
            },
            "marker": {
             "colorbar": {
              "outlinewidth": 0,
              "ticks": ""
             }
            },
            "type": "scatter3d"
           }
          ],
          "scattercarpet": [
           {
            "marker": {
             "colorbar": {
              "outlinewidth": 0,
              "ticks": ""
             }
            },
            "type": "scattercarpet"
           }
          ],
          "scattergeo": [
           {
            "marker": {
             "colorbar": {
              "outlinewidth": 0,
              "ticks": ""
             }
            },
            "type": "scattergeo"
           }
          ],
          "scattergl": [
           {
            "marker": {
             "colorbar": {
              "outlinewidth": 0,
              "ticks": ""
             }
            },
            "type": "scattergl"
           }
          ],
          "scattermapbox": [
           {
            "marker": {
             "colorbar": {
              "outlinewidth": 0,
              "ticks": ""
             }
            },
            "type": "scattermapbox"
           }
          ],
          "scatterpolar": [
           {
            "marker": {
             "colorbar": {
              "outlinewidth": 0,
              "ticks": ""
             }
            },
            "type": "scatterpolar"
           }
          ],
          "scatterpolargl": [
           {
            "marker": {
             "colorbar": {
              "outlinewidth": 0,
              "ticks": ""
             }
            },
            "type": "scatterpolargl"
           }
          ],
          "scatterternary": [
           {
            "marker": {
             "colorbar": {
              "outlinewidth": 0,
              "ticks": ""
             }
            },
            "type": "scatterternary"
           }
          ],
          "surface": [
           {
            "colorbar": {
             "outlinewidth": 0,
             "ticks": ""
            },
            "colorscale": [
             [
              0,
              "#0d0887"
             ],
             [
              0.1111111111111111,
              "#46039f"
             ],
             [
              0.2222222222222222,
              "#7201a8"
             ],
             [
              0.3333333333333333,
              "#9c179e"
             ],
             [
              0.4444444444444444,
              "#bd3786"
             ],
             [
              0.5555555555555556,
              "#d8576b"
             ],
             [
              0.6666666666666666,
              "#ed7953"
             ],
             [
              0.7777777777777778,
              "#fb9f3a"
             ],
             [
              0.8888888888888888,
              "#fdca26"
             ],
             [
              1,
              "#f0f921"
             ]
            ],
            "type": "surface"
           }
          ],
          "table": [
           {
            "cells": {
             "fill": {
              "color": "#EBF0F8"
             },
             "line": {
              "color": "white"
             }
            },
            "header": {
             "fill": {
              "color": "#C8D4E3"
             },
             "line": {
              "color": "white"
             }
            },
            "type": "table"
           }
          ]
         },
         "layout": {
          "annotationdefaults": {
           "arrowcolor": "#2a3f5f",
           "arrowhead": 0,
           "arrowwidth": 1
          },
          "autotypenumbers": "strict",
          "coloraxis": {
           "colorbar": {
            "outlinewidth": 0,
            "ticks": ""
           }
          },
          "colorscale": {
           "diverging": [
            [
             0,
             "#8e0152"
            ],
            [
             0.1,
             "#c51b7d"
            ],
            [
             0.2,
             "#de77ae"
            ],
            [
             0.3,
             "#f1b6da"
            ],
            [
             0.4,
             "#fde0ef"
            ],
            [
             0.5,
             "#f7f7f7"
            ],
            [
             0.6,
             "#e6f5d0"
            ],
            [
             0.7,
             "#b8e186"
            ],
            [
             0.8,
             "#7fbc41"
            ],
            [
             0.9,
             "#4d9221"
            ],
            [
             1,
             "#276419"
            ]
           ],
           "sequential": [
            [
             0,
             "#0d0887"
            ],
            [
             0.1111111111111111,
             "#46039f"
            ],
            [
             0.2222222222222222,
             "#7201a8"
            ],
            [
             0.3333333333333333,
             "#9c179e"
            ],
            [
             0.4444444444444444,
             "#bd3786"
            ],
            [
             0.5555555555555556,
             "#d8576b"
            ],
            [
             0.6666666666666666,
             "#ed7953"
            ],
            [
             0.7777777777777778,
             "#fb9f3a"
            ],
            [
             0.8888888888888888,
             "#fdca26"
            ],
            [
             1,
             "#f0f921"
            ]
           ],
           "sequentialminus": [
            [
             0,
             "#0d0887"
            ],
            [
             0.1111111111111111,
             "#46039f"
            ],
            [
             0.2222222222222222,
             "#7201a8"
            ],
            [
             0.3333333333333333,
             "#9c179e"
            ],
            [
             0.4444444444444444,
             "#bd3786"
            ],
            [
             0.5555555555555556,
             "#d8576b"
            ],
            [
             0.6666666666666666,
             "#ed7953"
            ],
            [
             0.7777777777777778,
             "#fb9f3a"
            ],
            [
             0.8888888888888888,
             "#fdca26"
            ],
            [
             1,
             "#f0f921"
            ]
           ]
          },
          "colorway": [
           "#636efa",
           "#EF553B",
           "#00cc96",
           "#ab63fa",
           "#FFA15A",
           "#19d3f3",
           "#FF6692",
           "#B6E880",
           "#FF97FF",
           "#FECB52"
          ],
          "font": {
           "color": "#2a3f5f"
          },
          "geo": {
           "bgcolor": "white",
           "lakecolor": "white",
           "landcolor": "#E5ECF6",
           "showlakes": true,
           "showland": true,
           "subunitcolor": "white"
          },
          "hoverlabel": {
           "align": "left"
          },
          "hovermode": "closest",
          "mapbox": {
           "style": "light"
          },
          "paper_bgcolor": "white",
          "plot_bgcolor": "#E5ECF6",
          "polar": {
           "angularaxis": {
            "gridcolor": "white",
            "linecolor": "white",
            "ticks": ""
           },
           "bgcolor": "#E5ECF6",
           "radialaxis": {
            "gridcolor": "white",
            "linecolor": "white",
            "ticks": ""
           }
          },
          "scene": {
           "xaxis": {
            "backgroundcolor": "#E5ECF6",
            "gridcolor": "white",
            "gridwidth": 2,
            "linecolor": "white",
            "showbackground": true,
            "ticks": "",
            "zerolinecolor": "white"
           },
           "yaxis": {
            "backgroundcolor": "#E5ECF6",
            "gridcolor": "white",
            "gridwidth": 2,
            "linecolor": "white",
            "showbackground": true,
            "ticks": "",
            "zerolinecolor": "white"
           },
           "zaxis": {
            "backgroundcolor": "#E5ECF6",
            "gridcolor": "white",
            "gridwidth": 2,
            "linecolor": "white",
            "showbackground": true,
            "ticks": "",
            "zerolinecolor": "white"
           }
          },
          "shapedefaults": {
           "line": {
            "color": "#2a3f5f"
           }
          },
          "ternary": {
           "aaxis": {
            "gridcolor": "white",
            "linecolor": "white",
            "ticks": ""
           },
           "baxis": {
            "gridcolor": "white",
            "linecolor": "white",
            "ticks": ""
           },
           "bgcolor": "#E5ECF6",
           "caxis": {
            "gridcolor": "white",
            "linecolor": "white",
            "ticks": ""
           }
          },
          "title": {
           "x": 0.05
          },
          "xaxis": {
           "automargin": true,
           "gridcolor": "white",
           "linecolor": "white",
           "ticks": "",
           "title": {
            "standoff": 15
           },
           "zerolinecolor": "white",
           "zerolinewidth": 2
          },
          "yaxis": {
           "automargin": true,
           "gridcolor": "white",
           "linecolor": "white",
           "ticks": "",
           "title": {
            "standoff": 15
           },
           "zerolinecolor": "white",
           "zerolinewidth": 2
          }
         }
        },
        "title": {
         "text": "3eiy - Total Degree by Residue Type"
        },
        "xaxis": {
         "anchor": "y",
         "domain": [
          0,
          1
         ],
         "title": {
          "text": "index"
         }
        },
        "yaxis": {
         "anchor": "x",
         "domain": [
          0,
          1
         ],
         "title": {
          "text": "sum of y"
         }
        }
       }
      }
     },
     "metadata": {},
     "output_type": "display_data"
    }
   ],
   "source": [
    "from graphein.protein.analysis import plot_degree_by_residue_type\n",
    "\n",
    "fig = plot_degree_by_residue_type(g, normalise_by_residue_occurrence=False)\n",
    "fig.show()"
   ]
  },
  {
   "cell_type": "code",
   "execution_count": 9,
   "metadata": {},
   "outputs": [
    {
     "data": {
      "application/vnd.plotly.v1+json": {
       "config": {
        "plotlyServerURL": "https://plot.ly"
       },
       "data": [
        {
         "alignmentgroup": "True",
         "bingroup": "x",
         "histfunc": "sum",
         "hovertemplate": "index=%{x}<br>sum of y=%{y}<extra></extra>",
         "legendgroup": "",
         "marker": {
          "color": "#636efa",
          "pattern": {
           "shape": ""
          }
         },
         "name": "",
         "offsetgroup": "",
         "orientation": "v",
         "showlegend": false,
         "type": "histogram",
         "x": [
          "ALA",
          "ARG",
          "ASN",
          "ASP",
          "CYS",
          "GLN",
          "GLU",
          "GLY",
          "HIS",
          "ILE",
          "LEU",
          "LYS",
          "MET",
          "PHE",
          "PRO",
          "SER",
          "THR",
          "TRP",
          "TYR",
          "VAL"
         ],
         "xaxis": "x",
         "y": [
          3.8,
          2,
          2,
          2,
          2,
          2,
          2,
          2,
          2,
          7.2,
          5.428571428571429,
          1.9375,
          5,
          6.25,
          3.75,
          1.8571428571428572,
          2,
          4,
          6.4,
          6
         ],
         "yaxis": "y"
        }
       ],
       "layout": {
        "barmode": "relative",
        "legend": {
         "tracegroupgap": 0
        },
        "template": {
         "data": {
          "bar": [
           {
            "error_x": {
             "color": "#2a3f5f"
            },
            "error_y": {
             "color": "#2a3f5f"
            },
            "marker": {
             "line": {
              "color": "#E5ECF6",
              "width": 0.5
             },
             "pattern": {
              "fillmode": "overlay",
              "size": 10,
              "solidity": 0.2
             }
            },
            "type": "bar"
           }
          ],
          "barpolar": [
           {
            "marker": {
             "line": {
              "color": "#E5ECF6",
              "width": 0.5
             },
             "pattern": {
              "fillmode": "overlay",
              "size": 10,
              "solidity": 0.2
             }
            },
            "type": "barpolar"
           }
          ],
          "carpet": [
           {
            "aaxis": {
             "endlinecolor": "#2a3f5f",
             "gridcolor": "white",
             "linecolor": "white",
             "minorgridcolor": "white",
             "startlinecolor": "#2a3f5f"
            },
            "baxis": {
             "endlinecolor": "#2a3f5f",
             "gridcolor": "white",
             "linecolor": "white",
             "minorgridcolor": "white",
             "startlinecolor": "#2a3f5f"
            },
            "type": "carpet"
           }
          ],
          "choropleth": [
           {
            "colorbar": {
             "outlinewidth": 0,
             "ticks": ""
            },
            "type": "choropleth"
           }
          ],
          "contour": [
           {
            "colorbar": {
             "outlinewidth": 0,
             "ticks": ""
            },
            "colorscale": [
             [
              0,
              "#0d0887"
             ],
             [
              0.1111111111111111,
              "#46039f"
             ],
             [
              0.2222222222222222,
              "#7201a8"
             ],
             [
              0.3333333333333333,
              "#9c179e"
             ],
             [
              0.4444444444444444,
              "#bd3786"
             ],
             [
              0.5555555555555556,
              "#d8576b"
             ],
             [
              0.6666666666666666,
              "#ed7953"
             ],
             [
              0.7777777777777778,
              "#fb9f3a"
             ],
             [
              0.8888888888888888,
              "#fdca26"
             ],
             [
              1,
              "#f0f921"
             ]
            ],
            "type": "contour"
           }
          ],
          "contourcarpet": [
           {
            "colorbar": {
             "outlinewidth": 0,
             "ticks": ""
            },
            "type": "contourcarpet"
           }
          ],
          "heatmap": [
           {
            "colorbar": {
             "outlinewidth": 0,
             "ticks": ""
            },
            "colorscale": [
             [
              0,
              "#0d0887"
             ],
             [
              0.1111111111111111,
              "#46039f"
             ],
             [
              0.2222222222222222,
              "#7201a8"
             ],
             [
              0.3333333333333333,
              "#9c179e"
             ],
             [
              0.4444444444444444,
              "#bd3786"
             ],
             [
              0.5555555555555556,
              "#d8576b"
             ],
             [
              0.6666666666666666,
              "#ed7953"
             ],
             [
              0.7777777777777778,
              "#fb9f3a"
             ],
             [
              0.8888888888888888,
              "#fdca26"
             ],
             [
              1,
              "#f0f921"
             ]
            ],
            "type": "heatmap"
           }
          ],
          "heatmapgl": [
           {
            "colorbar": {
             "outlinewidth": 0,
             "ticks": ""
            },
            "colorscale": [
             [
              0,
              "#0d0887"
             ],
             [
              0.1111111111111111,
              "#46039f"
             ],
             [
              0.2222222222222222,
              "#7201a8"
             ],
             [
              0.3333333333333333,
              "#9c179e"
             ],
             [
              0.4444444444444444,
              "#bd3786"
             ],
             [
              0.5555555555555556,
              "#d8576b"
             ],
             [
              0.6666666666666666,
              "#ed7953"
             ],
             [
              0.7777777777777778,
              "#fb9f3a"
             ],
             [
              0.8888888888888888,
              "#fdca26"
             ],
             [
              1,
              "#f0f921"
             ]
            ],
            "type": "heatmapgl"
           }
          ],
          "histogram": [
           {
            "marker": {
             "pattern": {
              "fillmode": "overlay",
              "size": 10,
              "solidity": 0.2
             }
            },
            "type": "histogram"
           }
          ],
          "histogram2d": [
           {
            "colorbar": {
             "outlinewidth": 0,
             "ticks": ""
            },
            "colorscale": [
             [
              0,
              "#0d0887"
             ],
             [
              0.1111111111111111,
              "#46039f"
             ],
             [
              0.2222222222222222,
              "#7201a8"
             ],
             [
              0.3333333333333333,
              "#9c179e"
             ],
             [
              0.4444444444444444,
              "#bd3786"
             ],
             [
              0.5555555555555556,
              "#d8576b"
             ],
             [
              0.6666666666666666,
              "#ed7953"
             ],
             [
              0.7777777777777778,
              "#fb9f3a"
             ],
             [
              0.8888888888888888,
              "#fdca26"
             ],
             [
              1,
              "#f0f921"
             ]
            ],
            "type": "histogram2d"
           }
          ],
          "histogram2dcontour": [
           {
            "colorbar": {
             "outlinewidth": 0,
             "ticks": ""
            },
            "colorscale": [
             [
              0,
              "#0d0887"
             ],
             [
              0.1111111111111111,
              "#46039f"
             ],
             [
              0.2222222222222222,
              "#7201a8"
             ],
             [
              0.3333333333333333,
              "#9c179e"
             ],
             [
              0.4444444444444444,
              "#bd3786"
             ],
             [
              0.5555555555555556,
              "#d8576b"
             ],
             [
              0.6666666666666666,
              "#ed7953"
             ],
             [
              0.7777777777777778,
              "#fb9f3a"
             ],
             [
              0.8888888888888888,
              "#fdca26"
             ],
             [
              1,
              "#f0f921"
             ]
            ],
            "type": "histogram2dcontour"
           }
          ],
          "mesh3d": [
           {
            "colorbar": {
             "outlinewidth": 0,
             "ticks": ""
            },
            "type": "mesh3d"
           }
          ],
          "parcoords": [
           {
            "line": {
             "colorbar": {
              "outlinewidth": 0,
              "ticks": ""
             }
            },
            "type": "parcoords"
           }
          ],
          "pie": [
           {
            "automargin": true,
            "type": "pie"
           }
          ],
          "scatter": [
           {
            "marker": {
             "colorbar": {
              "outlinewidth": 0,
              "ticks": ""
             }
            },
            "type": "scatter"
           }
          ],
          "scatter3d": [
           {
            "line": {
             "colorbar": {
              "outlinewidth": 0,
              "ticks": ""
             }
            },
            "marker": {
             "colorbar": {
              "outlinewidth": 0,
              "ticks": ""
             }
            },
            "type": "scatter3d"
           }
          ],
          "scattercarpet": [
           {
            "marker": {
             "colorbar": {
              "outlinewidth": 0,
              "ticks": ""
             }
            },
            "type": "scattercarpet"
           }
          ],
          "scattergeo": [
           {
            "marker": {
             "colorbar": {
              "outlinewidth": 0,
              "ticks": ""
             }
            },
            "type": "scattergeo"
           }
          ],
          "scattergl": [
           {
            "marker": {
             "colorbar": {
              "outlinewidth": 0,
              "ticks": ""
             }
            },
            "type": "scattergl"
           }
          ],
          "scattermapbox": [
           {
            "marker": {
             "colorbar": {
              "outlinewidth": 0,
              "ticks": ""
             }
            },
            "type": "scattermapbox"
           }
          ],
          "scatterpolar": [
           {
            "marker": {
             "colorbar": {
              "outlinewidth": 0,
              "ticks": ""
             }
            },
            "type": "scatterpolar"
           }
          ],
          "scatterpolargl": [
           {
            "marker": {
             "colorbar": {
              "outlinewidth": 0,
              "ticks": ""
             }
            },
            "type": "scatterpolargl"
           }
          ],
          "scatterternary": [
           {
            "marker": {
             "colorbar": {
              "outlinewidth": 0,
              "ticks": ""
             }
            },
            "type": "scatterternary"
           }
          ],
          "surface": [
           {
            "colorbar": {
             "outlinewidth": 0,
             "ticks": ""
            },
            "colorscale": [
             [
              0,
              "#0d0887"
             ],
             [
              0.1111111111111111,
              "#46039f"
             ],
             [
              0.2222222222222222,
              "#7201a8"
             ],
             [
              0.3333333333333333,
              "#9c179e"
             ],
             [
              0.4444444444444444,
              "#bd3786"
             ],
             [
              0.5555555555555556,
              "#d8576b"
             ],
             [
              0.6666666666666666,
              "#ed7953"
             ],
             [
              0.7777777777777778,
              "#fb9f3a"
             ],
             [
              0.8888888888888888,
              "#fdca26"
             ],
             [
              1,
              "#f0f921"
             ]
            ],
            "type": "surface"
           }
          ],
          "table": [
           {
            "cells": {
             "fill": {
              "color": "#EBF0F8"
             },
             "line": {
              "color": "white"
             }
            },
            "header": {
             "fill": {
              "color": "#C8D4E3"
             },
             "line": {
              "color": "white"
             }
            },
            "type": "table"
           }
          ]
         },
         "layout": {
          "annotationdefaults": {
           "arrowcolor": "#2a3f5f",
           "arrowhead": 0,
           "arrowwidth": 1
          },
          "autotypenumbers": "strict",
          "coloraxis": {
           "colorbar": {
            "outlinewidth": 0,
            "ticks": ""
           }
          },
          "colorscale": {
           "diverging": [
            [
             0,
             "#8e0152"
            ],
            [
             0.1,
             "#c51b7d"
            ],
            [
             0.2,
             "#de77ae"
            ],
            [
             0.3,
             "#f1b6da"
            ],
            [
             0.4,
             "#fde0ef"
            ],
            [
             0.5,
             "#f7f7f7"
            ],
            [
             0.6,
             "#e6f5d0"
            ],
            [
             0.7,
             "#b8e186"
            ],
            [
             0.8,
             "#7fbc41"
            ],
            [
             0.9,
             "#4d9221"
            ],
            [
             1,
             "#276419"
            ]
           ],
           "sequential": [
            [
             0,
             "#0d0887"
            ],
            [
             0.1111111111111111,
             "#46039f"
            ],
            [
             0.2222222222222222,
             "#7201a8"
            ],
            [
             0.3333333333333333,
             "#9c179e"
            ],
            [
             0.4444444444444444,
             "#bd3786"
            ],
            [
             0.5555555555555556,
             "#d8576b"
            ],
            [
             0.6666666666666666,
             "#ed7953"
            ],
            [
             0.7777777777777778,
             "#fb9f3a"
            ],
            [
             0.8888888888888888,
             "#fdca26"
            ],
            [
             1,
             "#f0f921"
            ]
           ],
           "sequentialminus": [
            [
             0,
             "#0d0887"
            ],
            [
             0.1111111111111111,
             "#46039f"
            ],
            [
             0.2222222222222222,
             "#7201a8"
            ],
            [
             0.3333333333333333,
             "#9c179e"
            ],
            [
             0.4444444444444444,
             "#bd3786"
            ],
            [
             0.5555555555555556,
             "#d8576b"
            ],
            [
             0.6666666666666666,
             "#ed7953"
            ],
            [
             0.7777777777777778,
             "#fb9f3a"
            ],
            [
             0.8888888888888888,
             "#fdca26"
            ],
            [
             1,
             "#f0f921"
            ]
           ]
          },
          "colorway": [
           "#636efa",
           "#EF553B",
           "#00cc96",
           "#ab63fa",
           "#FFA15A",
           "#19d3f3",
           "#FF6692",
           "#B6E880",
           "#FF97FF",
           "#FECB52"
          ],
          "font": {
           "color": "#2a3f5f"
          },
          "geo": {
           "bgcolor": "white",
           "lakecolor": "white",
           "landcolor": "#E5ECF6",
           "showlakes": true,
           "showland": true,
           "subunitcolor": "white"
          },
          "hoverlabel": {
           "align": "left"
          },
          "hovermode": "closest",
          "mapbox": {
           "style": "light"
          },
          "paper_bgcolor": "white",
          "plot_bgcolor": "#E5ECF6",
          "polar": {
           "angularaxis": {
            "gridcolor": "white",
            "linecolor": "white",
            "ticks": ""
           },
           "bgcolor": "#E5ECF6",
           "radialaxis": {
            "gridcolor": "white",
            "linecolor": "white",
            "ticks": ""
           }
          },
          "scene": {
           "xaxis": {
            "backgroundcolor": "#E5ECF6",
            "gridcolor": "white",
            "gridwidth": 2,
            "linecolor": "white",
            "showbackground": true,
            "ticks": "",
            "zerolinecolor": "white"
           },
           "yaxis": {
            "backgroundcolor": "#E5ECF6",
            "gridcolor": "white",
            "gridwidth": 2,
            "linecolor": "white",
            "showbackground": true,
            "ticks": "",
            "zerolinecolor": "white"
           },
           "zaxis": {
            "backgroundcolor": "#E5ECF6",
            "gridcolor": "white",
            "gridwidth": 2,
            "linecolor": "white",
            "showbackground": true,
            "ticks": "",
            "zerolinecolor": "white"
           }
          },
          "shapedefaults": {
           "line": {
            "color": "#2a3f5f"
           }
          },
          "ternary": {
           "aaxis": {
            "gridcolor": "white",
            "linecolor": "white",
            "ticks": ""
           },
           "baxis": {
            "gridcolor": "white",
            "linecolor": "white",
            "ticks": ""
           },
           "bgcolor": "#E5ECF6",
           "caxis": {
            "gridcolor": "white",
            "linecolor": "white",
            "ticks": ""
           }
          },
          "title": {
           "x": 0.05
          },
          "xaxis": {
           "automargin": true,
           "gridcolor": "white",
           "linecolor": "white",
           "ticks": "",
           "title": {
            "standoff": 15
           },
           "zerolinecolor": "white",
           "zerolinewidth": 2
          },
          "yaxis": {
           "automargin": true,
           "gridcolor": "white",
           "linecolor": "white",
           "ticks": "",
           "title": {
            "standoff": 15
           },
           "zerolinecolor": "white",
           "zerolinewidth": 2
          }
         }
        },
        "title": {
         "text": "3eiy - Total Degree by Residue Type (Normalised by Residue Occurrence)"
        },
        "xaxis": {
         "anchor": "y",
         "domain": [
          0,
          1
         ],
         "title": {
          "text": "index"
         }
        },
        "yaxis": {
         "anchor": "x",
         "domain": [
          0,
          1
         ],
         "title": {
          "text": "sum of y"
         }
        }
       }
      }
     },
     "metadata": {},
     "output_type": "display_data"
    }
   ],
   "source": [
    "fig = plot_degree_by_residue_type(g, normalise_by_residue_occurrence=True)\n",
    "fig.show()"
   ]
  },
  {
   "cell_type": "markdown",
   "metadata": {},
   "source": [
    "## Edge Type Distribution"
   ]
  },
  {
   "cell_type": "code",
   "execution_count": 10,
   "metadata": {},
   "outputs": [
    {
     "data": {
      "application/vnd.plotly.v1+json": {
       "config": {
        "plotlyServerURL": "https://plot.ly"
       },
       "data": [
        {
         "alignmentgroup": "True",
         "hovertemplate": "variable=counts<br>index=%{x}<br>value=%{y}<extra></extra>",
         "legendgroup": "counts",
         "marker": {
          "color": "#636efa",
          "pattern": {
           "shape": ""
          }
         },
         "name": "counts",
         "offsetgroup": "counts",
         "orientation": "v",
         "showlegend": true,
         "textposition": "auto",
         "type": "bar",
         "x": [
          "peptide_bond",
          "hydrophobic",
          "aromatic"
         ],
         "xaxis": "x",
         "y": [
          173,
          148,
          7
         ],
         "yaxis": "y"
        }
       ],
       "layout": {
        "barmode": "relative",
        "legend": {
         "title": {
          "text": "variable"
         },
         "tracegroupgap": 0
        },
        "template": {
         "data": {
          "bar": [
           {
            "error_x": {
             "color": "#2a3f5f"
            },
            "error_y": {
             "color": "#2a3f5f"
            },
            "marker": {
             "line": {
              "color": "#E5ECF6",
              "width": 0.5
             },
             "pattern": {
              "fillmode": "overlay",
              "size": 10,
              "solidity": 0.2
             }
            },
            "type": "bar"
           }
          ],
          "barpolar": [
           {
            "marker": {
             "line": {
              "color": "#E5ECF6",
              "width": 0.5
             },
             "pattern": {
              "fillmode": "overlay",
              "size": 10,
              "solidity": 0.2
             }
            },
            "type": "barpolar"
           }
          ],
          "carpet": [
           {
            "aaxis": {
             "endlinecolor": "#2a3f5f",
             "gridcolor": "white",
             "linecolor": "white",
             "minorgridcolor": "white",
             "startlinecolor": "#2a3f5f"
            },
            "baxis": {
             "endlinecolor": "#2a3f5f",
             "gridcolor": "white",
             "linecolor": "white",
             "minorgridcolor": "white",
             "startlinecolor": "#2a3f5f"
            },
            "type": "carpet"
           }
          ],
          "choropleth": [
           {
            "colorbar": {
             "outlinewidth": 0,
             "ticks": ""
            },
            "type": "choropleth"
           }
          ],
          "contour": [
           {
            "colorbar": {
             "outlinewidth": 0,
             "ticks": ""
            },
            "colorscale": [
             [
              0,
              "#0d0887"
             ],
             [
              0.1111111111111111,
              "#46039f"
             ],
             [
              0.2222222222222222,
              "#7201a8"
             ],
             [
              0.3333333333333333,
              "#9c179e"
             ],
             [
              0.4444444444444444,
              "#bd3786"
             ],
             [
              0.5555555555555556,
              "#d8576b"
             ],
             [
              0.6666666666666666,
              "#ed7953"
             ],
             [
              0.7777777777777778,
              "#fb9f3a"
             ],
             [
              0.8888888888888888,
              "#fdca26"
             ],
             [
              1,
              "#f0f921"
             ]
            ],
            "type": "contour"
           }
          ],
          "contourcarpet": [
           {
            "colorbar": {
             "outlinewidth": 0,
             "ticks": ""
            },
            "type": "contourcarpet"
           }
          ],
          "heatmap": [
           {
            "colorbar": {
             "outlinewidth": 0,
             "ticks": ""
            },
            "colorscale": [
             [
              0,
              "#0d0887"
             ],
             [
              0.1111111111111111,
              "#46039f"
             ],
             [
              0.2222222222222222,
              "#7201a8"
             ],
             [
              0.3333333333333333,
              "#9c179e"
             ],
             [
              0.4444444444444444,
              "#bd3786"
             ],
             [
              0.5555555555555556,
              "#d8576b"
             ],
             [
              0.6666666666666666,
              "#ed7953"
             ],
             [
              0.7777777777777778,
              "#fb9f3a"
             ],
             [
              0.8888888888888888,
              "#fdca26"
             ],
             [
              1,
              "#f0f921"
             ]
            ],
            "type": "heatmap"
           }
          ],
          "heatmapgl": [
           {
            "colorbar": {
             "outlinewidth": 0,
             "ticks": ""
            },
            "colorscale": [
             [
              0,
              "#0d0887"
             ],
             [
              0.1111111111111111,
              "#46039f"
             ],
             [
              0.2222222222222222,
              "#7201a8"
             ],
             [
              0.3333333333333333,
              "#9c179e"
             ],
             [
              0.4444444444444444,
              "#bd3786"
             ],
             [
              0.5555555555555556,
              "#d8576b"
             ],
             [
              0.6666666666666666,
              "#ed7953"
             ],
             [
              0.7777777777777778,
              "#fb9f3a"
             ],
             [
              0.8888888888888888,
              "#fdca26"
             ],
             [
              1,
              "#f0f921"
             ]
            ],
            "type": "heatmapgl"
           }
          ],
          "histogram": [
           {
            "marker": {
             "pattern": {
              "fillmode": "overlay",
              "size": 10,
              "solidity": 0.2
             }
            },
            "type": "histogram"
           }
          ],
          "histogram2d": [
           {
            "colorbar": {
             "outlinewidth": 0,
             "ticks": ""
            },
            "colorscale": [
             [
              0,
              "#0d0887"
             ],
             [
              0.1111111111111111,
              "#46039f"
             ],
             [
              0.2222222222222222,
              "#7201a8"
             ],
             [
              0.3333333333333333,
              "#9c179e"
             ],
             [
              0.4444444444444444,
              "#bd3786"
             ],
             [
              0.5555555555555556,
              "#d8576b"
             ],
             [
              0.6666666666666666,
              "#ed7953"
             ],
             [
              0.7777777777777778,
              "#fb9f3a"
             ],
             [
              0.8888888888888888,
              "#fdca26"
             ],
             [
              1,
              "#f0f921"
             ]
            ],
            "type": "histogram2d"
           }
          ],
          "histogram2dcontour": [
           {
            "colorbar": {
             "outlinewidth": 0,
             "ticks": ""
            },
            "colorscale": [
             [
              0,
              "#0d0887"
             ],
             [
              0.1111111111111111,
              "#46039f"
             ],
             [
              0.2222222222222222,
              "#7201a8"
             ],
             [
              0.3333333333333333,
              "#9c179e"
             ],
             [
              0.4444444444444444,
              "#bd3786"
             ],
             [
              0.5555555555555556,
              "#d8576b"
             ],
             [
              0.6666666666666666,
              "#ed7953"
             ],
             [
              0.7777777777777778,
              "#fb9f3a"
             ],
             [
              0.8888888888888888,
              "#fdca26"
             ],
             [
              1,
              "#f0f921"
             ]
            ],
            "type": "histogram2dcontour"
           }
          ],
          "mesh3d": [
           {
            "colorbar": {
             "outlinewidth": 0,
             "ticks": ""
            },
            "type": "mesh3d"
           }
          ],
          "parcoords": [
           {
            "line": {
             "colorbar": {
              "outlinewidth": 0,
              "ticks": ""
             }
            },
            "type": "parcoords"
           }
          ],
          "pie": [
           {
            "automargin": true,
            "type": "pie"
           }
          ],
          "scatter": [
           {
            "marker": {
             "colorbar": {
              "outlinewidth": 0,
              "ticks": ""
             }
            },
            "type": "scatter"
           }
          ],
          "scatter3d": [
           {
            "line": {
             "colorbar": {
              "outlinewidth": 0,
              "ticks": ""
             }
            },
            "marker": {
             "colorbar": {
              "outlinewidth": 0,
              "ticks": ""
             }
            },
            "type": "scatter3d"
           }
          ],
          "scattercarpet": [
           {
            "marker": {
             "colorbar": {
              "outlinewidth": 0,
              "ticks": ""
             }
            },
            "type": "scattercarpet"
           }
          ],
          "scattergeo": [
           {
            "marker": {
             "colorbar": {
              "outlinewidth": 0,
              "ticks": ""
             }
            },
            "type": "scattergeo"
           }
          ],
          "scattergl": [
           {
            "marker": {
             "colorbar": {
              "outlinewidth": 0,
              "ticks": ""
             }
            },
            "type": "scattergl"
           }
          ],
          "scattermapbox": [
           {
            "marker": {
             "colorbar": {
              "outlinewidth": 0,
              "ticks": ""
             }
            },
            "type": "scattermapbox"
           }
          ],
          "scatterpolar": [
           {
            "marker": {
             "colorbar": {
              "outlinewidth": 0,
              "ticks": ""
             }
            },
            "type": "scatterpolar"
           }
          ],
          "scatterpolargl": [
           {
            "marker": {
             "colorbar": {
              "outlinewidth": 0,
              "ticks": ""
             }
            },
            "type": "scatterpolargl"
           }
          ],
          "scatterternary": [
           {
            "marker": {
             "colorbar": {
              "outlinewidth": 0,
              "ticks": ""
             }
            },
            "type": "scatterternary"
           }
          ],
          "surface": [
           {
            "colorbar": {
             "outlinewidth": 0,
             "ticks": ""
            },
            "colorscale": [
             [
              0,
              "#0d0887"
             ],
             [
              0.1111111111111111,
              "#46039f"
             ],
             [
              0.2222222222222222,
              "#7201a8"
             ],
             [
              0.3333333333333333,
              "#9c179e"
             ],
             [
              0.4444444444444444,
              "#bd3786"
             ],
             [
              0.5555555555555556,
              "#d8576b"
             ],
             [
              0.6666666666666666,
              "#ed7953"
             ],
             [
              0.7777777777777778,
              "#fb9f3a"
             ],
             [
              0.8888888888888888,
              "#fdca26"
             ],
             [
              1,
              "#f0f921"
             ]
            ],
            "type": "surface"
           }
          ],
          "table": [
           {
            "cells": {
             "fill": {
              "color": "#EBF0F8"
             },
             "line": {
              "color": "white"
             }
            },
            "header": {
             "fill": {
              "color": "#C8D4E3"
             },
             "line": {
              "color": "white"
             }
            },
            "type": "table"
           }
          ]
         },
         "layout": {
          "annotationdefaults": {
           "arrowcolor": "#2a3f5f",
           "arrowhead": 0,
           "arrowwidth": 1
          },
          "autotypenumbers": "strict",
          "coloraxis": {
           "colorbar": {
            "outlinewidth": 0,
            "ticks": ""
           }
          },
          "colorscale": {
           "diverging": [
            [
             0,
             "#8e0152"
            ],
            [
             0.1,
             "#c51b7d"
            ],
            [
             0.2,
             "#de77ae"
            ],
            [
             0.3,
             "#f1b6da"
            ],
            [
             0.4,
             "#fde0ef"
            ],
            [
             0.5,
             "#f7f7f7"
            ],
            [
             0.6,
             "#e6f5d0"
            ],
            [
             0.7,
             "#b8e186"
            ],
            [
             0.8,
             "#7fbc41"
            ],
            [
             0.9,
             "#4d9221"
            ],
            [
             1,
             "#276419"
            ]
           ],
           "sequential": [
            [
             0,
             "#0d0887"
            ],
            [
             0.1111111111111111,
             "#46039f"
            ],
            [
             0.2222222222222222,
             "#7201a8"
            ],
            [
             0.3333333333333333,
             "#9c179e"
            ],
            [
             0.4444444444444444,
             "#bd3786"
            ],
            [
             0.5555555555555556,
             "#d8576b"
            ],
            [
             0.6666666666666666,
             "#ed7953"
            ],
            [
             0.7777777777777778,
             "#fb9f3a"
            ],
            [
             0.8888888888888888,
             "#fdca26"
            ],
            [
             1,
             "#f0f921"
            ]
           ],
           "sequentialminus": [
            [
             0,
             "#0d0887"
            ],
            [
             0.1111111111111111,
             "#46039f"
            ],
            [
             0.2222222222222222,
             "#7201a8"
            ],
            [
             0.3333333333333333,
             "#9c179e"
            ],
            [
             0.4444444444444444,
             "#bd3786"
            ],
            [
             0.5555555555555556,
             "#d8576b"
            ],
            [
             0.6666666666666666,
             "#ed7953"
            ],
            [
             0.7777777777777778,
             "#fb9f3a"
            ],
            [
             0.8888888888888888,
             "#fdca26"
            ],
            [
             1,
             "#f0f921"
            ]
           ]
          },
          "colorway": [
           "#636efa",
           "#EF553B",
           "#00cc96",
           "#ab63fa",
           "#FFA15A",
           "#19d3f3",
           "#FF6692",
           "#B6E880",
           "#FF97FF",
           "#FECB52"
          ],
          "font": {
           "color": "#2a3f5f"
          },
          "geo": {
           "bgcolor": "white",
           "lakecolor": "white",
           "landcolor": "#E5ECF6",
           "showlakes": true,
           "showland": true,
           "subunitcolor": "white"
          },
          "hoverlabel": {
           "align": "left"
          },
          "hovermode": "closest",
          "mapbox": {
           "style": "light"
          },
          "paper_bgcolor": "white",
          "plot_bgcolor": "#E5ECF6",
          "polar": {
           "angularaxis": {
            "gridcolor": "white",
            "linecolor": "white",
            "ticks": ""
           },
           "bgcolor": "#E5ECF6",
           "radialaxis": {
            "gridcolor": "white",
            "linecolor": "white",
            "ticks": ""
           }
          },
          "scene": {
           "xaxis": {
            "backgroundcolor": "#E5ECF6",
            "gridcolor": "white",
            "gridwidth": 2,
            "linecolor": "white",
            "showbackground": true,
            "ticks": "",
            "zerolinecolor": "white"
           },
           "yaxis": {
            "backgroundcolor": "#E5ECF6",
            "gridcolor": "white",
            "gridwidth": 2,
            "linecolor": "white",
            "showbackground": true,
            "ticks": "",
            "zerolinecolor": "white"
           },
           "zaxis": {
            "backgroundcolor": "#E5ECF6",
            "gridcolor": "white",
            "gridwidth": 2,
            "linecolor": "white",
            "showbackground": true,
            "ticks": "",
            "zerolinecolor": "white"
           }
          },
          "shapedefaults": {
           "line": {
            "color": "#2a3f5f"
           }
          },
          "ternary": {
           "aaxis": {
            "gridcolor": "white",
            "linecolor": "white",
            "ticks": ""
           },
           "baxis": {
            "gridcolor": "white",
            "linecolor": "white",
            "ticks": ""
           },
           "bgcolor": "#E5ECF6",
           "caxis": {
            "gridcolor": "white",
            "linecolor": "white",
            "ticks": ""
           }
          },
          "title": {
           "x": 0.05
          },
          "xaxis": {
           "automargin": true,
           "gridcolor": "white",
           "linecolor": "white",
           "ticks": "",
           "title": {
            "standoff": 15
           },
           "zerolinecolor": "white",
           "zerolinewidth": 2
          },
          "yaxis": {
           "automargin": true,
           "gridcolor": "white",
           "linecolor": "white",
           "ticks": "",
           "title": {
            "standoff": 15
           },
           "zerolinecolor": "white",
           "zerolinewidth": 2
          }
         }
        },
        "title": {
         "text": "3eiy"
        },
        "xaxis": {
         "anchor": "y",
         "domain": [
          0,
          1
         ],
         "title": {
          "text": "index"
         }
        },
        "yaxis": {
         "anchor": "x",
         "domain": [
          0,
          1
         ],
         "title": {
          "text": "value"
         }
        }
       }
      }
     },
     "metadata": {},
     "output_type": "display_data"
    }
   ],
   "source": [
    "from graphein.protein.analysis import plot_edge_type_distribution\n",
    "\n",
    "fig = plot_edge_type_distribution(g, plot_type=\"bar\")\n",
    "fig.show()"
   ]
  },
  {
   "cell_type": "code",
   "execution_count": 11,
   "metadata": {},
   "outputs": [
    {
     "data": {
      "application/vnd.plotly.v1+json": {
       "config": {
        "plotlyServerURL": "https://plot.ly"
       },
       "data": [
        {
         "domain": {
          "x": [
           0,
           1
          ],
          "y": [
           0,
           1
          ]
         },
         "hovertemplate": "index=%{label}<br>counts=%{value}<extra></extra>",
         "labels": [
          "peptide_bond",
          "hydrophobic",
          "aromatic"
         ],
         "legendgroup": "",
         "name": "",
         "showlegend": true,
         "type": "pie",
         "values": [
          173,
          148,
          7
         ]
        }
       ],
       "layout": {
        "legend": {
         "tracegroupgap": 0
        },
        "template": {
         "data": {
          "bar": [
           {
            "error_x": {
             "color": "#2a3f5f"
            },
            "error_y": {
             "color": "#2a3f5f"
            },
            "marker": {
             "line": {
              "color": "#E5ECF6",
              "width": 0.5
             },
             "pattern": {
              "fillmode": "overlay",
              "size": 10,
              "solidity": 0.2
             }
            },
            "type": "bar"
           }
          ],
          "barpolar": [
           {
            "marker": {
             "line": {
              "color": "#E5ECF6",
              "width": 0.5
             },
             "pattern": {
              "fillmode": "overlay",
              "size": 10,
              "solidity": 0.2
             }
            },
            "type": "barpolar"
           }
          ],
          "carpet": [
           {
            "aaxis": {
             "endlinecolor": "#2a3f5f",
             "gridcolor": "white",
             "linecolor": "white",
             "minorgridcolor": "white",
             "startlinecolor": "#2a3f5f"
            },
            "baxis": {
             "endlinecolor": "#2a3f5f",
             "gridcolor": "white",
             "linecolor": "white",
             "minorgridcolor": "white",
             "startlinecolor": "#2a3f5f"
            },
            "type": "carpet"
           }
          ],
          "choropleth": [
           {
            "colorbar": {
             "outlinewidth": 0,
             "ticks": ""
            },
            "type": "choropleth"
           }
          ],
          "contour": [
           {
            "colorbar": {
             "outlinewidth": 0,
             "ticks": ""
            },
            "colorscale": [
             [
              0,
              "#0d0887"
             ],
             [
              0.1111111111111111,
              "#46039f"
             ],
             [
              0.2222222222222222,
              "#7201a8"
             ],
             [
              0.3333333333333333,
              "#9c179e"
             ],
             [
              0.4444444444444444,
              "#bd3786"
             ],
             [
              0.5555555555555556,
              "#d8576b"
             ],
             [
              0.6666666666666666,
              "#ed7953"
             ],
             [
              0.7777777777777778,
              "#fb9f3a"
             ],
             [
              0.8888888888888888,
              "#fdca26"
             ],
             [
              1,
              "#f0f921"
             ]
            ],
            "type": "contour"
           }
          ],
          "contourcarpet": [
           {
            "colorbar": {
             "outlinewidth": 0,
             "ticks": ""
            },
            "type": "contourcarpet"
           }
          ],
          "heatmap": [
           {
            "colorbar": {
             "outlinewidth": 0,
             "ticks": ""
            },
            "colorscale": [
             [
              0,
              "#0d0887"
             ],
             [
              0.1111111111111111,
              "#46039f"
             ],
             [
              0.2222222222222222,
              "#7201a8"
             ],
             [
              0.3333333333333333,
              "#9c179e"
             ],
             [
              0.4444444444444444,
              "#bd3786"
             ],
             [
              0.5555555555555556,
              "#d8576b"
             ],
             [
              0.6666666666666666,
              "#ed7953"
             ],
             [
              0.7777777777777778,
              "#fb9f3a"
             ],
             [
              0.8888888888888888,
              "#fdca26"
             ],
             [
              1,
              "#f0f921"
             ]
            ],
            "type": "heatmap"
           }
          ],
          "heatmapgl": [
           {
            "colorbar": {
             "outlinewidth": 0,
             "ticks": ""
            },
            "colorscale": [
             [
              0,
              "#0d0887"
             ],
             [
              0.1111111111111111,
              "#46039f"
             ],
             [
              0.2222222222222222,
              "#7201a8"
             ],
             [
              0.3333333333333333,
              "#9c179e"
             ],
             [
              0.4444444444444444,
              "#bd3786"
             ],
             [
              0.5555555555555556,
              "#d8576b"
             ],
             [
              0.6666666666666666,
              "#ed7953"
             ],
             [
              0.7777777777777778,
              "#fb9f3a"
             ],
             [
              0.8888888888888888,
              "#fdca26"
             ],
             [
              1,
              "#f0f921"
             ]
            ],
            "type": "heatmapgl"
           }
          ],
          "histogram": [
           {
            "marker": {
             "pattern": {
              "fillmode": "overlay",
              "size": 10,
              "solidity": 0.2
             }
            },
            "type": "histogram"
           }
          ],
          "histogram2d": [
           {
            "colorbar": {
             "outlinewidth": 0,
             "ticks": ""
            },
            "colorscale": [
             [
              0,
              "#0d0887"
             ],
             [
              0.1111111111111111,
              "#46039f"
             ],
             [
              0.2222222222222222,
              "#7201a8"
             ],
             [
              0.3333333333333333,
              "#9c179e"
             ],
             [
              0.4444444444444444,
              "#bd3786"
             ],
             [
              0.5555555555555556,
              "#d8576b"
             ],
             [
              0.6666666666666666,
              "#ed7953"
             ],
             [
              0.7777777777777778,
              "#fb9f3a"
             ],
             [
              0.8888888888888888,
              "#fdca26"
             ],
             [
              1,
              "#f0f921"
             ]
            ],
            "type": "histogram2d"
           }
          ],
          "histogram2dcontour": [
           {
            "colorbar": {
             "outlinewidth": 0,
             "ticks": ""
            },
            "colorscale": [
             [
              0,
              "#0d0887"
             ],
             [
              0.1111111111111111,
              "#46039f"
             ],
             [
              0.2222222222222222,
              "#7201a8"
             ],
             [
              0.3333333333333333,
              "#9c179e"
             ],
             [
              0.4444444444444444,
              "#bd3786"
             ],
             [
              0.5555555555555556,
              "#d8576b"
             ],
             [
              0.6666666666666666,
              "#ed7953"
             ],
             [
              0.7777777777777778,
              "#fb9f3a"
             ],
             [
              0.8888888888888888,
              "#fdca26"
             ],
             [
              1,
              "#f0f921"
             ]
            ],
            "type": "histogram2dcontour"
           }
          ],
          "mesh3d": [
           {
            "colorbar": {
             "outlinewidth": 0,
             "ticks": ""
            },
            "type": "mesh3d"
           }
          ],
          "parcoords": [
           {
            "line": {
             "colorbar": {
              "outlinewidth": 0,
              "ticks": ""
             }
            },
            "type": "parcoords"
           }
          ],
          "pie": [
           {
            "automargin": true,
            "type": "pie"
           }
          ],
          "scatter": [
           {
            "marker": {
             "colorbar": {
              "outlinewidth": 0,
              "ticks": ""
             }
            },
            "type": "scatter"
           }
          ],
          "scatter3d": [
           {
            "line": {
             "colorbar": {
              "outlinewidth": 0,
              "ticks": ""
             }
            },
            "marker": {
             "colorbar": {
              "outlinewidth": 0,
              "ticks": ""
             }
            },
            "type": "scatter3d"
           }
          ],
          "scattercarpet": [
           {
            "marker": {
             "colorbar": {
              "outlinewidth": 0,
              "ticks": ""
             }
            },
            "type": "scattercarpet"
           }
          ],
          "scattergeo": [
           {
            "marker": {
             "colorbar": {
              "outlinewidth": 0,
              "ticks": ""
             }
            },
            "type": "scattergeo"
           }
          ],
          "scattergl": [
           {
            "marker": {
             "colorbar": {
              "outlinewidth": 0,
              "ticks": ""
             }
            },
            "type": "scattergl"
           }
          ],
          "scattermapbox": [
           {
            "marker": {
             "colorbar": {
              "outlinewidth": 0,
              "ticks": ""
             }
            },
            "type": "scattermapbox"
           }
          ],
          "scatterpolar": [
           {
            "marker": {
             "colorbar": {
              "outlinewidth": 0,
              "ticks": ""
             }
            },
            "type": "scatterpolar"
           }
          ],
          "scatterpolargl": [
           {
            "marker": {
             "colorbar": {
              "outlinewidth": 0,
              "ticks": ""
             }
            },
            "type": "scatterpolargl"
           }
          ],
          "scatterternary": [
           {
            "marker": {
             "colorbar": {
              "outlinewidth": 0,
              "ticks": ""
             }
            },
            "type": "scatterternary"
           }
          ],
          "surface": [
           {
            "colorbar": {
             "outlinewidth": 0,
             "ticks": ""
            },
            "colorscale": [
             [
              0,
              "#0d0887"
             ],
             [
              0.1111111111111111,
              "#46039f"
             ],
             [
              0.2222222222222222,
              "#7201a8"
             ],
             [
              0.3333333333333333,
              "#9c179e"
             ],
             [
              0.4444444444444444,
              "#bd3786"
             ],
             [
              0.5555555555555556,
              "#d8576b"
             ],
             [
              0.6666666666666666,
              "#ed7953"
             ],
             [
              0.7777777777777778,
              "#fb9f3a"
             ],
             [
              0.8888888888888888,
              "#fdca26"
             ],
             [
              1,
              "#f0f921"
             ]
            ],
            "type": "surface"
           }
          ],
          "table": [
           {
            "cells": {
             "fill": {
              "color": "#EBF0F8"
             },
             "line": {
              "color": "white"
             }
            },
            "header": {
             "fill": {
              "color": "#C8D4E3"
             },
             "line": {
              "color": "white"
             }
            },
            "type": "table"
           }
          ]
         },
         "layout": {
          "annotationdefaults": {
           "arrowcolor": "#2a3f5f",
           "arrowhead": 0,
           "arrowwidth": 1
          },
          "autotypenumbers": "strict",
          "coloraxis": {
           "colorbar": {
            "outlinewidth": 0,
            "ticks": ""
           }
          },
          "colorscale": {
           "diverging": [
            [
             0,
             "#8e0152"
            ],
            [
             0.1,
             "#c51b7d"
            ],
            [
             0.2,
             "#de77ae"
            ],
            [
             0.3,
             "#f1b6da"
            ],
            [
             0.4,
             "#fde0ef"
            ],
            [
             0.5,
             "#f7f7f7"
            ],
            [
             0.6,
             "#e6f5d0"
            ],
            [
             0.7,
             "#b8e186"
            ],
            [
             0.8,
             "#7fbc41"
            ],
            [
             0.9,
             "#4d9221"
            ],
            [
             1,
             "#276419"
            ]
           ],
           "sequential": [
            [
             0,
             "#0d0887"
            ],
            [
             0.1111111111111111,
             "#46039f"
            ],
            [
             0.2222222222222222,
             "#7201a8"
            ],
            [
             0.3333333333333333,
             "#9c179e"
            ],
            [
             0.4444444444444444,
             "#bd3786"
            ],
            [
             0.5555555555555556,
             "#d8576b"
            ],
            [
             0.6666666666666666,
             "#ed7953"
            ],
            [
             0.7777777777777778,
             "#fb9f3a"
            ],
            [
             0.8888888888888888,
             "#fdca26"
            ],
            [
             1,
             "#f0f921"
            ]
           ],
           "sequentialminus": [
            [
             0,
             "#0d0887"
            ],
            [
             0.1111111111111111,
             "#46039f"
            ],
            [
             0.2222222222222222,
             "#7201a8"
            ],
            [
             0.3333333333333333,
             "#9c179e"
            ],
            [
             0.4444444444444444,
             "#bd3786"
            ],
            [
             0.5555555555555556,
             "#d8576b"
            ],
            [
             0.6666666666666666,
             "#ed7953"
            ],
            [
             0.7777777777777778,
             "#fb9f3a"
            ],
            [
             0.8888888888888888,
             "#fdca26"
            ],
            [
             1,
             "#f0f921"
            ]
           ]
          },
          "colorway": [
           "#636efa",
           "#EF553B",
           "#00cc96",
           "#ab63fa",
           "#FFA15A",
           "#19d3f3",
           "#FF6692",
           "#B6E880",
           "#FF97FF",
           "#FECB52"
          ],
          "font": {
           "color": "#2a3f5f"
          },
          "geo": {
           "bgcolor": "white",
           "lakecolor": "white",
           "landcolor": "#E5ECF6",
           "showlakes": true,
           "showland": true,
           "subunitcolor": "white"
          },
          "hoverlabel": {
           "align": "left"
          },
          "hovermode": "closest",
          "mapbox": {
           "style": "light"
          },
          "paper_bgcolor": "white",
          "plot_bgcolor": "#E5ECF6",
          "polar": {
           "angularaxis": {
            "gridcolor": "white",
            "linecolor": "white",
            "ticks": ""
           },
           "bgcolor": "#E5ECF6",
           "radialaxis": {
            "gridcolor": "white",
            "linecolor": "white",
            "ticks": ""
           }
          },
          "scene": {
           "xaxis": {
            "backgroundcolor": "#E5ECF6",
            "gridcolor": "white",
            "gridwidth": 2,
            "linecolor": "white",
            "showbackground": true,
            "ticks": "",
            "zerolinecolor": "white"
           },
           "yaxis": {
            "backgroundcolor": "#E5ECF6",
            "gridcolor": "white",
            "gridwidth": 2,
            "linecolor": "white",
            "showbackground": true,
            "ticks": "",
            "zerolinecolor": "white"
           },
           "zaxis": {
            "backgroundcolor": "#E5ECF6",
            "gridcolor": "white",
            "gridwidth": 2,
            "linecolor": "white",
            "showbackground": true,
            "ticks": "",
            "zerolinecolor": "white"
           }
          },
          "shapedefaults": {
           "line": {
            "color": "#2a3f5f"
           }
          },
          "ternary": {
           "aaxis": {
            "gridcolor": "white",
            "linecolor": "white",
            "ticks": ""
           },
           "baxis": {
            "gridcolor": "white",
            "linecolor": "white",
            "ticks": ""
           },
           "bgcolor": "#E5ECF6",
           "caxis": {
            "gridcolor": "white",
            "linecolor": "white",
            "ticks": ""
           }
          },
          "title": {
           "x": 0.05
          },
          "xaxis": {
           "automargin": true,
           "gridcolor": "white",
           "linecolor": "white",
           "ticks": "",
           "title": {
            "standoff": 15
           },
           "zerolinecolor": "white",
           "zerolinewidth": 2
          },
          "yaxis": {
           "automargin": true,
           "gridcolor": "white",
           "linecolor": "white",
           "ticks": "",
           "title": {
            "standoff": 15
           },
           "zerolinecolor": "white",
           "zerolinewidth": 2
          }
         }
        },
        "title": {
         "text": "3eiy"
        }
       }
      }
     },
     "metadata": {},
     "output_type": "display_data"
    }
   ],
   "source": [
    "from graphein.protein.analysis import plot_edge_type_distribution\n",
    "\n",
    "fig = plot_edge_type_distribution(g, plot_type=\"pie\")\n",
    "fig.show()"
   ]
  },
  {
   "cell_type": "markdown",
   "metadata": {},
   "source": [
    "## Scatter Matrix\n",
    "\n",
    "We can use scatter matrices to correlate node-level graph metrics (e.g. centrality measures) with node features.\n",
    "\n",
    "First, we will plot the scatter matrix for a selection of centrality measures and the relative solvent accessibility (RSA) and absolute solvent accessibility (ASA). *N.B.* we can include these features in the plot as we have added them as metadata in the initial graph construction. Refer to cell 2 at the top of this notebook for clarity.\n",
    "\n",
    "\n",
    "A summary of the function parameters:\n",
    "\n",
    "```python\n",
    "\n",
    "plot_graph_metric_property_correlation(\n",
    "    g: nx.Graph,                                # Graph to plot\n",
    "    summary_statistics: List[str] = [           # Graph theoretic metrics to include\n",
    "        \"degree\",\n",
    "        \"betweenness_centrality\",\n",
    "        \"closeness_centrality\",\n",
    "        \"eigenvector_centrality\",\n",
    "        \"communicability_betweenness_centrality\",\n",
    "    ],\n",
    "    properties: List[str] = [\"asa\", \"rsa\"],     # Node features to include\n",
    "    colour_by: Optional[str] = \"residue_type\",  # How to colour the points\n",
    "    opacity: float = 0.2,                       # Opacity of markers\n",
    "    diagonal_visible: bool = True,              # Whether or not to show the leading diagonal of the plot\n",
    "    title: Optional[str] = None,                # Plot title\n",
    "    height: int = 1000,                         # Plot height\n",
    "    width: int = 1000,                          # Plot width\n",
    "    font_size: int = 10,                        # Font size for axes, title and ticks\n",
    ")\n",
    "```"
   ]
  },
  {
   "cell_type": "code",
   "execution_count": 12,
   "metadata": {},
   "outputs": [
    {
     "data": {
      "application/vnd.plotly.v1+json": {
       "config": {
        "plotlyServerURL": "https://plot.ly"
       },
       "data": [
        {
         "diagonal": {
          "visible": false
         },
         "dimensions": [
          {
           "axis": {
            "matches": true
           },
           "label": "degree",
           "values": [
            1,
            2,
            2,
            2,
            2,
            2,
            2
           ]
          },
          {
           "axis": {
            "matches": true
           },
           "label": "betweenness centrality",
           "values": [
            0,
            0.0020348580086018376,
            0.003055076989745627,
            0.0030208712289637157,
            0.004129164572236551,
            0.0023639870185895506,
            0.00172114725060789
           ]
          },
          {
           "axis": {
            "matches": true
           },
           "label": "closeness centrality",
           "values": [
            0.1787190082644628,
            0.17946058091286307,
            0.1624413145539906,
            0.125544267053701,
            0.180773249738767,
            0.12446043165467625,
            0.18463180362860193
           ]
          },
          {
           "axis": {
            "matches": true
           },
           "label": "eigenvector centrality",
           "values": [
            0.005603584005315519,
            0.006684642079511436,
            0.0010753740932918515,
            0.00005597447670099832,
            0.008231826274788535,
            0.00005353479346301537,
            0.015517143345497614
           ]
          },
          {
           "axis": {
            "matches": true
           },
           "label": "communicability betweenness centrality",
           "values": [
            0.0009537617993682485,
            0.003440681257066719,
            0.0024341818109738568,
            0.004158180628863399,
            0.004458530034070822,
            0.002685903033094482,
            0.0026005721653408116
           ]
          },
          {
           "axis": {
            "matches": true
           },
           "label": "asa",
           "values": [
            106,
            58,
            34,
            20,
            37,
            95,
            27
           ]
          }
         ],
         "hovertemplate": "residue type=SER<br>%{xaxis.title.text}=%{x}<br>%{yaxis.title.text}=%{y}<extra></extra>",
         "legendgroup": "SER",
         "marker": {
          "color": "#636efa",
          "opacity": 0.2,
          "symbol": "circle"
         },
         "name": "SER",
         "showlegend": true,
         "type": "splom"
        },
        {
         "diagonal": {
          "visible": false
         },
         "dimensions": [
          {
           "axis": {
            "matches": true
           },
           "label": "degree",
           "values": [
            6,
            10,
            4,
            7,
            2,
            7,
            11,
            3
           ]
          },
          {
           "axis": {
            "matches": true
           },
           "label": "betweenness centrality",
           "values": [
            0.05322768323082323,
            0.07377594192753173,
            0.02862784995456655,
            0.10605597991561179,
            0.007680126110339828,
            0.029819651510095878,
            0.15593986133993729,
            0.025774011587614398
           ]
          },
          {
           "axis": {
            "matches": true
           },
           "label": "closeness centrality",
           "values": [
            0.21733668341708542,
            0.2536656891495601,
            0.18622174381054898,
            0.24366197183098592,
            0.1778006166495375,
            0.22526041666666666,
            0.25667655786350146,
            0.13515625
           ]
          },
          {
           "axis": {
            "matches": true
           },
           "label": "eigenvector centrality",
           "values": [
            0.036295408714033105,
            0.24476813962872687,
            0.012653896093607663,
            0.08220195136218071,
            0.004916971284305013,
            0.1022670667043333,
            0.17997629855719352,
            0.0002688951835287636
           ]
          },
          {
           "axis": {
            "matches": true
           },
           "label": "communicability betweenness centrality",
           "values": [
            0.07074547332206543,
            0.14639119282979943,
            0.032672343621037304,
            0.12077573676513415,
            0.00716852511534986,
            0.07627065322660118,
            0.22200763930688872,
            0.02647669337693696
           ]
          },
          {
           "axis": {
            "matches": true
           },
           "label": "asa",
           "values": [
            19,
            0,
            159,
            2,
            163,
            5,
            2,
            102
           ]
          }
         ],
         "hovertemplate": "residue type=PHE<br>%{xaxis.title.text}=%{x}<br>%{yaxis.title.text}=%{y}<extra></extra>",
         "legendgroup": "PHE",
         "marker": {
          "color": "#EF553B",
          "opacity": 0.2,
          "symbol": "circle"
         },
         "name": "PHE",
         "showlegend": true,
         "type": "splom"
        },
        {
         "diagonal": {
          "visible": false
         },
         "dimensions": [
          {
           "axis": {
            "matches": true
           },
           "label": "degree",
           "values": [
            2,
            2,
            2,
            2,
            2
           ]
          },
          {
           "axis": {
            "matches": true
           },
           "label": "betweenness centrality",
           "values": [
            0.0007495644711668368,
            0,
            0.0009602995186301848,
            0.017295122113469476,
            0.02421394377967719
           ]
          },
          {
           "axis": {
            "matches": true
           },
           "label": "closeness centrality",
           "values": [
            0.17421953675730112,
            0.21464019851116625,
            0.21761006289308177,
            0.17617107942973523,
            0.14786324786324787
           ]
          },
          {
           "axis": {
            "matches": true
           },
           "label": "eigenvector centrality",
           "values": [
            0.007002235729676022,
            0.07710974453525231,
            0.035769803290303395,
            0.012200258398742333,
            0.0013678878585548107
           ]
          },
          {
           "axis": {
            "matches": true
           },
           "label": "communicability betweenness centrality",
           "values": [
            0.002089745964762669,
            0.007803597440108302,
            0.005204951739433882,
            0.018332016832320944,
            0.026654518118818613
           ]
          },
          {
           "axis": {
            "matches": true
           },
           "label": "asa",
           "values": [
            128,
            13,
            0,
            137,
            78
           ]
          }
         ],
         "hovertemplate": "residue type=ASN<br>%{xaxis.title.text}=%{x}<br>%{yaxis.title.text}=%{y}<extra></extra>",
         "legendgroup": "ASN",
         "marker": {
          "color": "#00cc96",
          "opacity": 0.2,
          "symbol": "circle"
         },
         "name": "ASN",
         "showlegend": true,
         "type": "splom"
        },
        {
         "diagonal": {
          "visible": false
         },
         "dimensions": [
          {
           "axis": {
            "matches": true
           },
           "label": "degree",
           "values": [
            5,
            9,
            5,
            3,
            5,
            7,
            6,
            9,
            9,
            4,
            9,
            2,
            8,
            5,
            4,
            7,
            6,
            6,
            5
           ]
          },
          {
           "axis": {
            "matches": true
           },
           "label": "betweenness centrality",
           "values": [
            0.017827287800428075,
            0.0570058562945924,
            0.009166478862506558,
            0.017915721266040713,
            0.02400274942121759,
            0.04485414756152362,
            0.03974927334748586,
            0.1127779643761299,
            0.10521572480414601,
            0.021602153374980382,
            0.06463612649646866,
            0.014380342608856083,
            0.08314790704419052,
            0.015173399838335846,
            0.03467023008252019,
            0.025181374192634245,
            0.052238172479818636,
            0.018512401275767875,
            0.0567655559863565
           ]
          },
          {
           "axis": {
            "matches": true
           },
           "label": "closeness centrality",
           "values": [
            0.20473372781065088,
            0.2578241430700447,
            0.1779835390946502,
            0.1778006166495375,
            0.17816683831101957,
            0.2443502824858757,
            0.24714285714285714,
            0.2763578274760383,
            0.2686335403726708,
            0.21358024691358024,
            0.24061196105702365,
            0.1440466278101582,
            0.2665639445300462,
            0.22179487179487178,
            0.20023148148148148,
            0.2300531914893617,
            0.21517412935323382,
            0.21815889029003782,
            0.20069605568445475
           ]
          },
          {
           "axis": {
            "matches": true
           },
           "label": "eigenvector centrality",
           "values": [
            0.03867015561106481,
            0.2546828229223045,
            0.007231429807147968,
            0.0031570092367898123,
            0.005822540754120381,
            0.1294143097982091,
            0.14947237275456712,
            0.2749833763531658,
            0.24962993200714406,
            0.05027457012661819,
            0.17357067090115083,
            0.0003673477000099316,
            0.1839474374537888,
            0.10292545392046616,
            0.04285489141753037,
            0.12080333825939028,
            0.07012131944463497,
            0.07034691825143555,
            0.054278965279772835
           ]
          },
          {
           "axis": {
            "matches": true
           },
           "label": "communicability betweenness centrality",
           "values": [
            0.026333103139643068,
            0.14680767986037452,
            0.020911958702691146,
            0.021599511475067102,
            0.03022261413824559,
            0.08460331391173016,
            0.08252177016780797,
            0.19837817959185605,
            0.1842755321549981,
            0.0282464960183194,
            0.1050875117184545,
            0.0141860028215396,
            0.1337257874836445,
            0.03897392530259024,
            0.04009718008278643,
            0.05891315468999722,
            0.07460679381633883,
            0.04553656605453633,
            0.06832241627825868
           ]
          },
          {
           "axis": {
            "matches": true
           },
           "label": "asa",
           "values": [
            29,
            0,
            18,
            62,
            72,
            5,
            0,
            0,
            0,
            75,
            10,
            116,
            1,
            0,
            83,
            4,
            25,
            26,
            25
           ]
          }
         ],
         "hovertemplate": "residue type=VAL<br>%{xaxis.title.text}=%{x}<br>%{yaxis.title.text}=%{y}<extra></extra>",
         "legendgroup": "VAL",
         "marker": {
          "color": "#ab63fa",
          "opacity": 0.2,
          "symbol": "circle"
         },
         "name": "VAL",
         "showlegend": true,
         "type": "splom"
        },
        {
         "diagonal": {
          "visible": false
         },
         "dimensions": [
          {
           "axis": {
            "matches": true
           },
           "label": "degree",
           "values": [
            2,
            3,
            5,
            3,
            5,
            5,
            3,
            3,
            4,
            5,
            2,
            5
           ]
          },
          {
           "axis": {
            "matches": true
           },
           "label": "betweenness centrality",
           "values": [
            0.0032122128083002014,
            0.004350496748866233,
            0.04403567678236315,
            0.015695904302266552,
            0.023518987206021934,
            0.060784827206272825,
            0.04318173367855883,
            0.018719883746525542,
            0.018172426166758335,
            0.03482839844444286,
            0.003100550116204979,
            0.013352129389350197
           ]
          },
          {
           "axis": {
            "matches": true
           },
           "label": "closeness centrality",
           "values": [
            0.18948521358159912,
            0.19548022598870057,
            0.23473541383989144,
            0.1858216970998926,
            0.2255541069100391,
            0.22733245729303547,
            0.21625,
            0.17617107942973523,
            0.20843373493975903,
            0.2232258064516129,
            0.14875322441960448,
            0.20595238095238094
           ]
          },
          {
           "axis": {
            "matches": true
           },
           "label": "eigenvector centrality",
           "values": [
            0.015605298525101216,
            0.04387882685191156,
            0.041312517291614885,
            0.01172916018099088,
            0.10075936770958968,
            0.07242786361559989,
            0.03666372934741013,
            0.005282429745113697,
            0.026564992613481785,
            0.09007143908995487,
            0.0012165619580293031,
            0.05585372917797348
           ]
          },
          {
           "axis": {
            "matches": true
           },
           "label": "communicability betweenness centrality",
           "values": [
            0.0035941230845279756,
            0.011600035006970228,
            0.048218221571879924,
            0.020661608276741024,
            0.050565904751183076,
            0.08000793380532921,
            0.048535119441780794,
            0.017749201337741903,
            0.024415665432853055,
            0.050257033237839026,
            0.003410213478358805,
            0.02319108560309936
           ]
          },
          {
           "axis": {
            "matches": true
           },
           "label": "asa",
           "values": [
            71,
            26,
            25,
            31,
            20,
            1,
            19,
            72,
            80,
            3,
            77,
            60
           ]
          }
         ],
         "hovertemplate": "residue type=PRO<br>%{xaxis.title.text}=%{x}<br>%{yaxis.title.text}=%{y}<extra></extra>",
         "legendgroup": "PRO",
         "marker": {
          "color": "#FFA15A",
          "opacity": 0.2,
          "symbol": "circle"
         },
         "name": "PRO",
         "showlegend": true,
         "type": "splom"
        },
        {
         "diagonal": {
          "visible": false
         },
         "dimensions": [
          {
           "axis": {
            "matches": true
           },
           "label": "degree",
           "values": [
            5,
            4,
            5,
            2,
            4,
            6,
            6,
            3,
            6,
            2,
            2,
            2,
            3,
            5,
            2
           ]
          },
          {
           "axis": {
            "matches": true
           },
           "label": "betweenness centrality",
           "values": [
            0.033450536576057274,
            0.03202395424315709,
            0.050464418341478356,
            0.0011639109199265139,
            0.023330842060692525,
            0.015241464020113612,
            0.05483426890401487,
            0.03698640583361806,
            0.018416538588878092,
            0.006741546232732692,
            0,
            0.02324885257235035,
            0.006228076676053556,
            0.02362419516065187,
            0.034513267165436935
           ]
          },
          {
           "axis": {
            "matches": true
           },
           "label": "closeness centrality",
           "values": [
            0.21733668341708542,
            0.22010178117048346,
            0.20944309927360774,
            0.13974151857835218,
            0.20092915214866433,
            0.2261437908496732,
            0.23473541383989144,
            0.1977142857142857,
            0.24679029957203993,
            0.1516213847502191,
            0.17111770524233433,
            0.15613718411552346,
            0.19885057471264367,
            0.2255541069100391,
            0.17010816125860373
           ]
          },
          {
           "axis": {
            "matches": true
           },
           "label": "eigenvector centrality",
           "values": [
            0.062408236423440185,
            0.031230886499991565,
            0.021775904653837354,
            0.000236603976512272,
            0.011486350480265932,
            0.14615475440836417,
            0.10411949955358903,
            0.014622770692440239,
            0.18564035539624174,
            0.001955899889549626,
            0.013161224579742207,
            0.0025136879654094235,
            0.019468980698037475,
            0.05809303217292949,
            0.008591201993265003
           ]
          },
          {
           "axis": {
            "matches": true
           },
           "label": "communicability betweenness centrality",
           "values": [
            0.04362137864513258,
            0.034426349946899075,
            0.05987510779646587,
            0.0016439104052491575,
            0.024618687718278236,
            0.042655550972241905,
            0.06675751988507324,
            0.03813064189341491,
            0.0721222241863526,
            0.007302844807462442,
            0.0011308849148313896,
            0.0237384445778884,
            0.01105503719801344,
            0.038435028176228854,
            0.03713266653857182
           ]
          },
          {
           "axis": {
            "matches": true
           },
           "label": "asa",
           "values": [
            6,
            14,
            9,
            95,
            42,
            1,
            5,
            12,
            0,
            22,
            65,
            64,
            21,
            0,
            54
           ]
          }
         ],
         "hovertemplate": "residue type=ALA<br>%{xaxis.title.text}=%{x}<br>%{yaxis.title.text}=%{y}<extra></extra>",
         "legendgroup": "ALA",
         "marker": {
          "color": "#19d3f3",
          "opacity": 0.2,
          "symbol": "circle"
         },
         "name": "ALA",
         "showlegend": true,
         "type": "splom"
        },
        {
         "diagonal": {
          "visible": false
         },
         "dimensions": [
          {
           "axis": {
            "matches": true
           },
           "label": "degree",
           "values": [
            2,
            2,
            2,
            2,
            2,
            2,
            2,
            2,
            2,
            2,
            2,
            2,
            2,
            2
           ]
          },
          {
           "axis": {
            "matches": true
           },
           "label": "betweenness centrality",
           "values": [
            0.005574541140477425,
            0,
            0.00978234601457102,
            0.0017111342919217995,
            0.028640299051901685,
            0.0015347044853698973,
            0.02096308718838629,
            0.0022574078697213517,
            0.005570244534111436,
            0.005049209315575763,
            0.010895521671499623,
            0.0029937406248066287,
            0.0020763052722993576,
            0.0009722954675233208
           ]
          },
          {
           "axis": {
            "matches": true
           },
           "label": "closeness centrality",
           "values": [
            0.17927461139896372,
            0.1481164383561644,
            0.1779835390946502,
            0.16093023255813954,
            0.23159303882195448,
            0.12200282087447109,
            0.1550179211469534,
            0.17369477911646586,
            0.21571072319201995,
            0.12729948491537896,
            0.13348765432098766,
            0.19094922737306844,
            0.1787190082644628,
            0.16779825412221144
           ]
          },
          {
           "axis": {
            "matches": true
           },
           "label": "eigenvector centrality",
           "values": [
            0.010233605379394984,
            0.0005094937566829749,
            0.01074871797828235,
            0.0077645047229383465,
            0.028479789120842817,
            0.00003127855918588524,
            0.0009184356345267297,
            0.003044285407435818,
            0.03066767087603704,
            0.00006498123533265566,
            0.0002795785480033329,
            0.015187014568780062,
            0.004881342055058191,
            0.00928071543988116
           ]
          },
          {
           "axis": {
            "matches": true
           },
           "label": "communicability betweenness centrality",
           "values": [
            0.005774518969937564,
            0.001496766867208681,
            0.008986744632979377,
            0.004526997475185573,
            0.021997611205792973,
            0.002127689958711363,
            0.020646314030608178,
            0.0023763421794720345,
            0.007518677406990089,
            0.004880334701685859,
            0.010768172883735778,
            0.003689679191198163,
            0.00196525821626307,
            0.0032876784319815023
           ]
          },
          {
           "axis": {
            "matches": true
           },
           "label": "asa",
           "values": [
            16,
            17,
            40,
            39,
            0,
            81,
            44,
            30,
            0,
            33,
            65,
            19,
            22,
            1
           ]
          }
         ],
         "hovertemplate": "residue type=GLY<br>%{xaxis.title.text}=%{x}<br>%{yaxis.title.text}=%{y}<extra></extra>",
         "legendgroup": "GLY",
         "marker": {
          "color": "#FF6692",
          "opacity": 0.2,
          "symbol": "circle"
         },
         "name": "GLY",
         "showlegend": true,
         "type": "splom"
        },
        {
         "diagonal": {
          "visible": false
         },
         "dimensions": [
          {
           "axis": {
            "matches": true
           },
           "label": "degree",
           "values": [
            2,
            2,
            2,
            2,
            2,
            2,
            2,
            2,
            2,
            2,
            2,
            2,
            2,
            2,
            2,
            1
           ]
          },
          {
           "axis": {
            "matches": true
           },
           "label": "betweenness centrality",
           "values": [
            0.00006721333512568894,
            0,
            0.005696434286978059,
            0,
            0.0126913930418009,
            0.001881875354796693,
            0.0009131288570729357,
            0.003428886165141038,
            0.0032956098831662907,
            0.03427183953296334,
            0.0007751937984496123,
            0.02191850863211262,
            0,
            0.00041672267777927163,
            0.011560693641618498,
            0
           ]
          },
          {
           "axis": {
            "matches": true
           },
           "label": "closeness centrality",
           "values": [
            0.15585585585585585,
            0.17248255234297108,
            0.15069686411149827,
            0.19794050343249428,
            0.21046228710462286,
            0.16747337850919652,
            0.17761806981519507,
            0.18948521358159912,
            0.20400943396226415,
            0.1832627118644068,
            0.1184931506849315,
            0.15282685512367492,
            0.18443496801705758,
            0.17010816125860373,
            0.1193103448275862,
            0.10665844636251541
           ]
          },
          {
           "axis": {
            "matches": true
           },
           "label": "eigenvector centrality",
           "values": [
            0.0038767192531952927,
            0.0031914126111335034,
            0.0005691391195098697,
            0.026344054749583144,
            0.030130151279343053,
            0.007130002899912308,
            0.014294030798493014,
            0.01979234471877798,
            0.026599852361262718,
            0.01588120269342377,
            0.00005396551598928243,
            0.001756734915958441,
            0.021688433748468707,
            0.005929505827061392,
            0.00004252738060102115,
            0.000006565620352724713
           ]
          },
          {
           "axis": {
            "matches": true
           },
           "label": "communicability betweenness centrality",
           "values": [
            0.0007259482345023312,
            0.0031814825743175837,
            0.004496025500111805,
            0.0050461230115932485,
            0.015976968870243278,
            0.003918535123747475,
            0.0022235118672500687,
            0.005874000305290017,
            0.004699103316827473,
            0.03565627791041124,
            0.0014800538705549405,
            0.02179996060300935,
            0.0032244106212684256,
            0.0011493331145910875,
            0.011769444427517794,
            0.0001261099414032021
           ]
          },
          {
           "axis": {
            "matches": true
           },
           "label": "asa",
           "values": [
            144,
            13,
            69,
            84,
            7,
            82,
            123,
            41,
            64,
            13,
            107,
            61,
            42,
            131,
            158,
            229
           ]
          }
         ],
         "hovertemplate": "residue type=LYS<br>%{xaxis.title.text}=%{x}<br>%{yaxis.title.text}=%{y}<extra></extra>",
         "legendgroup": "LYS",
         "marker": {
          "color": "#B6E880",
          "opacity": 0.2,
          "symbol": "circle"
         },
         "name": "LYS",
         "showlegend": true,
         "type": "splom"
        },
        {
         "diagonal": {
          "visible": false
         },
         "dimensions": [
          {
           "axis": {
            "matches": true
           },
           "label": "degree",
           "values": [
            2,
            2,
            2,
            2,
            2,
            2,
            2,
            2,
            2,
            2,
            2,
            2,
            2,
            2,
            2,
            2
           ]
          },
          {
           "axis": {
            "matches": true
           },
           "label": "betweenness centrality",
           "values": [
            0.005918939166015384,
            0.007142983557626576,
            0.015958790338418672,
            0.0010961156511633725,
            0.010612233579030194,
            0.031448367467993774,
            0,
            0.019831244970119576,
            0.02533611623434339,
            0.00006721333512568894,
            0.0002925647115054294,
            0.0005864155523047848,
            0.00006721333512568894,
            0.006159141973767595,
            0.0008357658159378822,
            0.00006721333512568894
           ]
          },
          {
           "axis": {
            "matches": true
           },
           "label": "closeness centrality",
           "values": [
            0.17816683831101957,
            0.20329024676850763,
            0.17421953675730112,
            0.1516213847502191,
            0.13622047244094487,
            0.18020833333333333,
            0.2220795892169448,
            0.1550179211469534,
            0.16666666666666666,
            0.15599639314697927,
            0.18384697130712008,
            0.1876355748373102,
            0.17077986179664364,
            0.19073869900771775,
            0.17725409836065573,
            0.16476190476190475
           ]
          },
          {
           "axis": {
            "matches": true
           },
           "label": "eigenvector centrality",
           "values": [
            0.014876681344138616,
            0.03978363608982308,
            0.003449814537606873,
            0.0012299986348813597,
            0.00014662410518651392,
            0.005802252852176106,
            0.06553155453090903,
            0.0017711911450923488,
            0.0023143459254975737,
            0.0033270678062078773,
            0.016585237322614136,
            0.02121194184012603,
            0.0068518420451494635,
            0.013901569181667798,
            0.005740831333090333,
            0.005834002187532875
           ]
          },
          {
           "axis": {
            "matches": true
           },
           "label": "communicability betweenness centrality",
           "values": [
            0.007382918512095874,
            0.00785248456800003,
            0.015160043025253511,
            0.002055990331908136,
            0.010271493886235184,
            0.03132839621857682,
            0.007123418371139619,
            0.02041856756756711,
            0.0251734435720586,
            0.0008718172272738393,
            0.0018565329693500069,
            0.002701135968117105,
            0.0008414554701602856,
            0.007076259832177354,
            0.0015289146823499631,
            0.0011621005757804716
           ]
          },
          {
           "axis": {
            "matches": true
           },
           "label": "asa",
           "values": [
            90,
            22,
            51,
            71,
            68,
            85,
            19,
            16,
            10,
            69,
            122,
            70,
            104,
            73,
            135,
            67
           ]
          }
         ],
         "hovertemplate": "residue type=ASP<br>%{xaxis.title.text}=%{x}<br>%{yaxis.title.text}=%{y}<extra></extra>",
         "legendgroup": "ASP",
         "marker": {
          "color": "#FF97FF",
          "opacity": 0.2,
          "symbol": "circle"
         },
         "name": "ASP",
         "showlegend": true,
         "type": "splom"
        },
        {
         "diagonal": {
          "visible": false
         },
         "dimensions": [
          {
           "axis": {
            "matches": true
           },
           "label": "degree",
           "values": [
            6,
            4,
            3,
            6,
            3,
            8,
            5,
            2,
            8,
            7,
            8,
            6,
            8,
            2
           ]
          },
          {
           "axis": {
            "matches": true
           },
           "label": "betweenness centrality",
           "values": [
            0.026168337343376154,
            0.008263748746669148,
            0.01570137311829784,
            0.06807058606995642,
            0.025361061813259738,
            0.17796499146249656,
            0.020862466588271154,
            0.0032537622750412765,
            0.04834750953619218,
            0.07318599486553339,
            0.12060372752927453,
            0.04262003301525125,
            0.04896755439381092,
            0.012225865611737373
           ]
          },
          {
           "axis": {
            "matches": true
           },
           "label": "closeness centrality",
           "values": [
            0.21571072319201995,
            0.1522887323943662,
            0.17145688800792863,
            0.20497630331753555,
            0.14238683127572016,
            0.27813504823151125,
            0.23221476510067113,
            0.19794050343249428,
            0.24027777777777778,
            0.24297752808988765,
            0.2617246596066566,
            0.2114914425427873,
            0.2325268817204301,
            0.1360062893081761
           ]
          },
          {
           "axis": {
            "matches": true
           },
           "label": "eigenvector centrality",
           "values": [
            0.09248224524767688,
            0.0009633684745984722,
            0.0023366675647119245,
            0.013661966365958168,
            0.00033128171614470035,
            0.2192071300683208,
            0.09460242267219493,
            0.016379035975655997,
            0.13636659961514552,
            0.09992278502554358,
            0.18053350241940858,
            0.07706489196202554,
            0.12134021908891025,
            0.00039891915626636787
           ]
          },
          {
           "axis": {
            "matches": true
           },
           "label": "communicability betweenness centrality",
           "values": [
            0.055841561335762575,
            0.0132076144173822,
            0.01816732185011323,
            0.07501057449539114,
            0.024363921525224094,
            0.24778409027467246,
            0.042960762635141,
            0.005705657484713151,
            0.08056307109253373,
            0.0956079034479437,
            0.15710373344444672,
            0.05511126444383246,
            0.07976650694538678,
            0.012681233060384156
           ]
          },
          {
           "axis": {
            "matches": true
           },
           "label": "asa",
           "values": [
            62,
            112,
            113,
            54,
            58,
            1,
            42,
            137,
            0,
            0,
            0,
            32,
            18,
            128
           ]
          }
         ],
         "hovertemplate": "residue type=LEU<br>%{xaxis.title.text}=%{x}<br>%{yaxis.title.text}=%{y}<extra></extra>",
         "legendgroup": "LEU",
         "marker": {
          "color": "#FECB52",
          "opacity": 0.2,
          "symbol": "circle"
         },
         "name": "LEU",
         "showlegend": true,
         "type": "splom"
        },
        {
         "diagonal": {
          "visible": false
         },
         "dimensions": [
          {
           "axis": {
            "matches": true
           },
           "label": "degree",
           "values": [
            2,
            2,
            2,
            2,
            2
           ]
          },
          {
           "axis": {
            "matches": true
           },
           "label": "betweenness centrality",
           "values": [
            0.00006721333512568894,
            0.010867240256271029,
            0.04252068825943123,
            0.008064594141351767,
            0.00040338912331115587
           ]
          },
          {
           "axis": {
            "matches": true
           },
           "label": "closeness centrality",
           "values": [
            0.1752786220871327,
            0.1828752642706131,
            0.1888646288209607,
            0.20046349942062572,
            0.18210526315789474
           ]
          },
          {
           "axis": {
            "matches": true
           },
           "label": "eigenvector centrality",
           "values": [
            0.012916502581658267,
            0.004987922289317486,
            0.011463139056906602,
            0.024585628347341328,
            0.020266747145120414
           ]
          },
          {
           "axis": {
            "matches": true
           },
           "label": "communicability betweenness centrality",
           "values": [
            0.0008945679433725069,
            0.010358242418464338,
            0.04154783476747547,
            0.00877243486824494,
            0.002835886157776788
           ]
          },
          {
           "axis": {
            "matches": true
           },
           "label": "asa",
           "values": [
            87,
            105,
            67,
            91,
            84
           ]
          }
         ],
         "hovertemplate": "residue type=GLN<br>%{xaxis.title.text}=%{x}<br>%{yaxis.title.text}=%{y}<extra></extra>",
         "legendgroup": "GLN",
         "marker": {
          "color": "#636efa",
          "opacity": 0.2,
          "symbol": "circle"
         },
         "name": "GLN",
         "showlegend": true,
         "type": "splom"
        },
        {
         "diagonal": {
          "visible": false
         },
         "dimensions": [
          {
           "axis": {
            "matches": true
           },
           "label": "degree",
           "values": [
            7,
            7,
            5,
            7,
            9,
            9,
            6,
            9,
            3,
            10
           ]
          },
          {
           "axis": {
            "matches": true
           },
           "label": "betweenness centrality",
           "values": [
            0.053595107166094856,
            0.046866533898437875,
            0.0595164828632,
            0.07483178300153474,
            0.12993542100041208,
            0.08247970997055284,
            0.02519715470557037,
            0.06767295797645907,
            0.013142139708210416,
            0.11304090920881336
           ]
          },
          {
           "axis": {
            "matches": true
           },
           "label": "closeness centrality",
           "values": [
            0.23159303882195448,
            0.25,
            0.2303595206391478,
            0.21544209215442092,
            0.26371951219512196,
            0.2446958981612447,
            0.2243839169909209,
            0.24927953890489912,
            0.19329608938547485,
            0.23961218836565096
           ]
          },
          {
           "axis": {
            "matches": true
           },
           "label": "eigenvector centrality",
           "values": [
            0.10516321066735264,
            0.14660503959888888,
            0.05169481500166359,
            0.06675681850176221,
            0.2316284728128563,
            0.1775077870237711,
            0.08620977354471616,
            0.15238406793528708,
            0.017714918913906575,
            0.17881186918645312
           ]
          },
          {
           "axis": {
            "matches": true
           },
           "label": "communicability betweenness centrality",
           "values": [
            0.0942585505669218,
            0.08676061991360168,
            0.0694900415722316,
            0.09428120917687019,
            0.19957745547125985,
            0.133790476073069,
            0.04305609407565409,
            0.12353610580933824,
            0.012789303182310856,
            0.15646213842627424
           ]
          },
          {
           "axis": {
            "matches": true
           },
           "label": "asa",
           "values": [
            1,
            0,
            2,
            11,
            0,
            20,
            7,
            2,
            52,
            0
           ]
          }
         ],
         "hovertemplate": "residue type=ILE<br>%{xaxis.title.text}=%{x}<br>%{yaxis.title.text}=%{y}<extra></extra>",
         "legendgroup": "ILE",
         "marker": {
          "color": "#EF553B",
          "opacity": 0.2,
          "symbol": "circle"
         },
         "name": "ILE",
         "showlegend": true,
         "type": "splom"
        },
        {
         "diagonal": {
          "visible": false
         },
         "dimensions": [
          {
           "axis": {
            "matches": true
           },
           "label": "degree",
           "values": [
            2,
            2,
            2,
            2,
            2,
            2,
            2,
            2
           ]
          },
          {
           "axis": {
            "matches": true
           },
           "label": "betweenness centrality",
           "values": [
            0.00426893198694035,
            0.00374292926383261,
            0.005291654697452261,
            0.008942684679757971,
            0.002960560053506601,
            0.001440365768568484,
            0.0013014279660740055,
            0.007426511883083747
           ]
          },
          {
           "axis": {
            "matches": true
           },
           "label": "closeness centrality",
           "values": [
            0.22094508301404853,
            0.16093023255813954,
            0.19200887902330743,
            0.13536776212832552,
            0.20497630331753555,
            0.12047353760445682,
            0.18404255319148935,
            0.1943820224719101
           ]
          },
          {
           "axis": {
            "matches": true
           },
           "label": "eigenvector centrality",
           "values": [
            0.030615842258447216,
            0.001977048209935735,
            0.005436816230777319,
            0.00028174264859345507,
            0.030917446491900986,
            0.00006992760116852438,
            0.013206444478951853,
            0.028521955813971586
           ]
          },
          {
           "axis": {
            "matches": true
           },
           "label": "communicability betweenness centrality",
           "values": [
            0.008467226235882247,
            0.004097940396728068,
            0.00807950661749091,
            0.009631971280152259,
            0.006061871440350192,
            0.002425091473467742,
            0.0023877439633181318,
            0.010344641382834573
           ]
          },
          {
           "axis": {
            "matches": true
           },
           "label": "asa",
           "values": [
            11,
            142,
            72,
            59,
            75,
            33,
            114,
            35
           ]
          }
         ],
         "hovertemplate": "residue type=GLU<br>%{xaxis.title.text}=%{x}<br>%{yaxis.title.text}=%{y}<extra></extra>",
         "legendgroup": "GLU",
         "marker": {
          "color": "#00cc96",
          "opacity": 0.2,
          "symbol": "circle"
         },
         "name": "GLU",
         "showlegend": true,
         "type": "splom"
        },
        {
         "diagonal": {
          "visible": false
         },
         "dimensions": [
          {
           "axis": {
            "matches": true
           },
           "label": "degree",
           "values": [
            6,
            9,
            6,
            3,
            8
           ]
          },
          {
           "axis": {
            "matches": true
           },
           "label": "betweenness centrality",
           "values": [
            0.05632923976925615,
            0.11629945820462007,
            0.05235637710100116,
            0.002774989159247796,
            0.07427745500769205
           ]
          },
          {
           "axis": {
            "matches": true
           },
           "label": "closeness centrality",
           "values": [
            0.20546318289786222,
            0.25441176470588234,
            0.25441176470588234,
            0.1905286343612335,
            0.22179487179487178
           ]
          },
          {
           "axis": {
            "matches": true
           },
           "label": "eigenvector centrality",
           "values": [
            0.013438525723083626,
            0.1471902148791566,
            0.10226013295699309,
            0.02938999706631148,
            0.10034301489796661
           ]
          },
          {
           "axis": {
            "matches": true
           },
           "label": "communicability betweenness centrality",
           "values": [
            0.06153398116811012,
            0.16634149179351693,
            0.08141720111399649,
            0.007218367663916245,
            0.1163239227634885
           ]
          },
          {
           "axis": {
            "matches": true
           },
           "label": "asa",
           "values": [
            88,
            2,
            4,
            149,
            7
           ]
          }
         ],
         "hovertemplate": "residue type=TYR<br>%{xaxis.title.text}=%{x}<br>%{yaxis.title.text}=%{y}<extra></extra>",
         "legendgroup": "TYR",
         "marker": {
          "color": "#ab63fa",
          "opacity": 0.2,
          "symbol": "circle"
         },
         "name": "TYR",
         "showlegend": true,
         "type": "splom"
        },
        {
         "diagonal": {
          "visible": false
         },
         "dimensions": [
          {
           "axis": {
            "matches": true
           },
           "label": "degree",
           "values": [
            2,
            2,
            2,
            2
           ]
          },
          {
           "axis": {
            "matches": true
           },
           "label": "betweenness centrality",
           "values": [
            0.002036683106449161,
            0.0019652688225195065,
            0,
            0.0013282652581093105
           ]
          },
          {
           "axis": {
            "matches": true
           },
           "label": "closeness centrality",
           "values": [
            0.15741583257506825,
            0.20425029515938606,
            0.2023391812865497,
            0.2023391812865497
           ]
          },
          {
           "axis": {
            "matches": true
           },
           "label": "eigenvector centrality",
           "values": [
            0.0021437076131651193,
            0.030049189351781327,
            0.049362152361129834,
            0.03863963776032447
           ]
          },
          {
           "axis": {
            "matches": true
           },
           "label": "communicability betweenness centrality",
           "values": [
            0.0029482775088418233,
            0.006091625426971921,
            0.004087757622762265,
            0.0038185590930409005
           ]
          },
          {
           "axis": {
            "matches": true
           },
           "label": "asa",
           "values": [
            40,
            107,
            79,
            47
           ]
          }
         ],
         "hovertemplate": "residue type=ARG<br>%{xaxis.title.text}=%{x}<br>%{yaxis.title.text}=%{y}<extra></extra>",
         "legendgroup": "ARG",
         "marker": {
          "color": "#FFA15A",
          "opacity": 0.2,
          "symbol": "circle"
         },
         "name": "ARG",
         "showlegend": true,
         "type": "splom"
        },
        {
         "diagonal": {
          "visible": false
         },
         "dimensions": [
          {
           "axis": {
            "matches": true
           },
           "label": "degree",
           "values": [
            2,
            2,
            2,
            2,
            2,
            2
           ]
          },
          {
           "axis": {
            "matches": true
           },
           "label": "betweenness centrality",
           "values": [
            0.00006721333512568894,
            0.03223704798520085,
            0.021267386797811393,
            0.030787018595606872,
            0.0010626487782355505,
            0.010521184838969487
           ]
          },
          {
           "axis": {
            "matches": true
           },
           "label": "closeness centrality",
           "values": [
            0.15175438596491228,
            0.1618334892422825,
            0.19953863898500576,
            0.18153200419727178,
            0.13884430176565007,
            0.1941638608305275
           ]
          },
          {
           "axis": {
            "matches": true
           },
           "label": "eigenvector centrality",
           "values": [
            0.0028584956034938716,
            0.0018209149387908563,
            0.02822155510006067,
            0.011189577092276254,
            0.00046805129365451155,
            0.028507207665902274
           ]
          },
          {
           "axis": {
            "matches": true
           },
           "label": "communicability betweenness centrality",
           "values": [
            0.0007442844026635462,
            0.030917667672918776,
            0.022822710649384362,
            0.031755276458438376,
            0.0014288402529474716,
            0.011856933569239588
           ]
          },
          {
           "axis": {
            "matches": true
           },
           "label": "asa",
           "values": [
            42,
            4,
            30,
            36,
            10,
            72
           ]
          }
         ],
         "hovertemplate": "residue type=THR<br>%{xaxis.title.text}=%{x}<br>%{yaxis.title.text}=%{y}<extra></extra>",
         "legendgroup": "THR",
         "marker": {
          "color": "#19d3f3",
          "opacity": 0.2,
          "symbol": "circle"
         },
         "name": "THR",
         "showlegend": true,
         "type": "splom"
        },
        {
         "diagonal": {
          "visible": false
         },
         "dimensions": [
          {
           "axis": {
            "matches": true
           },
           "label": "degree",
           "values": [
            5,
            6,
            6,
            3
           ]
          },
          {
           "axis": {
            "matches": true
           },
           "label": "betweenness centrality",
           "values": [
            0.01384090083760445,
            0.08039638381729183,
            0.04672173634344856,
            0.008893279114250509
           ]
          },
          {
           "axis": {
            "matches": true
           },
           "label": "closeness centrality",
           "values": [
            0.19094922737306844,
            0.242296918767507,
            0.2189873417721519,
            0.15336879432624115
           ]
          },
          {
           "axis": {
            "matches": true
           },
           "label": "eigenvector centrality",
           "values": [
            0.04742902924854904,
            0.062267785669646594,
            0.07069982940806299,
            0.0010756585707002691
           ]
          },
          {
           "axis": {
            "matches": true
           },
           "label": "communicability betweenness centrality",
           "values": [
            0.03039341520212134,
            0.0808641986397615,
            0.07118798553785395,
            0.00836998698769709
           ]
          },
          {
           "axis": {
            "matches": true
           },
           "label": "asa",
           "values": [
            46,
            12,
            4,
            140
           ]
          }
         ],
         "hovertemplate": "residue type=MET<br>%{xaxis.title.text}=%{x}<br>%{yaxis.title.text}=%{y}<extra></extra>",
         "legendgroup": "MET",
         "marker": {
          "color": "#FF6692",
          "opacity": 0.2,
          "symbol": "circle"
         },
         "name": "MET",
         "showlegend": true,
         "type": "splom"
        },
        {
         "diagonal": {
          "visible": false
         },
         "dimensions": [
          {
           "axis": {
            "matches": true
           },
           "label": "degree",
           "values": [
            2,
            2,
            2
           ]
          },
          {
           "axis": {
            "matches": true
           },
           "label": "betweenness centrality",
           "values": [
            0.009611604951696119,
            0.0014139605297691063,
            0.004416477766062646
           ]
          },
          {
           "axis": {
            "matches": true
           },
           "label": "closeness centrality",
           "values": [
            0.1832627118644068,
            0.1866235167206041,
            0.18502673796791444
           ]
          },
          {
           "axis": {
            "matches": true
           },
           "label": "eigenvector centrality",
           "values": [
            0.014419808000865295,
            0.019897090760399312,
            0.009884426741064425
           ]
          },
          {
           "axis": {
            "matches": true
           },
           "label": "communicability betweenness centrality",
           "values": [
            0.009285056254450101,
            0.0025885002027188605,
            0.004501831039013604
           ]
          },
          {
           "axis": {
            "matches": true
           },
           "label": "asa",
           "values": [
            60,
            102,
            42
           ]
          }
         ],
         "hovertemplate": "residue type=HIS<br>%{xaxis.title.text}=%{x}<br>%{yaxis.title.text}=%{y}<extra></extra>",
         "legendgroup": "HIS",
         "marker": {
          "color": "#B6E880",
          "opacity": 0.2,
          "symbol": "circle"
         },
         "name": "HIS",
         "showlegend": true,
         "type": "splom"
        },
        {
         "diagonal": {
          "visible": false
         },
         "dimensions": [
          {
           "axis": {
            "matches": true
           },
           "label": "degree",
           "values": [
            2
           ]
          },
          {
           "axis": {
            "matches": true
           },
           "label": "betweenness centrality",
           "values": [
            0.011336098600107779
           ]
          },
          {
           "axis": {
            "matches": true
           },
           "label": "closeness centrality",
           "values": [
            0.1689453125
           ]
          },
          {
           "axis": {
            "matches": true
           },
           "label": "eigenvector centrality",
           "values": [
            0.006804162997428362
           ]
          },
          {
           "axis": {
            "matches": true
           },
           "label": "communicability betweenness centrality",
           "values": [
            0.01228875966589661
           ]
          },
          {
           "axis": {
            "matches": true
           },
           "label": "asa",
           "values": [
            8
           ]
          }
         ],
         "hovertemplate": "residue type=CYS<br>%{xaxis.title.text}=%{x}<br>%{yaxis.title.text}=%{y}<extra></extra>",
         "legendgroup": "CYS",
         "marker": {
          "color": "#FF97FF",
          "opacity": 0.2,
          "symbol": "circle"
         },
         "name": "CYS",
         "showlegend": true,
         "type": "splom"
        },
        {
         "diagonal": {
          "visible": false
         },
         "dimensions": [
          {
           "axis": {
            "matches": true
           },
           "label": "degree",
           "values": [
            2,
            6
           ]
          },
          {
           "axis": {
            "matches": true
           },
           "label": "betweenness centrality",
           "values": [
            0.032941495592725606,
            0.03902716040345175
           ]
          },
          {
           "axis": {
            "matches": true
           },
           "label": "closeness centrality",
           "values": [
            0.1787190082644628,
            0.23283983849259757
           ]
          },
          {
           "axis": {
            "matches": true
           },
           "label": "eigenvector centrality",
           "values": [
            0.011098065173849403,
            0.08515724708327511
           ]
          },
          {
           "axis": {
            "matches": true
           },
           "label": "communicability betweenness centrality",
           "values": [
            0.03322712069899232,
            0.059403977141945154
           ]
          },
          {
           "axis": {
            "matches": true
           },
           "label": "asa",
           "values": [
            137,
            78
           ]
          }
         ],
         "hovertemplate": "residue type=TRP<br>%{xaxis.title.text}=%{x}<br>%{yaxis.title.text}=%{y}<extra></extra>",
         "legendgroup": "TRP",
         "marker": {
          "color": "#FECB52",
          "opacity": 0.2,
          "symbol": "circle"
         },
         "name": "TRP",
         "showlegend": true,
         "type": "splom"
        }
       ],
       "layout": {
        "dragmode": "select",
        "font": {
         "size": 10
        },
        "height": 1000,
        "legend": {
         "title": {
          "text": "residue type"
         },
         "tracegroupgap": 0
        },
        "template": {
         "data": {
          "bar": [
           {
            "error_x": {
             "color": "#2a3f5f"
            },
            "error_y": {
             "color": "#2a3f5f"
            },
            "marker": {
             "line": {
              "color": "#E5ECF6",
              "width": 0.5
             },
             "pattern": {
              "fillmode": "overlay",
              "size": 10,
              "solidity": 0.2
             }
            },
            "type": "bar"
           }
          ],
          "barpolar": [
           {
            "marker": {
             "line": {
              "color": "#E5ECF6",
              "width": 0.5
             },
             "pattern": {
              "fillmode": "overlay",
              "size": 10,
              "solidity": 0.2
             }
            },
            "type": "barpolar"
           }
          ],
          "carpet": [
           {
            "aaxis": {
             "endlinecolor": "#2a3f5f",
             "gridcolor": "white",
             "linecolor": "white",
             "minorgridcolor": "white",
             "startlinecolor": "#2a3f5f"
            },
            "baxis": {
             "endlinecolor": "#2a3f5f",
             "gridcolor": "white",
             "linecolor": "white",
             "minorgridcolor": "white",
             "startlinecolor": "#2a3f5f"
            },
            "type": "carpet"
           }
          ],
          "choropleth": [
           {
            "colorbar": {
             "outlinewidth": 0,
             "ticks": ""
            },
            "type": "choropleth"
           }
          ],
          "contour": [
           {
            "colorbar": {
             "outlinewidth": 0,
             "ticks": ""
            },
            "colorscale": [
             [
              0,
              "#0d0887"
             ],
             [
              0.1111111111111111,
              "#46039f"
             ],
             [
              0.2222222222222222,
              "#7201a8"
             ],
             [
              0.3333333333333333,
              "#9c179e"
             ],
             [
              0.4444444444444444,
              "#bd3786"
             ],
             [
              0.5555555555555556,
              "#d8576b"
             ],
             [
              0.6666666666666666,
              "#ed7953"
             ],
             [
              0.7777777777777778,
              "#fb9f3a"
             ],
             [
              0.8888888888888888,
              "#fdca26"
             ],
             [
              1,
              "#f0f921"
             ]
            ],
            "type": "contour"
           }
          ],
          "contourcarpet": [
           {
            "colorbar": {
             "outlinewidth": 0,
             "ticks": ""
            },
            "type": "contourcarpet"
           }
          ],
          "heatmap": [
           {
            "colorbar": {
             "outlinewidth": 0,
             "ticks": ""
            },
            "colorscale": [
             [
              0,
              "#0d0887"
             ],
             [
              0.1111111111111111,
              "#46039f"
             ],
             [
              0.2222222222222222,
              "#7201a8"
             ],
             [
              0.3333333333333333,
              "#9c179e"
             ],
             [
              0.4444444444444444,
              "#bd3786"
             ],
             [
              0.5555555555555556,
              "#d8576b"
             ],
             [
              0.6666666666666666,
              "#ed7953"
             ],
             [
              0.7777777777777778,
              "#fb9f3a"
             ],
             [
              0.8888888888888888,
              "#fdca26"
             ],
             [
              1,
              "#f0f921"
             ]
            ],
            "type": "heatmap"
           }
          ],
          "heatmapgl": [
           {
            "colorbar": {
             "outlinewidth": 0,
             "ticks": ""
            },
            "colorscale": [
             [
              0,
              "#0d0887"
             ],
             [
              0.1111111111111111,
              "#46039f"
             ],
             [
              0.2222222222222222,
              "#7201a8"
             ],
             [
              0.3333333333333333,
              "#9c179e"
             ],
             [
              0.4444444444444444,
              "#bd3786"
             ],
             [
              0.5555555555555556,
              "#d8576b"
             ],
             [
              0.6666666666666666,
              "#ed7953"
             ],
             [
              0.7777777777777778,
              "#fb9f3a"
             ],
             [
              0.8888888888888888,
              "#fdca26"
             ],
             [
              1,
              "#f0f921"
             ]
            ],
            "type": "heatmapgl"
           }
          ],
          "histogram": [
           {
            "marker": {
             "pattern": {
              "fillmode": "overlay",
              "size": 10,
              "solidity": 0.2
             }
            },
            "type": "histogram"
           }
          ],
          "histogram2d": [
           {
            "colorbar": {
             "outlinewidth": 0,
             "ticks": ""
            },
            "colorscale": [
             [
              0,
              "#0d0887"
             ],
             [
              0.1111111111111111,
              "#46039f"
             ],
             [
              0.2222222222222222,
              "#7201a8"
             ],
             [
              0.3333333333333333,
              "#9c179e"
             ],
             [
              0.4444444444444444,
              "#bd3786"
             ],
             [
              0.5555555555555556,
              "#d8576b"
             ],
             [
              0.6666666666666666,
              "#ed7953"
             ],
             [
              0.7777777777777778,
              "#fb9f3a"
             ],
             [
              0.8888888888888888,
              "#fdca26"
             ],
             [
              1,
              "#f0f921"
             ]
            ],
            "type": "histogram2d"
           }
          ],
          "histogram2dcontour": [
           {
            "colorbar": {
             "outlinewidth": 0,
             "ticks": ""
            },
            "colorscale": [
             [
              0,
              "#0d0887"
             ],
             [
              0.1111111111111111,
              "#46039f"
             ],
             [
              0.2222222222222222,
              "#7201a8"
             ],
             [
              0.3333333333333333,
              "#9c179e"
             ],
             [
              0.4444444444444444,
              "#bd3786"
             ],
             [
              0.5555555555555556,
              "#d8576b"
             ],
             [
              0.6666666666666666,
              "#ed7953"
             ],
             [
              0.7777777777777778,
              "#fb9f3a"
             ],
             [
              0.8888888888888888,
              "#fdca26"
             ],
             [
              1,
              "#f0f921"
             ]
            ],
            "type": "histogram2dcontour"
           }
          ],
          "mesh3d": [
           {
            "colorbar": {
             "outlinewidth": 0,
             "ticks": ""
            },
            "type": "mesh3d"
           }
          ],
          "parcoords": [
           {
            "line": {
             "colorbar": {
              "outlinewidth": 0,
              "ticks": ""
             }
            },
            "type": "parcoords"
           }
          ],
          "pie": [
           {
            "automargin": true,
            "type": "pie"
           }
          ],
          "scatter": [
           {
            "marker": {
             "colorbar": {
              "outlinewidth": 0,
              "ticks": ""
             }
            },
            "type": "scatter"
           }
          ],
          "scatter3d": [
           {
            "line": {
             "colorbar": {
              "outlinewidth": 0,
              "ticks": ""
             }
            },
            "marker": {
             "colorbar": {
              "outlinewidth": 0,
              "ticks": ""
             }
            },
            "type": "scatter3d"
           }
          ],
          "scattercarpet": [
           {
            "marker": {
             "colorbar": {
              "outlinewidth": 0,
              "ticks": ""
             }
            },
            "type": "scattercarpet"
           }
          ],
          "scattergeo": [
           {
            "marker": {
             "colorbar": {
              "outlinewidth": 0,
              "ticks": ""
             }
            },
            "type": "scattergeo"
           }
          ],
          "scattergl": [
           {
            "marker": {
             "colorbar": {
              "outlinewidth": 0,
              "ticks": ""
             }
            },
            "type": "scattergl"
           }
          ],
          "scattermapbox": [
           {
            "marker": {
             "colorbar": {
              "outlinewidth": 0,
              "ticks": ""
             }
            },
            "type": "scattermapbox"
           }
          ],
          "scatterpolar": [
           {
            "marker": {
             "colorbar": {
              "outlinewidth": 0,
              "ticks": ""
             }
            },
            "type": "scatterpolar"
           }
          ],
          "scatterpolargl": [
           {
            "marker": {
             "colorbar": {
              "outlinewidth": 0,
              "ticks": ""
             }
            },
            "type": "scatterpolargl"
           }
          ],
          "scatterternary": [
           {
            "marker": {
             "colorbar": {
              "outlinewidth": 0,
              "ticks": ""
             }
            },
            "type": "scatterternary"
           }
          ],
          "surface": [
           {
            "colorbar": {
             "outlinewidth": 0,
             "ticks": ""
            },
            "colorscale": [
             [
              0,
              "#0d0887"
             ],
             [
              0.1111111111111111,
              "#46039f"
             ],
             [
              0.2222222222222222,
              "#7201a8"
             ],
             [
              0.3333333333333333,
              "#9c179e"
             ],
             [
              0.4444444444444444,
              "#bd3786"
             ],
             [
              0.5555555555555556,
              "#d8576b"
             ],
             [
              0.6666666666666666,
              "#ed7953"
             ],
             [
              0.7777777777777778,
              "#fb9f3a"
             ],
             [
              0.8888888888888888,
              "#fdca26"
             ],
             [
              1,
              "#f0f921"
             ]
            ],
            "type": "surface"
           }
          ],
          "table": [
           {
            "cells": {
             "fill": {
              "color": "#EBF0F8"
             },
             "line": {
              "color": "white"
             }
            },
            "header": {
             "fill": {
              "color": "#C8D4E3"
             },
             "line": {
              "color": "white"
             }
            },
            "type": "table"
           }
          ]
         },
         "layout": {
          "annotationdefaults": {
           "arrowcolor": "#2a3f5f",
           "arrowhead": 0,
           "arrowwidth": 1
          },
          "autotypenumbers": "strict",
          "coloraxis": {
           "colorbar": {
            "outlinewidth": 0,
            "ticks": ""
           }
          },
          "colorscale": {
           "diverging": [
            [
             0,
             "#8e0152"
            ],
            [
             0.1,
             "#c51b7d"
            ],
            [
             0.2,
             "#de77ae"
            ],
            [
             0.3,
             "#f1b6da"
            ],
            [
             0.4,
             "#fde0ef"
            ],
            [
             0.5,
             "#f7f7f7"
            ],
            [
             0.6,
             "#e6f5d0"
            ],
            [
             0.7,
             "#b8e186"
            ],
            [
             0.8,
             "#7fbc41"
            ],
            [
             0.9,
             "#4d9221"
            ],
            [
             1,
             "#276419"
            ]
           ],
           "sequential": [
            [
             0,
             "#0d0887"
            ],
            [
             0.1111111111111111,
             "#46039f"
            ],
            [
             0.2222222222222222,
             "#7201a8"
            ],
            [
             0.3333333333333333,
             "#9c179e"
            ],
            [
             0.4444444444444444,
             "#bd3786"
            ],
            [
             0.5555555555555556,
             "#d8576b"
            ],
            [
             0.6666666666666666,
             "#ed7953"
            ],
            [
             0.7777777777777778,
             "#fb9f3a"
            ],
            [
             0.8888888888888888,
             "#fdca26"
            ],
            [
             1,
             "#f0f921"
            ]
           ],
           "sequentialminus": [
            [
             0,
             "#0d0887"
            ],
            [
             0.1111111111111111,
             "#46039f"
            ],
            [
             0.2222222222222222,
             "#7201a8"
            ],
            [
             0.3333333333333333,
             "#9c179e"
            ],
            [
             0.4444444444444444,
             "#bd3786"
            ],
            [
             0.5555555555555556,
             "#d8576b"
            ],
            [
             0.6666666666666666,
             "#ed7953"
            ],
            [
             0.7777777777777778,
             "#fb9f3a"
            ],
            [
             0.8888888888888888,
             "#fdca26"
            ],
            [
             1,
             "#f0f921"
            ]
           ]
          },
          "colorway": [
           "#636efa",
           "#EF553B",
           "#00cc96",
           "#ab63fa",
           "#FFA15A",
           "#19d3f3",
           "#FF6692",
           "#B6E880",
           "#FF97FF",
           "#FECB52"
          ],
          "font": {
           "color": "#2a3f5f"
          },
          "geo": {
           "bgcolor": "white",
           "lakecolor": "white",
           "landcolor": "#E5ECF6",
           "showlakes": true,
           "showland": true,
           "subunitcolor": "white"
          },
          "hoverlabel": {
           "align": "left"
          },
          "hovermode": "closest",
          "mapbox": {
           "style": "light"
          },
          "paper_bgcolor": "white",
          "plot_bgcolor": "#E5ECF6",
          "polar": {
           "angularaxis": {
            "gridcolor": "white",
            "linecolor": "white",
            "ticks": ""
           },
           "bgcolor": "#E5ECF6",
           "radialaxis": {
            "gridcolor": "white",
            "linecolor": "white",
            "ticks": ""
           }
          },
          "scene": {
           "xaxis": {
            "backgroundcolor": "#E5ECF6",
            "gridcolor": "white",
            "gridwidth": 2,
            "linecolor": "white",
            "showbackground": true,
            "ticks": "",
            "zerolinecolor": "white"
           },
           "yaxis": {
            "backgroundcolor": "#E5ECF6",
            "gridcolor": "white",
            "gridwidth": 2,
            "linecolor": "white",
            "showbackground": true,
            "ticks": "",
            "zerolinecolor": "white"
           },
           "zaxis": {
            "backgroundcolor": "#E5ECF6",
            "gridcolor": "white",
            "gridwidth": 2,
            "linecolor": "white",
            "showbackground": true,
            "ticks": "",
            "zerolinecolor": "white"
           }
          },
          "shapedefaults": {
           "line": {
            "color": "#2a3f5f"
           }
          },
          "ternary": {
           "aaxis": {
            "gridcolor": "white",
            "linecolor": "white",
            "ticks": ""
           },
           "baxis": {
            "gridcolor": "white",
            "linecolor": "white",
            "ticks": ""
           },
           "bgcolor": "#E5ECF6",
           "caxis": {
            "gridcolor": "white",
            "linecolor": "white",
            "ticks": ""
           }
          },
          "title": {
           "x": 0.05
          },
          "xaxis": {
           "automargin": true,
           "gridcolor": "white",
           "linecolor": "white",
           "ticks": "",
           "title": {
            "standoff": 15
           },
           "zerolinecolor": "white",
           "zerolinewidth": 2
          },
          "yaxis": {
           "automargin": true,
           "gridcolor": "white",
           "linecolor": "white",
           "ticks": "",
           "title": {
            "standoff": 15
           },
           "zerolinecolor": "white",
           "zerolinewidth": 2
          }
         }
        },
        "title": {
         "text": "3eiy - Correlation of Graph Metrics with Properties (Coloured by residue_type)"
        },
        "width": 1000
       }
      }
     },
     "metadata": {},
     "output_type": "display_data"
    }
   ],
   "source": [
    "from graphein.protein.analysis import plot_graph_metric_property_correlation\n",
    "\n",
    "plot_graph_metric_property_correlation(g, diagonal_visible=False)"
   ]
  },
  {
   "cell_type": "code",
   "execution_count": 13,
   "metadata": {},
   "outputs": [
    {
     "data": {
      "application/vnd.plotly.v1+json": {
       "config": {
        "plotlyServerURL": "https://plot.ly"
       },
       "data": [
        {
         "diagonal": {
          "visible": false
         },
         "dimensions": [
          {
           "axis": {
            "matches": true
           },
           "label": "degree",
           "values": [
            1,
            6,
            2,
            2,
            5,
            2,
            5,
            2,
            2,
            2,
            6,
            3,
            2,
            2,
            10,
            2,
            9,
            7,
            7,
            2,
            5,
            5,
            4,
            2,
            2,
            2,
            3,
            5,
            2,
            6,
            2,
            5,
            2,
            2,
            2,
            4,
            2,
            3,
            6,
            3,
            5,
            2,
            2,
            4,
            7,
            2,
            2,
            2,
            5,
            2,
            9,
            5,
            7,
            2,
            6,
            2,
            7,
            9,
            5,
            2,
            2,
            3,
            2,
            2,
            2,
            2,
            2,
            3,
            6,
            2,
            9,
            8,
            9,
            9,
            2,
            3,
            2,
            4,
            5,
            2,
            4,
            2,
            2,
            4,
            9,
            2,
            6,
            2,
            6,
            8,
            2,
            6,
            7,
            2,
            6,
            2,
            2,
            2,
            2,
            2,
            2,
            2,
            3,
            2,
            8,
            8,
            6,
            5,
            5,
            2,
            2,
            2,
            4,
            2,
            2,
            3,
            2,
            2,
            2,
            6,
            2,
            2,
            6,
            2,
            2,
            7,
            5,
            2,
            3,
            8,
            2,
            2,
            2,
            9,
            2,
            2,
            7,
            11,
            2,
            2,
            8,
            2,
            2,
            2,
            2,
            2,
            2,
            2,
            2,
            6,
            2,
            6,
            2,
            2,
            6,
            2,
            2,
            3,
            2,
            3,
            5,
            2,
            2,
            2,
            10,
            2,
            2,
            2,
            5,
            2,
            2,
            3,
            2,
            1
           ]
          },
          {
           "axis": {
            "matches": true
           },
           "label": "betweenness centrality",
           "values": [
            0,
            0.05322768323082323,
            0.0020348580086018376,
            0.0007495644711668368,
            0.017827287800428075,
            0.0032122128083002014,
            0.033450536576057274,
            0.005574541140477425,
            0.00006721333512568894,
            0.005918939166015384,
            0.026168337343376154,
            0.004350496748866233,
            0.00006721333512568894,
            0.007142983557626576,
            0.07377594192753173,
            0,
            0.0570058562945924,
            0.053595107166094856,
            0.046866533898437875,
            0.00426893198694035,
            0.0595164828632,
            0.04403567678236315,
            0.03202395424315709,
            0.010867240256271029,
            0.003055076989745627,
            0.00374292926383261,
            0.015695904302266552,
            0.009166478862506558,
            0,
            0.05632923976925615,
            0.005291654697452261,
            0.050464418341478356,
            0.015958790338418672,
            0.005696434286978059,
            0.0011639109199265139,
            0.008263748746669148,
            0,
            0.01570137311829784,
            0.06807058606995642,
            0.017915721266040713,
            0.02400274942121759,
            0.0010961156511633725,
            0.002036683106449161,
            0.02862784995456655,
            0.07483178300153474,
            0.00978234601457102,
            0.00006721333512568894,
            0.0017111342919217995,
            0.01384090083760445,
            0.0019652688225195065,
            0.11629945820462007,
            0.023518987206021934,
            0.04485414756152362,
            0.0009602995186301848,
            0.05235637710100116,
            0.028640299051901685,
            0.10605597991561179,
            0.12993542100041208,
            0.060784827206272825,
            0.04252068825943123,
            0.03223704798520085,
            0.025361061813259738,
            0.0030208712289637157,
            0.0015347044853698973,
            0.010612233579030194,
            0.02096308718838629,
            0.031448367467993774,
            0.04318173367855883,
            0.03974927334748586,
            0,
            0.1127779643761299,
            0.17796499146249656,
            0.10521572480414601,
            0.08247970997055284,
            0.021267386797811393,
            0.018719883746525542,
            0.007680126110339828,
            0.018172426166758335,
            0.020862466588271154,
            0.0032537622750412765,
            0.023330842060692525,
            0.0022574078697213517,
            0.004129164572236551,
            0.021602153374980382,
            0.06463612649646866,
            0,
            0.015241464020113612,
            0.0013282652581093105,
            0.05483426890401487,
            0.04834750953619218,
            0.005570244534111436,
            0.08039638381729183,
            0.07318599486553339,
            0,
            0.04672173634344856,
            0.030787018595606872,
            0.019831244970119576,
            0.008942684679757971,
            0.0023639870185895506,
            0.005049209315575763,
            0.014380342608856083,
            0.02533611623434339,
            0.03698640583361806,
            0.0126913930418009,
            0.12060372752927453,
            0.08314790704419052,
            0.018416538588878092,
            0.015173399838335846,
            0.03482839844444286,
            0.009611604951696119,
            0.00006721333512568894,
            0.001881875354796693,
            0.03467023008252019,
            0.011336098600107779,
            0.003100550116204979,
            0.008893279114250509,
            0.0010626487782355505,
            0.006741546232732692,
            0.017295122113469476,
            0.04262003301525125,
            0.0009131288570729357,
            0.00172114725060789,
            0.02519715470557037,
            0.0002925647115054294,
            0.0005864155523047848,
            0.025181374192634245,
            0.013352129389350197,
            0,
            0.002774989159247796,
            0.04896755439381092,
            0.003428886165141038,
            0.00006721333512568894,
            0.008064594141351767,
            0.06767295797645907,
            0.0032956098831662907,
            0.0014139605297691063,
            0.029819651510095878,
            0.15593986133993729,
            0.002960560053506601,
            0.00040338912331115587,
            0.07427745500769205,
            0.03427183953296334,
            0.02324885257235035,
            0.012225865611737373,
            0.001440365768568484,
            0.0007751937984496123,
            0.010895521671499623,
            0.02191850863211262,
            0.032941495592725606,
            0.052238172479818636,
            0,
            0.018512401275767875,
            0.0013014279660740055,
            0.0029937406248066287,
            0.03902716040345175,
            0.006159141973767595,
            0.0020763052722993576,
            0.013142139708210416,
            0.0008357658159378822,
            0.006228076676053556,
            0.02362419516065187,
            0.004416477766062646,
            0.00041672267777927163,
            0.007426511883083747,
            0.11304090920881336,
            0.010521184838969487,
            0.00006721333512568894,
            0.0009722954675233208,
            0.0567655559863565,
            0.034513267165436935,
            0.02421394377967719,
            0.025774011587614398,
            0.011560693641618498,
            0
           ]
          },
          {
           "axis": {
            "matches": true
           },
           "label": "closeness centrality",
           "values": [
            0.1787190082644628,
            0.21733668341708542,
            0.17946058091286307,
            0.17421953675730112,
            0.20473372781065088,
            0.18948521358159912,
            0.21733668341708542,
            0.17927461139896372,
            0.15585585585585585,
            0.17816683831101957,
            0.21571072319201995,
            0.19548022598870057,
            0.1752786220871327,
            0.20329024676850763,
            0.2536656891495601,
            0.21464019851116625,
            0.2578241430700447,
            0.23159303882195448,
            0.25,
            0.22094508301404853,
            0.2303595206391478,
            0.23473541383989144,
            0.22010178117048346,
            0.1828752642706131,
            0.1624413145539906,
            0.16093023255813954,
            0.1858216970998926,
            0.1779835390946502,
            0.17248255234297108,
            0.20546318289786222,
            0.19200887902330743,
            0.20944309927360774,
            0.17421953675730112,
            0.15069686411149827,
            0.13974151857835218,
            0.1522887323943662,
            0.1481164383561644,
            0.17145688800792863,
            0.20497630331753555,
            0.1778006166495375,
            0.17816683831101957,
            0.1516213847502191,
            0.15741583257506825,
            0.18622174381054898,
            0.21544209215442092,
            0.1779835390946502,
            0.15175438596491228,
            0.16093023255813954,
            0.19094922737306844,
            0.20425029515938606,
            0.25441176470588234,
            0.2255541069100391,
            0.2443502824858757,
            0.21761006289308177,
            0.25441176470588234,
            0.23159303882195448,
            0.24366197183098592,
            0.26371951219512196,
            0.22733245729303547,
            0.1888646288209607,
            0.1618334892422825,
            0.14238683127572016,
            0.125544267053701,
            0.12200282087447109,
            0.13622047244094487,
            0.1550179211469534,
            0.18020833333333333,
            0.21625,
            0.24714285714285714,
            0.2220795892169448,
            0.2763578274760383,
            0.27813504823151125,
            0.2686335403726708,
            0.2446958981612447,
            0.19953863898500576,
            0.17617107942973523,
            0.1778006166495375,
            0.20843373493975903,
            0.23221476510067113,
            0.19794050343249428,
            0.20092915214866433,
            0.17369477911646586,
            0.180773249738767,
            0.21358024691358024,
            0.24061196105702365,
            0.2023391812865497,
            0.2261437908496732,
            0.2023391812865497,
            0.23473541383989144,
            0.24027777777777778,
            0.21571072319201995,
            0.242296918767507,
            0.24297752808988765,
            0.19794050343249428,
            0.2189873417721519,
            0.18153200419727178,
            0.1550179211469534,
            0.13536776212832552,
            0.12446043165467625,
            0.12729948491537896,
            0.1440466278101582,
            0.16666666666666666,
            0.1977142857142857,
            0.21046228710462286,
            0.2617246596066566,
            0.2665639445300462,
            0.24679029957203993,
            0.22179487179487178,
            0.2232258064516129,
            0.1832627118644068,
            0.15599639314697927,
            0.16747337850919652,
            0.20023148148148148,
            0.1689453125,
            0.14875322441960448,
            0.15336879432624115,
            0.13884430176565007,
            0.1516213847502191,
            0.17617107942973523,
            0.2114914425427873,
            0.17761806981519507,
            0.18463180362860193,
            0.2243839169909209,
            0.18384697130712008,
            0.1876355748373102,
            0.2300531914893617,
            0.20595238095238094,
            0.17111770524233433,
            0.1905286343612335,
            0.2325268817204301,
            0.18948521358159912,
            0.17077986179664364,
            0.20046349942062572,
            0.24927953890489912,
            0.20400943396226415,
            0.1866235167206041,
            0.22526041666666666,
            0.25667655786350146,
            0.20497630331753555,
            0.18210526315789474,
            0.22179487179487178,
            0.1832627118644068,
            0.15613718411552346,
            0.1360062893081761,
            0.12047353760445682,
            0.1184931506849315,
            0.13348765432098766,
            0.15282685512367492,
            0.1787190082644628,
            0.21517412935323382,
            0.18443496801705758,
            0.21815889029003782,
            0.18404255319148935,
            0.19094922737306844,
            0.23283983849259757,
            0.19073869900771775,
            0.1787190082644628,
            0.19329608938547485,
            0.17725409836065573,
            0.19885057471264367,
            0.2255541069100391,
            0.18502673796791444,
            0.17010816125860373,
            0.1943820224719101,
            0.23961218836565096,
            0.1941638608305275,
            0.16476190476190475,
            0.16779825412221144,
            0.20069605568445475,
            0.17010816125860373,
            0.14786324786324787,
            0.13515625,
            0.1193103448275862,
            0.10665844636251541
           ]
          },
          {
           "axis": {
            "matches": true
           },
           "label": "eigenvector centrality",
           "values": [
            0.005603584005315519,
            0.036295408714033105,
            0.006684642079511436,
            0.007002235729676022,
            0.03867015561106481,
            0.015605298525101216,
            0.062408236423440185,
            0.010233605379394984,
            0.0038767192531952927,
            0.014876681344138616,
            0.09248224524767688,
            0.04387882685191156,
            0.012916502581658267,
            0.03978363608982308,
            0.24476813962872687,
            0.07710974453525231,
            0.2546828229223045,
            0.10516321066735264,
            0.14660503959888888,
            0.030615842258447216,
            0.05169481500166359,
            0.041312517291614885,
            0.031230886499991565,
            0.004987922289317486,
            0.0010753740932918515,
            0.001977048209935735,
            0.01172916018099088,
            0.007231429807147968,
            0.0031914126111335034,
            0.013438525723083626,
            0.005436816230777319,
            0.021775904653837354,
            0.003449814537606873,
            0.0005691391195098697,
            0.000236603976512272,
            0.0009633684745984722,
            0.0005094937566829749,
            0.0023366675647119245,
            0.013661966365958168,
            0.0031570092367898123,
            0.005822540754120381,
            0.0012299986348813597,
            0.0021437076131651193,
            0.012653896093607663,
            0.06675681850176221,
            0.01074871797828235,
            0.0028584956034938716,
            0.0077645047229383465,
            0.04742902924854904,
            0.030049189351781327,
            0.1471902148791566,
            0.10075936770958968,
            0.1294143097982091,
            0.035769803290303395,
            0.10226013295699309,
            0.028479789120842817,
            0.08220195136218071,
            0.2316284728128563,
            0.07242786361559989,
            0.011463139056906602,
            0.0018209149387908563,
            0.00033128171614470035,
            0.00005597447670099832,
            0.00003127855918588524,
            0.00014662410518651392,
            0.0009184356345267297,
            0.005802252852176106,
            0.03666372934741013,
            0.14947237275456712,
            0.06553155453090903,
            0.2749833763531658,
            0.2192071300683208,
            0.24962993200714406,
            0.1775077870237711,
            0.02822155510006067,
            0.005282429745113697,
            0.004916971284305013,
            0.026564992613481785,
            0.09460242267219493,
            0.016379035975655997,
            0.011486350480265932,
            0.003044285407435818,
            0.008231826274788535,
            0.05027457012661819,
            0.17357067090115083,
            0.049362152361129834,
            0.14615475440836417,
            0.03863963776032447,
            0.10411949955358903,
            0.13636659961514552,
            0.03066767087603704,
            0.062267785669646594,
            0.09992278502554358,
            0.026344054749583144,
            0.07069982940806299,
            0.011189577092276254,
            0.0017711911450923488,
            0.00028174264859345507,
            0.00005353479346301537,
            0.00006498123533265566,
            0.0003673477000099316,
            0.0023143459254975737,
            0.014622770692440239,
            0.030130151279343053,
            0.18053350241940858,
            0.1839474374537888,
            0.18564035539624174,
            0.10292545392046616,
            0.09007143908995487,
            0.014419808000865295,
            0.0033270678062078773,
            0.007130002899912308,
            0.04285489141753037,
            0.006804162997428362,
            0.0012165619580293031,
            0.0010756585707002691,
            0.00046805129365451155,
            0.001955899889549626,
            0.012200258398742333,
            0.07706489196202554,
            0.014294030798493014,
            0.015517143345497614,
            0.08620977354471616,
            0.016585237322614136,
            0.02121194184012603,
            0.12080333825939028,
            0.05585372917797348,
            0.013161224579742207,
            0.02938999706631148,
            0.12134021908891025,
            0.01979234471877798,
            0.0068518420451494635,
            0.024585628347341328,
            0.15238406793528708,
            0.026599852361262718,
            0.019897090760399312,
            0.1022670667043333,
            0.17997629855719352,
            0.030917446491900986,
            0.020266747145120414,
            0.10034301489796661,
            0.01588120269342377,
            0.0025136879654094235,
            0.00039891915626636787,
            0.00006992760116852438,
            0.00005396551598928243,
            0.0002795785480033329,
            0.001756734915958441,
            0.011098065173849403,
            0.07012131944463497,
            0.021688433748468707,
            0.07034691825143555,
            0.013206444478951853,
            0.015187014568780062,
            0.08515724708327511,
            0.013901569181667798,
            0.004881342055058191,
            0.017714918913906575,
            0.005740831333090333,
            0.019468980698037475,
            0.05809303217292949,
            0.009884426741064425,
            0.005929505827061392,
            0.028521955813971586,
            0.17881186918645312,
            0.028507207665902274,
            0.005834002187532875,
            0.00928071543988116,
            0.054278965279772835,
            0.008591201993265003,
            0.0013678878585548107,
            0.0002688951835287636,
            0.00004252738060102115,
            0.000006565620352724713
           ]
          },
          {
           "axis": {
            "matches": true
           },
           "label": "communicability betweenness centrality",
           "values": [
            0.0009537617993682485,
            0.07074547332206543,
            0.003440681257066719,
            0.002089745964762669,
            0.026333103139643068,
            0.0035941230845279756,
            0.04362137864513258,
            0.005774518969937564,
            0.0007259482345023312,
            0.007382918512095874,
            0.055841561335762575,
            0.011600035006970228,
            0.0008945679433725069,
            0.00785248456800003,
            0.14639119282979943,
            0.007803597440108302,
            0.14680767986037452,
            0.0942585505669218,
            0.08676061991360168,
            0.008467226235882247,
            0.0694900415722316,
            0.048218221571879924,
            0.034426349946899075,
            0.010358242418464338,
            0.0024341818109738568,
            0.004097940396728068,
            0.020661608276741024,
            0.020911958702691146,
            0.0031814825743175837,
            0.06153398116811012,
            0.00807950661749091,
            0.05987510779646587,
            0.015160043025253511,
            0.004496025500111805,
            0.0016439104052491575,
            0.0132076144173822,
            0.001496766867208681,
            0.01816732185011323,
            0.07501057449539114,
            0.021599511475067102,
            0.03022261413824559,
            0.002055990331908136,
            0.0029482775088418233,
            0.032672343621037304,
            0.09428120917687019,
            0.008986744632979377,
            0.0007442844026635462,
            0.004526997475185573,
            0.03039341520212134,
            0.006091625426971921,
            0.16634149179351693,
            0.050565904751183076,
            0.08460331391173016,
            0.005204951739433882,
            0.08141720111399649,
            0.021997611205792973,
            0.12077573676513415,
            0.19957745547125985,
            0.08000793380532921,
            0.04154783476747547,
            0.030917667672918776,
            0.024363921525224094,
            0.004158180628863399,
            0.002127689958711363,
            0.010271493886235184,
            0.020646314030608178,
            0.03132839621857682,
            0.048535119441780794,
            0.08252177016780797,
            0.007123418371139619,
            0.19837817959185605,
            0.24778409027467246,
            0.1842755321549981,
            0.133790476073069,
            0.022822710649384362,
            0.017749201337741903,
            0.00716852511534986,
            0.024415665432853055,
            0.042960762635141,
            0.005705657484713151,
            0.024618687718278236,
            0.0023763421794720345,
            0.004458530034070822,
            0.0282464960183194,
            0.1050875117184545,
            0.004087757622762265,
            0.042655550972241905,
            0.0038185590930409005,
            0.06675751988507324,
            0.08056307109253373,
            0.007518677406990089,
            0.0808641986397615,
            0.0956079034479437,
            0.0050461230115932485,
            0.07118798553785395,
            0.031755276458438376,
            0.02041856756756711,
            0.009631971280152259,
            0.002685903033094482,
            0.004880334701685859,
            0.0141860028215396,
            0.0251734435720586,
            0.03813064189341491,
            0.015976968870243278,
            0.15710373344444672,
            0.1337257874836445,
            0.0721222241863526,
            0.03897392530259024,
            0.050257033237839026,
            0.009285056254450101,
            0.0008718172272738393,
            0.003918535123747475,
            0.04009718008278643,
            0.01228875966589661,
            0.003410213478358805,
            0.00836998698769709,
            0.0014288402529474716,
            0.007302844807462442,
            0.018332016832320944,
            0.05511126444383246,
            0.0022235118672500687,
            0.0026005721653408116,
            0.04305609407565409,
            0.0018565329693500069,
            0.002701135968117105,
            0.05891315468999722,
            0.02319108560309936,
            0.0011308849148313896,
            0.007218367663916245,
            0.07976650694538678,
            0.005874000305290017,
            0.0008414554701602856,
            0.00877243486824494,
            0.12353610580933824,
            0.004699103316827473,
            0.0025885002027188605,
            0.07627065322660118,
            0.22200763930688872,
            0.006061871440350192,
            0.002835886157776788,
            0.1163239227634885,
            0.03565627791041124,
            0.0237384445778884,
            0.012681233060384156,
            0.002425091473467742,
            0.0014800538705549405,
            0.010768172883735778,
            0.02179996060300935,
            0.03322712069899232,
            0.07460679381633883,
            0.0032244106212684256,
            0.04553656605453633,
            0.0023877439633181318,
            0.003689679191198163,
            0.059403977141945154,
            0.007076259832177354,
            0.00196525821626307,
            0.012789303182310856,
            0.0015289146823499631,
            0.01105503719801344,
            0.038435028176228854,
            0.004501831039013604,
            0.0011493331145910875,
            0.010344641382834573,
            0.15646213842627424,
            0.011856933569239588,
            0.0011621005757804716,
            0.0032876784319815023,
            0.06832241627825868,
            0.03713266653857182,
            0.026654518118818613,
            0.02647669337693696,
            0.011769444427517794,
            0.0001261099414032021
           ]
          },
          {
           "axis": {
            "matches": true
           },
           "label": "asa",
           "values": [
            106,
            19,
            58,
            128,
            29,
            71,
            6,
            16,
            144,
            90,
            62,
            26,
            87,
            22,
            0,
            13,
            0,
            1,
            0,
            11,
            2,
            25,
            14,
            105,
            34,
            142,
            31,
            18,
            13,
            88,
            72,
            9,
            51,
            69,
            95,
            112,
            17,
            113,
            54,
            62,
            72,
            71,
            40,
            159,
            11,
            40,
            42,
            39,
            46,
            107,
            2,
            20,
            5,
            0,
            4,
            0,
            2,
            0,
            1,
            67,
            4,
            58,
            20,
            81,
            68,
            44,
            85,
            19,
            0,
            19,
            0,
            1,
            0,
            20,
            30,
            72,
            163,
            80,
            42,
            137,
            42,
            30,
            37,
            75,
            10,
            79,
            1,
            47,
            5,
            0,
            0,
            12,
            0,
            84,
            4,
            36,
            16,
            59,
            95,
            33,
            116,
            10,
            12,
            7,
            0,
            1,
            0,
            0,
            3,
            60,
            69,
            82,
            83,
            8,
            77,
            140,
            10,
            22,
            137,
            32,
            123,
            27,
            7,
            122,
            70,
            4,
            60,
            65,
            149,
            18,
            41,
            104,
            91,
            2,
            64,
            102,
            5,
            2,
            75,
            84,
            7,
            13,
            64,
            128,
            33,
            107,
            65,
            61,
            137,
            25,
            42,
            26,
            114,
            19,
            78,
            73,
            22,
            52,
            135,
            21,
            0,
            42,
            131,
            35,
            0,
            72,
            67,
            1,
            25,
            54,
            78,
            102,
            158,
            229
           ]
          }
         ],
         "hovertemplate": "%{xaxis.title.text}=%{x}<br>%{yaxis.title.text}=%{y}<extra></extra>",
         "legendgroup": "",
         "marker": {
          "color": "#636efa",
          "opacity": 0.2,
          "symbol": "circle"
         },
         "name": "",
         "showlegend": false,
         "type": "splom"
        }
       ],
       "layout": {
        "dragmode": "select",
        "font": {
         "size": 10
        },
        "height": 1000,
        "legend": {
         "tracegroupgap": 0
        },
        "template": {
         "data": {
          "bar": [
           {
            "error_x": {
             "color": "#2a3f5f"
            },
            "error_y": {
             "color": "#2a3f5f"
            },
            "marker": {
             "line": {
              "color": "#E5ECF6",
              "width": 0.5
             },
             "pattern": {
              "fillmode": "overlay",
              "size": 10,
              "solidity": 0.2
             }
            },
            "type": "bar"
           }
          ],
          "barpolar": [
           {
            "marker": {
             "line": {
              "color": "#E5ECF6",
              "width": 0.5
             },
             "pattern": {
              "fillmode": "overlay",
              "size": 10,
              "solidity": 0.2
             }
            },
            "type": "barpolar"
           }
          ],
          "carpet": [
           {
            "aaxis": {
             "endlinecolor": "#2a3f5f",
             "gridcolor": "white",
             "linecolor": "white",
             "minorgridcolor": "white",
             "startlinecolor": "#2a3f5f"
            },
            "baxis": {
             "endlinecolor": "#2a3f5f",
             "gridcolor": "white",
             "linecolor": "white",
             "minorgridcolor": "white",
             "startlinecolor": "#2a3f5f"
            },
            "type": "carpet"
           }
          ],
          "choropleth": [
           {
            "colorbar": {
             "outlinewidth": 0,
             "ticks": ""
            },
            "type": "choropleth"
           }
          ],
          "contour": [
           {
            "colorbar": {
             "outlinewidth": 0,
             "ticks": ""
            },
            "colorscale": [
             [
              0,
              "#0d0887"
             ],
             [
              0.1111111111111111,
              "#46039f"
             ],
             [
              0.2222222222222222,
              "#7201a8"
             ],
             [
              0.3333333333333333,
              "#9c179e"
             ],
             [
              0.4444444444444444,
              "#bd3786"
             ],
             [
              0.5555555555555556,
              "#d8576b"
             ],
             [
              0.6666666666666666,
              "#ed7953"
             ],
             [
              0.7777777777777778,
              "#fb9f3a"
             ],
             [
              0.8888888888888888,
              "#fdca26"
             ],
             [
              1,
              "#f0f921"
             ]
            ],
            "type": "contour"
           }
          ],
          "contourcarpet": [
           {
            "colorbar": {
             "outlinewidth": 0,
             "ticks": ""
            },
            "type": "contourcarpet"
           }
          ],
          "heatmap": [
           {
            "colorbar": {
             "outlinewidth": 0,
             "ticks": ""
            },
            "colorscale": [
             [
              0,
              "#0d0887"
             ],
             [
              0.1111111111111111,
              "#46039f"
             ],
             [
              0.2222222222222222,
              "#7201a8"
             ],
             [
              0.3333333333333333,
              "#9c179e"
             ],
             [
              0.4444444444444444,
              "#bd3786"
             ],
             [
              0.5555555555555556,
              "#d8576b"
             ],
             [
              0.6666666666666666,
              "#ed7953"
             ],
             [
              0.7777777777777778,
              "#fb9f3a"
             ],
             [
              0.8888888888888888,
              "#fdca26"
             ],
             [
              1,
              "#f0f921"
             ]
            ],
            "type": "heatmap"
           }
          ],
          "heatmapgl": [
           {
            "colorbar": {
             "outlinewidth": 0,
             "ticks": ""
            },
            "colorscale": [
             [
              0,
              "#0d0887"
             ],
             [
              0.1111111111111111,
              "#46039f"
             ],
             [
              0.2222222222222222,
              "#7201a8"
             ],
             [
              0.3333333333333333,
              "#9c179e"
             ],
             [
              0.4444444444444444,
              "#bd3786"
             ],
             [
              0.5555555555555556,
              "#d8576b"
             ],
             [
              0.6666666666666666,
              "#ed7953"
             ],
             [
              0.7777777777777778,
              "#fb9f3a"
             ],
             [
              0.8888888888888888,
              "#fdca26"
             ],
             [
              1,
              "#f0f921"
             ]
            ],
            "type": "heatmapgl"
           }
          ],
          "histogram": [
           {
            "marker": {
             "pattern": {
              "fillmode": "overlay",
              "size": 10,
              "solidity": 0.2
             }
            },
            "type": "histogram"
           }
          ],
          "histogram2d": [
           {
            "colorbar": {
             "outlinewidth": 0,
             "ticks": ""
            },
            "colorscale": [
             [
              0,
              "#0d0887"
             ],
             [
              0.1111111111111111,
              "#46039f"
             ],
             [
              0.2222222222222222,
              "#7201a8"
             ],
             [
              0.3333333333333333,
              "#9c179e"
             ],
             [
              0.4444444444444444,
              "#bd3786"
             ],
             [
              0.5555555555555556,
              "#d8576b"
             ],
             [
              0.6666666666666666,
              "#ed7953"
             ],
             [
              0.7777777777777778,
              "#fb9f3a"
             ],
             [
              0.8888888888888888,
              "#fdca26"
             ],
             [
              1,
              "#f0f921"
             ]
            ],
            "type": "histogram2d"
           }
          ],
          "histogram2dcontour": [
           {
            "colorbar": {
             "outlinewidth": 0,
             "ticks": ""
            },
            "colorscale": [
             [
              0,
              "#0d0887"
             ],
             [
              0.1111111111111111,
              "#46039f"
             ],
             [
              0.2222222222222222,
              "#7201a8"
             ],
             [
              0.3333333333333333,
              "#9c179e"
             ],
             [
              0.4444444444444444,
              "#bd3786"
             ],
             [
              0.5555555555555556,
              "#d8576b"
             ],
             [
              0.6666666666666666,
              "#ed7953"
             ],
             [
              0.7777777777777778,
              "#fb9f3a"
             ],
             [
              0.8888888888888888,
              "#fdca26"
             ],
             [
              1,
              "#f0f921"
             ]
            ],
            "type": "histogram2dcontour"
           }
          ],
          "mesh3d": [
           {
            "colorbar": {
             "outlinewidth": 0,
             "ticks": ""
            },
            "type": "mesh3d"
           }
          ],
          "parcoords": [
           {
            "line": {
             "colorbar": {
              "outlinewidth": 0,
              "ticks": ""
             }
            },
            "type": "parcoords"
           }
          ],
          "pie": [
           {
            "automargin": true,
            "type": "pie"
           }
          ],
          "scatter": [
           {
            "marker": {
             "colorbar": {
              "outlinewidth": 0,
              "ticks": ""
             }
            },
            "type": "scatter"
           }
          ],
          "scatter3d": [
           {
            "line": {
             "colorbar": {
              "outlinewidth": 0,
              "ticks": ""
             }
            },
            "marker": {
             "colorbar": {
              "outlinewidth": 0,
              "ticks": ""
             }
            },
            "type": "scatter3d"
           }
          ],
          "scattercarpet": [
           {
            "marker": {
             "colorbar": {
              "outlinewidth": 0,
              "ticks": ""
             }
            },
            "type": "scattercarpet"
           }
          ],
          "scattergeo": [
           {
            "marker": {
             "colorbar": {
              "outlinewidth": 0,
              "ticks": ""
             }
            },
            "type": "scattergeo"
           }
          ],
          "scattergl": [
           {
            "marker": {
             "colorbar": {
              "outlinewidth": 0,
              "ticks": ""
             }
            },
            "type": "scattergl"
           }
          ],
          "scattermapbox": [
           {
            "marker": {
             "colorbar": {
              "outlinewidth": 0,
              "ticks": ""
             }
            },
            "type": "scattermapbox"
           }
          ],
          "scatterpolar": [
           {
            "marker": {
             "colorbar": {
              "outlinewidth": 0,
              "ticks": ""
             }
            },
            "type": "scatterpolar"
           }
          ],
          "scatterpolargl": [
           {
            "marker": {
             "colorbar": {
              "outlinewidth": 0,
              "ticks": ""
             }
            },
            "type": "scatterpolargl"
           }
          ],
          "scatterternary": [
           {
            "marker": {
             "colorbar": {
              "outlinewidth": 0,
              "ticks": ""
             }
            },
            "type": "scatterternary"
           }
          ],
          "surface": [
           {
            "colorbar": {
             "outlinewidth": 0,
             "ticks": ""
            },
            "colorscale": [
             [
              0,
              "#0d0887"
             ],
             [
              0.1111111111111111,
              "#46039f"
             ],
             [
              0.2222222222222222,
              "#7201a8"
             ],
             [
              0.3333333333333333,
              "#9c179e"
             ],
             [
              0.4444444444444444,
              "#bd3786"
             ],
             [
              0.5555555555555556,
              "#d8576b"
             ],
             [
              0.6666666666666666,
              "#ed7953"
             ],
             [
              0.7777777777777778,
              "#fb9f3a"
             ],
             [
              0.8888888888888888,
              "#fdca26"
             ],
             [
              1,
              "#f0f921"
             ]
            ],
            "type": "surface"
           }
          ],
          "table": [
           {
            "cells": {
             "fill": {
              "color": "#EBF0F8"
             },
             "line": {
              "color": "white"
             }
            },
            "header": {
             "fill": {
              "color": "#C8D4E3"
             },
             "line": {
              "color": "white"
             }
            },
            "type": "table"
           }
          ]
         },
         "layout": {
          "annotationdefaults": {
           "arrowcolor": "#2a3f5f",
           "arrowhead": 0,
           "arrowwidth": 1
          },
          "autotypenumbers": "strict",
          "coloraxis": {
           "colorbar": {
            "outlinewidth": 0,
            "ticks": ""
           }
          },
          "colorscale": {
           "diverging": [
            [
             0,
             "#8e0152"
            ],
            [
             0.1,
             "#c51b7d"
            ],
            [
             0.2,
             "#de77ae"
            ],
            [
             0.3,
             "#f1b6da"
            ],
            [
             0.4,
             "#fde0ef"
            ],
            [
             0.5,
             "#f7f7f7"
            ],
            [
             0.6,
             "#e6f5d0"
            ],
            [
             0.7,
             "#b8e186"
            ],
            [
             0.8,
             "#7fbc41"
            ],
            [
             0.9,
             "#4d9221"
            ],
            [
             1,
             "#276419"
            ]
           ],
           "sequential": [
            [
             0,
             "#0d0887"
            ],
            [
             0.1111111111111111,
             "#46039f"
            ],
            [
             0.2222222222222222,
             "#7201a8"
            ],
            [
             0.3333333333333333,
             "#9c179e"
            ],
            [
             0.4444444444444444,
             "#bd3786"
            ],
            [
             0.5555555555555556,
             "#d8576b"
            ],
            [
             0.6666666666666666,
             "#ed7953"
            ],
            [
             0.7777777777777778,
             "#fb9f3a"
            ],
            [
             0.8888888888888888,
             "#fdca26"
            ],
            [
             1,
             "#f0f921"
            ]
           ],
           "sequentialminus": [
            [
             0,
             "#0d0887"
            ],
            [
             0.1111111111111111,
             "#46039f"
            ],
            [
             0.2222222222222222,
             "#7201a8"
            ],
            [
             0.3333333333333333,
             "#9c179e"
            ],
            [
             0.4444444444444444,
             "#bd3786"
            ],
            [
             0.5555555555555556,
             "#d8576b"
            ],
            [
             0.6666666666666666,
             "#ed7953"
            ],
            [
             0.7777777777777778,
             "#fb9f3a"
            ],
            [
             0.8888888888888888,
             "#fdca26"
            ],
            [
             1,
             "#f0f921"
            ]
           ]
          },
          "colorway": [
           "#636efa",
           "#EF553B",
           "#00cc96",
           "#ab63fa",
           "#FFA15A",
           "#19d3f3",
           "#FF6692",
           "#B6E880",
           "#FF97FF",
           "#FECB52"
          ],
          "font": {
           "color": "#2a3f5f"
          },
          "geo": {
           "bgcolor": "white",
           "lakecolor": "white",
           "landcolor": "#E5ECF6",
           "showlakes": true,
           "showland": true,
           "subunitcolor": "white"
          },
          "hoverlabel": {
           "align": "left"
          },
          "hovermode": "closest",
          "mapbox": {
           "style": "light"
          },
          "paper_bgcolor": "white",
          "plot_bgcolor": "#E5ECF6",
          "polar": {
           "angularaxis": {
            "gridcolor": "white",
            "linecolor": "white",
            "ticks": ""
           },
           "bgcolor": "#E5ECF6",
           "radialaxis": {
            "gridcolor": "white",
            "linecolor": "white",
            "ticks": ""
           }
          },
          "scene": {
           "xaxis": {
            "backgroundcolor": "#E5ECF6",
            "gridcolor": "white",
            "gridwidth": 2,
            "linecolor": "white",
            "showbackground": true,
            "ticks": "",
            "zerolinecolor": "white"
           },
           "yaxis": {
            "backgroundcolor": "#E5ECF6",
            "gridcolor": "white",
            "gridwidth": 2,
            "linecolor": "white",
            "showbackground": true,
            "ticks": "",
            "zerolinecolor": "white"
           },
           "zaxis": {
            "backgroundcolor": "#E5ECF6",
            "gridcolor": "white",
            "gridwidth": 2,
            "linecolor": "white",
            "showbackground": true,
            "ticks": "",
            "zerolinecolor": "white"
           }
          },
          "shapedefaults": {
           "line": {
            "color": "#2a3f5f"
           }
          },
          "ternary": {
           "aaxis": {
            "gridcolor": "white",
            "linecolor": "white",
            "ticks": ""
           },
           "baxis": {
            "gridcolor": "white",
            "linecolor": "white",
            "ticks": ""
           },
           "bgcolor": "#E5ECF6",
           "caxis": {
            "gridcolor": "white",
            "linecolor": "white",
            "ticks": ""
           }
          },
          "title": {
           "x": 0.05
          },
          "xaxis": {
           "automargin": true,
           "gridcolor": "white",
           "linecolor": "white",
           "ticks": "",
           "title": {
            "standoff": 15
           },
           "zerolinecolor": "white",
           "zerolinewidth": 2
          },
          "yaxis": {
           "automargin": true,
           "gridcolor": "white",
           "linecolor": "white",
           "ticks": "",
           "title": {
            "standoff": 15
           },
           "zerolinecolor": "white",
           "zerolinewidth": 2
          }
         }
        },
        "title": {
         "text": "3eiy - Correlation of Graph Metrics with Properties"
        },
        "width": 1000
       }
      }
     },
     "metadata": {},
     "output_type": "display_data"
    }
   ],
   "source": [
    "plot_graph_metric_property_correlation(g, diagonal_visible=False, colour_by=None)"
   ]
  },
  {
   "cell_type": "markdown",
   "metadata": {},
   "source": [
    "However, we can include more features. For instance, we can correlate these metrics with the properties defined by the ExPaSy amino acid scales. We'll plot a subset for the sake of space.\n",
    "\n",
    "The full list of properties are:\n",
    "\n",
    "```python\n",
    "['b_factor', 'pka_cooh_alpha', 'pka_nh3', 'pka_rgroup', 'isoelectric_points', 'molecularweight', 'numbercodons', 'bulkiness', 'polarityzimmerman', 'polaritygrantham', 'refractivity', 'recognitionfactors', 'hphob_eisenberg', 'hphob_sweet', 'hphob_woods', 'hphob_doolittle', 'hphob_manavalan', 'hphob_leo', 'hphob_black', 'hphob_breese', 'hphob_fauchere', 'hphob_guy', 'hphob_janin', 'hphob_miyazawa', 'hphob_argos', 'hphob_roseman', 'hphob_tanford', 'hphob_wolfenden', 'hphob_welling', 'hphob_wilson', 'hphob_parker', 'hphob_ph3_4', 'hphob_ph7_5', 'hphob_mobility', 'hplchfba', 'hplctfa', 'transmembranetendency', 'hplc2_1', 'hplc7_4', 'buriedresidues', 'accessibleresidues', 'hphob_chothia', 'hphob_rose', 'ratioside', 'averageburied', 'averageflexibility', 'alpha_helixfasman', 'beta_sheetfasman', 'beta_turnfasman', 'alpha_helixroux', 'beta_sheetroux', 'beta_turnroux', 'coilroux', 'alpha_helixlevitt', 'beta_sheetlevitt', 'beta_turnlevitt', 'totalbeta_strand', 'antiparallelbeta_strand', 'parallelbeta_strand', 'a_a_composition', 'a_a_swiss_prot', 'relativemutability']\n",
    "```\n",
    "\n",
    "These can be accessed programmatically with:\n",
    "```python\n",
    "for _, d in g.nodes(data=True):\n",
    "    print(d.keys())\n",
    "    break\n",
    "```"
   ]
  },
  {
   "cell_type": "code",
   "execution_count": 14,
   "metadata": {},
   "outputs": [
    {
     "name": "stderr",
     "output_type": "stream",
     "text": [
      "DEBUG:graphein.protein.graphs:Deprotonating protein. This removes H atoms from the pdb_df dataframe\n",
      "DEBUG:graphein.protein.graphs:Detected 174 total nodes\n",
      "DEBUG:graphein.protein.features.nodes.amino_acid:Reading Expasy protein scales from: /Users/arianjamasb/github/graphein/graphein/protein/features/nodes/amino_acid_properties.csv\n",
      "INFO:graphein.protein.edges.distance:Found 413 hydrophobic interactions.\n",
      "INFO:graphein.protein.edges.distance:Found: 16 aromatic-aromatic interactions\n",
      "DEBUG:graphein.protein.edges.distance:1 CYS residues found. Cannot add disulfide interactions with fewer than two CYS residues.\n"
     ]
    },
    {
     "data": {
      "application/vnd.plotly.v1+json": {
       "config": {
        "plotlyServerURL": "https://plot.ly"
       },
       "data": [
        {
         "diagonal": {
          "visible": false
         },
         "dimensions": [
          {
           "axis": {
            "matches": true
           },
           "label": "degree",
           "values": [
            1,
            2,
            2,
            2,
            2,
            2,
            2
           ]
          },
          {
           "axis": {
            "matches": true
           },
           "label": "betweenness centrality",
           "values": [
            0,
            0.0020348580086018376,
            0.003055076989745627,
            0.0030208712289637157,
            0.004129164572236551,
            0.0023639870185895506,
            0.00172114725060789
           ]
          },
          {
           "axis": {
            "matches": true
           },
           "label": "closeness centrality",
           "values": [
            0.1787190082644628,
            0.17946058091286307,
            0.1624413145539906,
            0.125544267053701,
            0.180773249738767,
            0.12446043165467625,
            0.18463180362860193
           ]
          },
          {
           "axis": {
            "matches": true
           },
           "label": "eigenvector centrality",
           "values": [
            0.005603584005315519,
            0.006684642079511436,
            0.0010753740932918515,
            0.00005597447670099832,
            0.008231826274788535,
            0.00005353479346301537,
            0.015517143345497614
           ]
          },
          {
           "axis": {
            "matches": true
           },
           "label": "communicability betweenness centrality",
           "values": [
            0.0009537617993682485,
            0.003440681257066719,
            0.0024341818109738568,
            0.004158180628863399,
            0.004458530034070822,
            0.002685903033094482,
            0.0026005721653408116
           ]
          },
          {
           "axis": {
            "matches": true
           },
           "label": "pka rgroup",
           "values": [
            7,
            7,
            7,
            7,
            7,
            7,
            7
           ]
          },
          {
           "axis": {
            "matches": true
           },
           "label": "isoelectric points",
           "values": [
            5.68,
            5.68,
            5.68,
            5.68,
            5.68,
            5.68,
            5.68
           ]
          },
          {
           "axis": {
            "matches": true
           },
           "label": "bulkiness",
           "values": [
            9.47,
            9.47,
            9.47,
            9.47,
            9.47,
            9.47,
            9.47
           ]
          },
          {
           "axis": {
            "matches": true
           },
           "label": "transmembranetendency",
           "values": [
            -0.53,
            -0.53,
            -0.53,
            -0.53,
            -0.53,
            -0.53,
            -0.53
           ]
          },
          {
           "axis": {
            "matches": true
           },
           "label": "coilroux",
           "values": [
            1.13,
            1.13,
            1.13,
            1.13,
            1.13,
            1.13,
            1.13
           ]
          },
          {
           "axis": {
            "matches": true
           },
           "label": "relativemutability",
           "values": [
            120,
            120,
            120,
            120,
            120,
            120,
            120
           ]
          }
         ],
         "hovertemplate": "residue type=SER<br>%{xaxis.title.text}=%{x}<br>%{yaxis.title.text}=%{y}<extra></extra>",
         "legendgroup": "SER",
         "marker": {
          "color": "#636efa",
          "opacity": 0.2,
          "symbol": "circle"
         },
         "name": "SER",
         "showlegend": true,
         "type": "splom"
        },
        {
         "diagonal": {
          "visible": false
         },
         "dimensions": [
          {
           "axis": {
            "matches": true
           },
           "label": "degree",
           "values": [
            6,
            10,
            4,
            7,
            2,
            7,
            11,
            3
           ]
          },
          {
           "axis": {
            "matches": true
           },
           "label": "betweenness centrality",
           "values": [
            0.05322768323082323,
            0.07377594192753173,
            0.02862784995456655,
            0.10605597991561179,
            0.007680126110339828,
            0.029819651510095878,
            0.15593986133993729,
            0.025774011587614398
           ]
          },
          {
           "axis": {
            "matches": true
           },
           "label": "closeness centrality",
           "values": [
            0.21733668341708542,
            0.2536656891495601,
            0.18622174381054898,
            0.24366197183098592,
            0.1778006166495375,
            0.22526041666666666,
            0.25667655786350146,
            0.13515625
           ]
          },
          {
           "axis": {
            "matches": true
           },
           "label": "eigenvector centrality",
           "values": [
            0.036295408714033105,
            0.24476813962872687,
            0.012653896093607663,
            0.08220195136218071,
            0.004916971284305013,
            0.1022670667043333,
            0.17997629855719352,
            0.0002688951835287636
           ]
          },
          {
           "axis": {
            "matches": true
           },
           "label": "communicability betweenness centrality",
           "values": [
            0.07074547332206543,
            0.14639119282979943,
            0.032672343621037304,
            0.12077573676513415,
            0.00716852511534986,
            0.07627065322660118,
            0.22200763930688872,
            0.02647669337693696
           ]
          },
          {
           "axis": {
            "matches": true
           },
           "label": "pka rgroup",
           "values": [
            7,
            7,
            7,
            7,
            7,
            7,
            7,
            7
           ]
          },
          {
           "axis": {
            "matches": true
           },
           "label": "isoelectric points",
           "values": [
            5.91,
            5.91,
            5.91,
            5.91,
            5.91,
            5.91,
            5.91,
            5.91
           ]
          },
          {
           "axis": {
            "matches": true
           },
           "label": "bulkiness",
           "values": [
            19.8,
            19.8,
            19.8,
            19.8,
            19.8,
            19.8,
            19.8,
            19.8
           ]
          },
          {
           "axis": {
            "matches": true
           },
           "label": "transmembranetendency",
           "values": [
            1.98,
            1.98,
            1.98,
            1.98,
            1.98,
            1.98,
            1.98,
            1.98
           ]
          },
          {
           "axis": {
            "matches": true
           },
           "label": "coilroux",
           "values": [
            0.797,
            0.797,
            0.797,
            0.797,
            0.797,
            0.797,
            0.797,
            0.797
           ]
          },
          {
           "axis": {
            "matches": true
           },
           "label": "relativemutability",
           "values": [
            41,
            41,
            41,
            41,
            41,
            41,
            41,
            41
           ]
          }
         ],
         "hovertemplate": "residue type=PHE<br>%{xaxis.title.text}=%{x}<br>%{yaxis.title.text}=%{y}<extra></extra>",
         "legendgroup": "PHE",
         "marker": {
          "color": "#EF553B",
          "opacity": 0.2,
          "symbol": "circle"
         },
         "name": "PHE",
         "showlegend": true,
         "type": "splom"
        },
        {
         "diagonal": {
          "visible": false
         },
         "dimensions": [
          {
           "axis": {
            "matches": true
           },
           "label": "degree",
           "values": [
            2,
            2,
            2,
            2,
            2
           ]
          },
          {
           "axis": {
            "matches": true
           },
           "label": "betweenness centrality",
           "values": [
            0.0007495644711668368,
            0,
            0.0009602995186301848,
            0.017295122113469476,
            0.02421394377967719
           ]
          },
          {
           "axis": {
            "matches": true
           },
           "label": "closeness centrality",
           "values": [
            0.17421953675730112,
            0.21464019851116625,
            0.21761006289308177,
            0.17617107942973523,
            0.14786324786324787
           ]
          },
          {
           "axis": {
            "matches": true
           },
           "label": "eigenvector centrality",
           "values": [
            0.007002235729676022,
            0.07710974453525231,
            0.035769803290303395,
            0.012200258398742333,
            0.0013678878585548107
           ]
          },
          {
           "axis": {
            "matches": true
           },
           "label": "communicability betweenness centrality",
           "values": [
            0.002089745964762669,
            0.007803597440108302,
            0.005204951739433882,
            0.018332016832320944,
            0.026654518118818613
           ]
          },
          {
           "axis": {
            "matches": true
           },
           "label": "pka rgroup",
           "values": [
            13.2,
            13.2,
            13.2,
            13.2,
            13.2
           ]
          },
          {
           "axis": {
            "matches": true
           },
           "label": "isoelectric points",
           "values": [
            10.76,
            10.76,
            10.76,
            10.76,
            10.76
           ]
          },
          {
           "axis": {
            "matches": true
           },
           "label": "bulkiness",
           "values": [
            12.82,
            12.82,
            12.82,
            12.82,
            12.82
           ]
          },
          {
           "axis": {
            "matches": true
           },
           "label": "transmembranetendency",
           "values": [
            -1.62,
            -1.62,
            -1.62,
            -1.62,
            -1.62
           ]
          },
          {
           "axis": {
            "matches": true
           },
           "label": "coilroux",
           "values": [
            1.167,
            1.167,
            1.167,
            1.167,
            1.167
           ]
          },
          {
           "axis": {
            "matches": true
           },
           "label": "relativemutability",
           "values": [
            134,
            134,
            134,
            134,
            134
           ]
          }
         ],
         "hovertemplate": "residue type=ASN<br>%{xaxis.title.text}=%{x}<br>%{yaxis.title.text}=%{y}<extra></extra>",
         "legendgroup": "ASN",
         "marker": {
          "color": "#00cc96",
          "opacity": 0.2,
          "symbol": "circle"
         },
         "name": "ASN",
         "showlegend": true,
         "type": "splom"
        },
        {
         "diagonal": {
          "visible": false
         },
         "dimensions": [
          {
           "axis": {
            "matches": true
           },
           "label": "degree",
           "values": [
            5,
            9,
            5,
            3,
            5,
            7,
            6,
            9,
            9,
            4,
            9,
            2,
            8,
            5,
            4,
            7,
            6,
            6,
            5
           ]
          },
          {
           "axis": {
            "matches": true
           },
           "label": "betweenness centrality",
           "values": [
            0.017827287800428075,
            0.0570058562945924,
            0.009166478862506558,
            0.017915721266040713,
            0.02400274942121759,
            0.04485414756152362,
            0.03974927334748586,
            0.1127779643761299,
            0.10521572480414601,
            0.021602153374980382,
            0.06463612649646866,
            0.014380342608856083,
            0.08314790704419052,
            0.015173399838335846,
            0.03467023008252019,
            0.025181374192634245,
            0.052238172479818636,
            0.018512401275767875,
            0.0567655559863565
           ]
          },
          {
           "axis": {
            "matches": true
           },
           "label": "closeness centrality",
           "values": [
            0.20473372781065088,
            0.2578241430700447,
            0.1779835390946502,
            0.1778006166495375,
            0.17816683831101957,
            0.2443502824858757,
            0.24714285714285714,
            0.2763578274760383,
            0.2686335403726708,
            0.21358024691358024,
            0.24061196105702365,
            0.1440466278101582,
            0.2665639445300462,
            0.22179487179487178,
            0.20023148148148148,
            0.2300531914893617,
            0.21517412935323382,
            0.21815889029003782,
            0.20069605568445475
           ]
          },
          {
           "axis": {
            "matches": true
           },
           "label": "eigenvector centrality",
           "values": [
            0.03867015561106481,
            0.2546828229223045,
            0.007231429807147968,
            0.0031570092367898123,
            0.005822540754120381,
            0.1294143097982091,
            0.14947237275456712,
            0.2749833763531658,
            0.24962993200714406,
            0.05027457012661819,
            0.17357067090115083,
            0.0003673477000099316,
            0.1839474374537888,
            0.10292545392046616,
            0.04285489141753037,
            0.12080333825939028,
            0.07012131944463497,
            0.07034691825143555,
            0.054278965279772835
           ]
          },
          {
           "axis": {
            "matches": true
           },
           "label": "communicability betweenness centrality",
           "values": [
            0.026333103139643068,
            0.14680767986037452,
            0.020911958702691146,
            0.021599511475067102,
            0.03022261413824559,
            0.08460331391173016,
            0.08252177016780797,
            0.19837817959185605,
            0.1842755321549981,
            0.0282464960183194,
            0.1050875117184545,
            0.0141860028215396,
            0.1337257874836445,
            0.03897392530259024,
            0.04009718008278643,
            0.05891315468999722,
            0.07460679381633883,
            0.04553656605453633,
            0.06832241627825868
           ]
          },
          {
           "axis": {
            "matches": true
           },
           "label": "pka rgroup",
           "values": [
            7,
            7,
            7,
            7,
            7,
            7,
            7,
            7,
            7,
            7,
            7,
            7,
            7,
            7,
            7,
            7,
            7,
            7,
            7
           ]
          },
          {
           "axis": {
            "matches": true
           },
           "label": "isoelectric points",
           "values": [
            6.02,
            6.02,
            6.02,
            6.02,
            6.02,
            6.02,
            6.02,
            6.02,
            6.02,
            6.02,
            6.02,
            6.02,
            6.02,
            6.02,
            6.02,
            6.02,
            6.02,
            6.02,
            6.02
           ]
          },
          {
           "axis": {
            "matches": true
           },
           "label": "bulkiness",
           "values": [
            21.57,
            21.57,
            21.57,
            21.57,
            21.57,
            21.57,
            21.57,
            21.57,
            21.57,
            21.57,
            21.57,
            21.57,
            21.57,
            21.57,
            21.57,
            21.57,
            21.57,
            21.57,
            21.57
           ]
          },
          {
           "axis": {
            "matches": true
           },
           "label": "transmembranetendency",
           "values": [
            1.46,
            1.46,
            1.46,
            1.46,
            1.46,
            1.46,
            1.46,
            1.46,
            1.46,
            1.46,
            1.46,
            1.46,
            1.46,
            1.46,
            1.46,
            1.46,
            1.46,
            1.46,
            1.46
           ]
          },
          {
           "axis": {
            "matches": true
           },
           "label": "coilroux",
           "values": [
            0.772,
            0.772,
            0.772,
            0.772,
            0.772,
            0.772,
            0.772,
            0.772,
            0.772,
            0.772,
            0.772,
            0.772,
            0.772,
            0.772,
            0.772,
            0.772,
            0.772,
            0.772,
            0.772
           ]
          },
          {
           "axis": {
            "matches": true
           },
           "label": "relativemutability",
           "values": [
            74,
            74,
            74,
            74,
            74,
            74,
            74,
            74,
            74,
            74,
            74,
            74,
            74,
            74,
            74,
            74,
            74,
            74,
            74
           ]
          }
         ],
         "hovertemplate": "residue type=VAL<br>%{xaxis.title.text}=%{x}<br>%{yaxis.title.text}=%{y}<extra></extra>",
         "legendgroup": "VAL",
         "marker": {
          "color": "#ab63fa",
          "opacity": 0.2,
          "symbol": "circle"
         },
         "name": "VAL",
         "showlegend": true,
         "type": "splom"
        },
        {
         "diagonal": {
          "visible": false
         },
         "dimensions": [
          {
           "axis": {
            "matches": true
           },
           "label": "degree",
           "values": [
            2,
            3,
            5,
            3,
            5,
            5,
            3,
            3,
            4,
            5,
            2,
            5
           ]
          },
          {
           "axis": {
            "matches": true
           },
           "label": "betweenness centrality",
           "values": [
            0.0032122128083002014,
            0.004350496748866233,
            0.04403567678236315,
            0.015695904302266552,
            0.023518987206021934,
            0.060784827206272825,
            0.04318173367855883,
            0.018719883746525542,
            0.018172426166758335,
            0.03482839844444286,
            0.003100550116204979,
            0.013352129389350197
           ]
          },
          {
           "axis": {
            "matches": true
           },
           "label": "closeness centrality",
           "values": [
            0.18948521358159912,
            0.19548022598870057,
            0.23473541383989144,
            0.1858216970998926,
            0.2255541069100391,
            0.22733245729303547,
            0.21625,
            0.17617107942973523,
            0.20843373493975903,
            0.2232258064516129,
            0.14875322441960448,
            0.20595238095238094
           ]
          },
          {
           "axis": {
            "matches": true
           },
           "label": "eigenvector centrality",
           "values": [
            0.015605298525101216,
            0.04387882685191156,
            0.041312517291614885,
            0.01172916018099088,
            0.10075936770958968,
            0.07242786361559989,
            0.03666372934741013,
            0.005282429745113697,
            0.026564992613481785,
            0.09007143908995487,
            0.0012165619580293031,
            0.05585372917797348
           ]
          },
          {
           "axis": {
            "matches": true
           },
           "label": "communicability betweenness centrality",
           "values": [
            0.0035941230845279756,
            0.011600035006970228,
            0.048218221571879924,
            0.020661608276741024,
            0.050565904751183076,
            0.08000793380532921,
            0.048535119441780794,
            0.017749201337741903,
            0.024415665432853055,
            0.050257033237839026,
            0.003410213478358805,
            0.02319108560309936
           ]
          },
          {
           "axis": {
            "matches": true
           },
           "label": "pka rgroup",
           "values": [
            7,
            7,
            7,
            7,
            7,
            7,
            7,
            7,
            7,
            7,
            7,
            7
           ]
          },
          {
           "axis": {
            "matches": true
           },
           "label": "isoelectric points",
           "values": [
            6.3,
            6.3,
            6.3,
            6.3,
            6.3,
            6.3,
            6.3,
            6.3,
            6.3,
            6.3,
            6.3,
            6.3
           ]
          },
          {
           "axis": {
            "matches": true
           },
           "label": "bulkiness",
           "values": [
            17.43,
            17.43,
            17.43,
            17.43,
            17.43,
            17.43,
            17.43,
            17.43,
            17.43,
            17.43,
            17.43,
            17.43
           ]
          },
          {
           "axis": {
            "matches": true
           },
           "label": "transmembranetendency",
           "values": [
            -1.44,
            -1.44,
            -1.44,
            -1.44,
            -1.44,
            -1.44,
            -1.44,
            -1.44,
            -1.44,
            -1.44,
            -1.44,
            -1.44
           ]
          },
          {
           "axis": {
            "matches": true
           },
           "label": "coilroux",
           "values": [
            1.54,
            1.54,
            1.54,
            1.54,
            1.54,
            1.54,
            1.54,
            1.54,
            1.54,
            1.54,
            1.54,
            1.54
           ]
          },
          {
           "axis": {
            "matches": true
           },
           "label": "relativemutability",
           "values": [
            56,
            56,
            56,
            56,
            56,
            56,
            56,
            56,
            56,
            56,
            56,
            56
           ]
          }
         ],
         "hovertemplate": "residue type=PRO<br>%{xaxis.title.text}=%{x}<br>%{yaxis.title.text}=%{y}<extra></extra>",
         "legendgroup": "PRO",
         "marker": {
          "color": "#FFA15A",
          "opacity": 0.2,
          "symbol": "circle"
         },
         "name": "PRO",
         "showlegend": true,
         "type": "splom"
        },
        {
         "diagonal": {
          "visible": false
         },
         "dimensions": [
          {
           "axis": {
            "matches": true
           },
           "label": "degree",
           "values": [
            5,
            4,
            5,
            2,
            4,
            6,
            6,
            3,
            6,
            2,
            2,
            2,
            3,
            5,
            2
           ]
          },
          {
           "axis": {
            "matches": true
           },
           "label": "betweenness centrality",
           "values": [
            0.033450536576057274,
            0.03202395424315709,
            0.050464418341478356,
            0.0011639109199265139,
            0.023330842060692525,
            0.015241464020113612,
            0.05483426890401487,
            0.03698640583361806,
            0.018416538588878092,
            0.006741546232732692,
            0,
            0.02324885257235035,
            0.006228076676053556,
            0.02362419516065187,
            0.034513267165436935
           ]
          },
          {
           "axis": {
            "matches": true
           },
           "label": "closeness centrality",
           "values": [
            0.21733668341708542,
            0.22010178117048346,
            0.20944309927360774,
            0.13974151857835218,
            0.20092915214866433,
            0.2261437908496732,
            0.23473541383989144,
            0.1977142857142857,
            0.24679029957203993,
            0.1516213847502191,
            0.17111770524233433,
            0.15613718411552346,
            0.19885057471264367,
            0.2255541069100391,
            0.17010816125860373
           ]
          },
          {
           "axis": {
            "matches": true
           },
           "label": "eigenvector centrality",
           "values": [
            0.062408236423440185,
            0.031230886499991565,
            0.021775904653837354,
            0.000236603976512272,
            0.011486350480265932,
            0.14615475440836417,
            0.10411949955358903,
            0.014622770692440239,
            0.18564035539624174,
            0.001955899889549626,
            0.013161224579742207,
            0.0025136879654094235,
            0.019468980698037475,
            0.05809303217292949,
            0.008591201993265003
           ]
          },
          {
           "axis": {
            "matches": true
           },
           "label": "communicability betweenness centrality",
           "values": [
            0.04362137864513258,
            0.034426349946899075,
            0.05987510779646587,
            0.0016439104052491575,
            0.024618687718278236,
            0.042655550972241905,
            0.06675751988507324,
            0.03813064189341491,
            0.0721222241863526,
            0.007302844807462442,
            0.0011308849148313896,
            0.0237384445778884,
            0.01105503719801344,
            0.038435028176228854,
            0.03713266653857182
           ]
          },
          {
           "axis": {
            "matches": true
           },
           "label": "pka rgroup",
           "values": [
            7,
            7,
            7,
            7,
            7,
            7,
            7,
            7,
            7,
            7,
            7,
            7,
            7,
            7,
            7
           ]
          },
          {
           "axis": {
            "matches": true
           },
           "label": "isoelectric points",
           "values": [
            6.11,
            6.11,
            6.11,
            6.11,
            6.11,
            6.11,
            6.11,
            6.11,
            6.11,
            6.11,
            6.11,
            6.11,
            6.11,
            6.11,
            6.11
           ]
          },
          {
           "axis": {
            "matches": true
           },
           "label": "bulkiness",
           "values": [
            11.5,
            11.5,
            11.5,
            11.5,
            11.5,
            11.5,
            11.5,
            11.5,
            11.5,
            11.5,
            11.5,
            11.5,
            11.5,
            11.5,
            11.5
           ]
          },
          {
           "axis": {
            "matches": true
           },
           "label": "transmembranetendency",
           "values": [
            0.38,
            0.38,
            0.38,
            0.38,
            0.38,
            0.38,
            0.38,
            0.38,
            0.38,
            0.38,
            0.38,
            0.38,
            0.38,
            0.38,
            0.38
           ]
          },
          {
           "axis": {
            "matches": true
           },
           "label": "coilroux",
           "values": [
            0.824,
            0.824,
            0.824,
            0.824,
            0.824,
            0.824,
            0.824,
            0.824,
            0.824,
            0.824,
            0.824,
            0.824,
            0.824,
            0.824,
            0.824
           ]
          },
          {
           "axis": {
            "matches": true
           },
           "label": "relativemutability",
           "values": [
            100,
            100,
            100,
            100,
            100,
            100,
            100,
            100,
            100,
            100,
            100,
            100,
            100,
            100,
            100
           ]
          }
         ],
         "hovertemplate": "residue type=ALA<br>%{xaxis.title.text}=%{x}<br>%{yaxis.title.text}=%{y}<extra></extra>",
         "legendgroup": "ALA",
         "marker": {
          "color": "#19d3f3",
          "opacity": 0.2,
          "symbol": "circle"
         },
         "name": "ALA",
         "showlegend": true,
         "type": "splom"
        },
        {
         "diagonal": {
          "visible": false
         },
         "dimensions": [
          {
           "axis": {
            "matches": true
           },
           "label": "degree",
           "values": [
            2,
            2,
            2,
            2,
            2,
            2,
            2,
            2,
            2,
            2,
            2,
            2,
            2,
            2
           ]
          },
          {
           "axis": {
            "matches": true
           },
           "label": "betweenness centrality",
           "values": [
            0.005574541140477425,
            0,
            0.00978234601457102,
            0.0017111342919217995,
            0.028640299051901685,
            0.0015347044853698973,
            0.02096308718838629,
            0.0022574078697213517,
            0.005570244534111436,
            0.005049209315575763,
            0.010895521671499623,
            0.0029937406248066287,
            0.0020763052722993576,
            0.0009722954675233208
           ]
          },
          {
           "axis": {
            "matches": true
           },
           "label": "closeness centrality",
           "values": [
            0.17927461139896372,
            0.1481164383561644,
            0.1779835390946502,
            0.16093023255813954,
            0.23159303882195448,
            0.12200282087447109,
            0.1550179211469534,
            0.17369477911646586,
            0.21571072319201995,
            0.12729948491537896,
            0.13348765432098766,
            0.19094922737306844,
            0.1787190082644628,
            0.16779825412221144
           ]
          },
          {
           "axis": {
            "matches": true
           },
           "label": "eigenvector centrality",
           "values": [
            0.010233605379394984,
            0.0005094937566829749,
            0.01074871797828235,
            0.0077645047229383465,
            0.028479789120842817,
            0.00003127855918588524,
            0.0009184356345267297,
            0.003044285407435818,
            0.03066767087603704,
            0.00006498123533265566,
            0.0002795785480033329,
            0.015187014568780062,
            0.004881342055058191,
            0.00928071543988116
           ]
          },
          {
           "axis": {
            "matches": true
           },
           "label": "communicability betweenness centrality",
           "values": [
            0.005774518969937564,
            0.001496766867208681,
            0.008986744632979377,
            0.004526997475185573,
            0.021997611205792973,
            0.002127689958711363,
            0.020646314030608178,
            0.0023763421794720345,
            0.007518677406990089,
            0.004880334701685859,
            0.010768172883735778,
            0.003689679191198163,
            0.00196525821626307,
            0.0032876784319815023
           ]
          },
          {
           "axis": {
            "matches": true
           },
           "label": "pka rgroup",
           "values": [
            7,
            7,
            7,
            7,
            7,
            7,
            7,
            7,
            7,
            7,
            7,
            7,
            7,
            7
           ]
          },
          {
           "axis": {
            "matches": true
           },
           "label": "isoelectric points",
           "values": [
            6.06,
            6.06,
            6.06,
            6.06,
            6.06,
            6.06,
            6.06,
            6.06,
            6.06,
            6.06,
            6.06,
            6.06,
            6.06,
            6.06
           ]
          },
          {
           "axis": {
            "matches": true
           },
           "label": "bulkiness",
           "values": [
            3.4,
            3.4,
            3.4,
            3.4,
            3.4,
            3.4,
            3.4,
            3.4,
            3.4,
            3.4,
            3.4,
            3.4,
            3.4,
            3.4
           ]
          },
          {
           "axis": {
            "matches": true
           },
           "label": "transmembranetendency",
           "values": [
            -0.19,
            -0.19,
            -0.19,
            -0.19,
            -0.19,
            -0.19,
            -0.19,
            -0.19,
            -0.19,
            -0.19,
            -0.19,
            -0.19,
            -0.19,
            -0.19
           ]
          },
          {
           "axis": {
            "matches": true
           },
           "label": "coilroux",
           "values": [
            1.251,
            1.251,
            1.251,
            1.251,
            1.251,
            1.251,
            1.251,
            1.251,
            1.251,
            1.251,
            1.251,
            1.251,
            1.251,
            1.251
           ]
          },
          {
           "axis": {
            "matches": true
           },
           "label": "relativemutability",
           "values": [
            49,
            49,
            49,
            49,
            49,
            49,
            49,
            49,
            49,
            49,
            49,
            49,
            49,
            49
           ]
          }
         ],
         "hovertemplate": "residue type=GLY<br>%{xaxis.title.text}=%{x}<br>%{yaxis.title.text}=%{y}<extra></extra>",
         "legendgroup": "GLY",
         "marker": {
          "color": "#FF6692",
          "opacity": 0.2,
          "symbol": "circle"
         },
         "name": "GLY",
         "showlegend": true,
         "type": "splom"
        },
        {
         "diagonal": {
          "visible": false
         },
         "dimensions": [
          {
           "axis": {
            "matches": true
           },
           "label": "degree",
           "values": [
            2,
            2,
            2,
            2,
            2,
            2,
            2,
            2,
            2,
            2,
            2,
            2,
            2,
            2,
            2,
            1
           ]
          },
          {
           "axis": {
            "matches": true
           },
           "label": "betweenness centrality",
           "values": [
            0.00006721333512568894,
            0,
            0.005696434286978059,
            0,
            0.0126913930418009,
            0.001881875354796693,
            0.0009131288570729357,
            0.003428886165141038,
            0.0032956098831662907,
            0.03427183953296334,
            0.0007751937984496123,
            0.02191850863211262,
            0,
            0.00041672267777927163,
            0.011560693641618498,
            0
           ]
          },
          {
           "axis": {
            "matches": true
           },
           "label": "closeness centrality",
           "values": [
            0.15585585585585585,
            0.17248255234297108,
            0.15069686411149827,
            0.19794050343249428,
            0.21046228710462286,
            0.16747337850919652,
            0.17761806981519507,
            0.18948521358159912,
            0.20400943396226415,
            0.1832627118644068,
            0.1184931506849315,
            0.15282685512367492,
            0.18443496801705758,
            0.17010816125860373,
            0.1193103448275862,
            0.10665844636251541
           ]
          },
          {
           "axis": {
            "matches": true
           },
           "label": "eigenvector centrality",
           "values": [
            0.0038767192531952927,
            0.0031914126111335034,
            0.0005691391195098697,
            0.026344054749583144,
            0.030130151279343053,
            0.007130002899912308,
            0.014294030798493014,
            0.01979234471877798,
            0.026599852361262718,
            0.01588120269342377,
            0.00005396551598928243,
            0.001756734915958441,
            0.021688433748468707,
            0.005929505827061392,
            0.00004252738060102115,
            0.000006565620352724713
           ]
          },
          {
           "axis": {
            "matches": true
           },
           "label": "communicability betweenness centrality",
           "values": [
            0.0007259482345023312,
            0.0031814825743175837,
            0.004496025500111805,
            0.0050461230115932485,
            0.015976968870243278,
            0.003918535123747475,
            0.0022235118672500687,
            0.005874000305290017,
            0.004699103316827473,
            0.03565627791041124,
            0.0014800538705549405,
            0.02179996060300935,
            0.0032244106212684256,
            0.0011493331145910875,
            0.011769444427517794,
            0.0001261099414032021
           ]
          },
          {
           "axis": {
            "matches": true
           },
           "label": "pka rgroup",
           "values": [
            10.28,
            10.28,
            10.28,
            10.28,
            10.28,
            10.28,
            10.28,
            10.28,
            10.28,
            10.28,
            10.28,
            10.28,
            10.28,
            10.28,
            10.28,
            10.28
           ]
          },
          {
           "axis": {
            "matches": true
           },
           "label": "isoelectric points",
           "values": [
            9.47,
            9.47,
            9.47,
            9.47,
            9.47,
            9.47,
            9.47,
            9.47,
            9.47,
            9.47,
            9.47,
            9.47,
            9.47,
            9.47,
            9.47,
            9.47
           ]
          },
          {
           "axis": {
            "matches": true
           },
           "label": "bulkiness",
           "values": [
            15.71,
            15.71,
            15.71,
            15.71,
            15.71,
            15.71,
            15.71,
            15.71,
            15.71,
            15.71,
            15.71,
            15.71,
            15.71,
            15.71,
            15.71,
            15.71
           ]
          },
          {
           "axis": {
            "matches": true
           },
           "label": "transmembranetendency",
           "values": [
            -3.46,
            -3.46,
            -3.46,
            -3.46,
            -3.46,
            -3.46,
            -3.46,
            -3.46,
            -3.46,
            -3.46,
            -3.46,
            -3.46,
            -3.46,
            -3.46,
            -3.46,
            -3.46
           ]
          },
          {
           "axis": {
            "matches": true
           },
           "label": "coilroux",
           "values": [
            0.897,
            0.897,
            0.897,
            0.897,
            0.897,
            0.897,
            0.897,
            0.897,
            0.897,
            0.897,
            0.897,
            0.897,
            0.897,
            0.897,
            0.897,
            0.897
           ]
          },
          {
           "axis": {
            "matches": true
           },
           "label": "relativemutability",
           "values": [
            56,
            56,
            56,
            56,
            56,
            56,
            56,
            56,
            56,
            56,
            56,
            56,
            56,
            56,
            56,
            56
           ]
          }
         ],
         "hovertemplate": "residue type=LYS<br>%{xaxis.title.text}=%{x}<br>%{yaxis.title.text}=%{y}<extra></extra>",
         "legendgroup": "LYS",
         "marker": {
          "color": "#B6E880",
          "opacity": 0.2,
          "symbol": "circle"
         },
         "name": "LYS",
         "showlegend": true,
         "type": "splom"
        },
        {
         "diagonal": {
          "visible": false
         },
         "dimensions": [
          {
           "axis": {
            "matches": true
           },
           "label": "degree",
           "values": [
            2,
            2,
            2,
            2,
            2,
            2,
            2,
            2,
            2,
            2,
            2,
            2,
            2,
            2,
            2,
            2
           ]
          },
          {
           "axis": {
            "matches": true
           },
           "label": "betweenness centrality",
           "values": [
            0.005918939166015384,
            0.007142983557626576,
            0.015958790338418672,
            0.0010961156511633725,
            0.010612233579030194,
            0.031448367467993774,
            0,
            0.019831244970119576,
            0.02533611623434339,
            0.00006721333512568894,
            0.0002925647115054294,
            0.0005864155523047848,
            0.00006721333512568894,
            0.006159141973767595,
            0.0008357658159378822,
            0.00006721333512568894
           ]
          },
          {
           "axis": {
            "matches": true
           },
           "label": "closeness centrality",
           "values": [
            0.17816683831101957,
            0.20329024676850763,
            0.17421953675730112,
            0.1516213847502191,
            0.13622047244094487,
            0.18020833333333333,
            0.2220795892169448,
            0.1550179211469534,
            0.16666666666666666,
            0.15599639314697927,
            0.18384697130712008,
            0.1876355748373102,
            0.17077986179664364,
            0.19073869900771775,
            0.17725409836065573,
            0.16476190476190475
           ]
          },
          {
           "axis": {
            "matches": true
           },
           "label": "eigenvector centrality",
           "values": [
            0.014876681344138616,
            0.03978363608982308,
            0.003449814537606873,
            0.0012299986348813597,
            0.00014662410518651392,
            0.005802252852176106,
            0.06553155453090903,
            0.0017711911450923488,
            0.0023143459254975737,
            0.0033270678062078773,
            0.016585237322614136,
            0.02121194184012603,
            0.0068518420451494635,
            0.013901569181667798,
            0.005740831333090333,
            0.005834002187532875
           ]
          },
          {
           "axis": {
            "matches": true
           },
           "label": "communicability betweenness centrality",
           "values": [
            0.007382918512095874,
            0.00785248456800003,
            0.015160043025253511,
            0.002055990331908136,
            0.010271493886235184,
            0.03132839621857682,
            0.007123418371139619,
            0.02041856756756711,
            0.0251734435720586,
            0.0008718172272738393,
            0.0018565329693500069,
            0.002701135968117105,
            0.0008414554701602856,
            0.007076259832177354,
            0.0015289146823499631,
            0.0011621005757804716
           ]
          },
          {
           "axis": {
            "matches": true
           },
           "label": "pka rgroup",
           "values": [
            3.65,
            3.65,
            3.65,
            3.65,
            3.65,
            3.65,
            3.65,
            3.65,
            3.65,
            3.65,
            3.65,
            3.65,
            3.65,
            3.65,
            3.65,
            3.65
           ]
          },
          {
           "axis": {
            "matches": true
           },
           "label": "isoelectric points",
           "values": [
            2.98,
            2.98,
            2.98,
            2.98,
            2.98,
            2.98,
            2.98,
            2.98,
            2.98,
            2.98,
            2.98,
            2.98,
            2.98,
            2.98,
            2.98,
            2.98
           ]
          },
          {
           "axis": {
            "matches": true
           },
           "label": "bulkiness",
           "values": [
            11.68,
            11.68,
            11.68,
            11.68,
            11.68,
            11.68,
            11.68,
            11.68,
            11.68,
            11.68,
            11.68,
            11.68,
            11.68,
            11.68,
            11.68,
            11.68
           ]
          },
          {
           "axis": {
            "matches": true
           },
           "label": "transmembranetendency",
           "values": [
            -3.27,
            -3.27,
            -3.27,
            -3.27,
            -3.27,
            -3.27,
            -3.27,
            -3.27,
            -3.27,
            -3.27,
            -3.27,
            -3.27,
            -3.27,
            -3.27,
            -3.27,
            -3.27
           ]
          },
          {
           "axis": {
            "matches": true
           },
           "label": "coilroux",
           "values": [
            1.197,
            1.197,
            1.197,
            1.197,
            1.197,
            1.197,
            1.197,
            1.197,
            1.197,
            1.197,
            1.197,
            1.197,
            1.197,
            1.197,
            1.197,
            1.197
           ]
          },
          {
           "axis": {
            "matches": true
           },
           "label": "relativemutability",
           "values": [
            106,
            106,
            106,
            106,
            106,
            106,
            106,
            106,
            106,
            106,
            106,
            106,
            106,
            106,
            106,
            106
           ]
          }
         ],
         "hovertemplate": "residue type=ASP<br>%{xaxis.title.text}=%{x}<br>%{yaxis.title.text}=%{y}<extra></extra>",
         "legendgroup": "ASP",
         "marker": {
          "color": "#FF97FF",
          "opacity": 0.2,
          "symbol": "circle"
         },
         "name": "ASP",
         "showlegend": true,
         "type": "splom"
        },
        {
         "diagonal": {
          "visible": false
         },
         "dimensions": [
          {
           "axis": {
            "matches": true
           },
           "label": "degree",
           "values": [
            6,
            4,
            3,
            6,
            3,
            8,
            5,
            2,
            8,
            7,
            8,
            6,
            8,
            2
           ]
          },
          {
           "axis": {
            "matches": true
           },
           "label": "betweenness centrality",
           "values": [
            0.026168337343376154,
            0.008263748746669148,
            0.01570137311829784,
            0.06807058606995642,
            0.025361061813259738,
            0.17796499146249656,
            0.020862466588271154,
            0.0032537622750412765,
            0.04834750953619218,
            0.07318599486553339,
            0.12060372752927453,
            0.04262003301525125,
            0.04896755439381092,
            0.012225865611737373
           ]
          },
          {
           "axis": {
            "matches": true
           },
           "label": "closeness centrality",
           "values": [
            0.21571072319201995,
            0.1522887323943662,
            0.17145688800792863,
            0.20497630331753555,
            0.14238683127572016,
            0.27813504823151125,
            0.23221476510067113,
            0.19794050343249428,
            0.24027777777777778,
            0.24297752808988765,
            0.2617246596066566,
            0.2114914425427873,
            0.2325268817204301,
            0.1360062893081761
           ]
          },
          {
           "axis": {
            "matches": true
           },
           "label": "eigenvector centrality",
           "values": [
            0.09248224524767688,
            0.0009633684745984722,
            0.0023366675647119245,
            0.013661966365958168,
            0.00033128171614470035,
            0.2192071300683208,
            0.09460242267219493,
            0.016379035975655997,
            0.13636659961514552,
            0.09992278502554358,
            0.18053350241940858,
            0.07706489196202554,
            0.12134021908891025,
            0.00039891915626636787
           ]
          },
          {
           "axis": {
            "matches": true
           },
           "label": "communicability betweenness centrality",
           "values": [
            0.055841561335762575,
            0.0132076144173822,
            0.01816732185011323,
            0.07501057449539114,
            0.024363921525224094,
            0.24778409027467246,
            0.042960762635141,
            0.005705657484713151,
            0.08056307109253373,
            0.0956079034479437,
            0.15710373344444672,
            0.05511126444383246,
            0.07976650694538678,
            0.012681233060384156
           ]
          },
          {
           "axis": {
            "matches": true
           },
           "label": "pka rgroup",
           "values": [
            7,
            7,
            7,
            7,
            7,
            7,
            7,
            7,
            7,
            7,
            7,
            7,
            7,
            7
           ]
          },
          {
           "axis": {
            "matches": true
           },
           "label": "isoelectric points",
           "values": [
            6.04,
            6.04,
            6.04,
            6.04,
            6.04,
            6.04,
            6.04,
            6.04,
            6.04,
            6.04,
            6.04,
            6.04,
            6.04,
            6.04
           ]
          },
          {
           "axis": {
            "matches": true
           },
           "label": "bulkiness",
           "values": [
            21.4,
            21.4,
            21.4,
            21.4,
            21.4,
            21.4,
            21.4,
            21.4,
            21.4,
            21.4,
            21.4,
            21.4,
            21.4,
            21.4
           ]
          },
          {
           "axis": {
            "matches": true
           },
           "label": "transmembranetendency",
           "values": [
            1.82,
            1.82,
            1.82,
            1.82,
            1.82,
            1.82,
            1.82,
            1.82,
            1.82,
            1.82,
            1.82,
            1.82,
            1.82,
            1.82
           ]
          },
          {
           "axis": {
            "matches": true
           },
           "label": "coilroux",
           "values": [
            0.81,
            0.81,
            0.81,
            0.81,
            0.81,
            0.81,
            0.81,
            0.81,
            0.81,
            0.81,
            0.81,
            0.81,
            0.81,
            0.81
           ]
          },
          {
           "axis": {
            "matches": true
           },
           "label": "relativemutability",
           "values": [
            40,
            40,
            40,
            40,
            40,
            40,
            40,
            40,
            40,
            40,
            40,
            40,
            40,
            40
           ]
          }
         ],
         "hovertemplate": "residue type=LEU<br>%{xaxis.title.text}=%{x}<br>%{yaxis.title.text}=%{y}<extra></extra>",
         "legendgroup": "LEU",
         "marker": {
          "color": "#FECB52",
          "opacity": 0.2,
          "symbol": "circle"
         },
         "name": "LEU",
         "showlegend": true,
         "type": "splom"
        },
        {
         "diagonal": {
          "visible": false
         },
         "dimensions": [
          {
           "axis": {
            "matches": true
           },
           "label": "degree",
           "values": [
            2,
            2,
            2,
            2,
            2
           ]
          },
          {
           "axis": {
            "matches": true
           },
           "label": "betweenness centrality",
           "values": [
            0.00006721333512568894,
            0.010867240256271029,
            0.04252068825943123,
            0.008064594141351767,
            0.00040338912331115587
           ]
          },
          {
           "axis": {
            "matches": true
           },
           "label": "closeness centrality",
           "values": [
            0.1752786220871327,
            0.1828752642706131,
            0.1888646288209607,
            0.20046349942062572,
            0.18210526315789474
           ]
          },
          {
           "axis": {
            "matches": true
           },
           "label": "eigenvector centrality",
           "values": [
            0.012916502581658267,
            0.004987922289317486,
            0.011463139056906602,
            0.024585628347341328,
            0.020266747145120414
           ]
          },
          {
           "axis": {
            "matches": true
           },
           "label": "communicability betweenness centrality",
           "values": [
            0.0008945679433725069,
            0.010358242418464338,
            0.04154783476747547,
            0.00877243486824494,
            0.002835886157776788
           ]
          },
          {
           "axis": {
            "matches": true
           },
           "label": "pka rgroup",
           "values": [
            7,
            7,
            7,
            7,
            7
           ]
          },
          {
           "axis": {
            "matches": true
           },
           "label": "isoelectric points",
           "values": [
            5.65,
            5.65,
            5.65,
            5.65,
            5.65
           ]
          },
          {
           "axis": {
            "matches": true
           },
           "label": "bulkiness",
           "values": [
            14.45,
            14.45,
            14.45,
            14.45,
            14.45
           ]
          },
          {
           "axis": {
            "matches": true
           },
           "label": "transmembranetendency",
           "values": [
            -1.84,
            -1.84,
            -1.84,
            -1.84,
            -1.84
           ]
          },
          {
           "axis": {
            "matches": true
           },
           "label": "coilroux",
           "values": [
            0.947,
            0.947,
            0.947,
            0.947,
            0.947
           ]
          },
          {
           "axis": {
            "matches": true
           },
           "label": "relativemutability",
           "values": [
            93,
            93,
            93,
            93,
            93
           ]
          }
         ],
         "hovertemplate": "residue type=GLN<br>%{xaxis.title.text}=%{x}<br>%{yaxis.title.text}=%{y}<extra></extra>",
         "legendgroup": "GLN",
         "marker": {
          "color": "#636efa",
          "opacity": 0.2,
          "symbol": "circle"
         },
         "name": "GLN",
         "showlegend": true,
         "type": "splom"
        },
        {
         "diagonal": {
          "visible": false
         },
         "dimensions": [
          {
           "axis": {
            "matches": true
           },
           "label": "degree",
           "values": [
            7,
            7,
            5,
            7,
            9,
            9,
            6,
            9,
            3,
            10
           ]
          },
          {
           "axis": {
            "matches": true
           },
           "label": "betweenness centrality",
           "values": [
            0.053595107166094856,
            0.046866533898437875,
            0.0595164828632,
            0.07483178300153474,
            0.12993542100041208,
            0.08247970997055284,
            0.02519715470557037,
            0.06767295797645907,
            0.013142139708210416,
            0.11304090920881336
           ]
          },
          {
           "axis": {
            "matches": true
           },
           "label": "closeness centrality",
           "values": [
            0.23159303882195448,
            0.25,
            0.2303595206391478,
            0.21544209215442092,
            0.26371951219512196,
            0.2446958981612447,
            0.2243839169909209,
            0.24927953890489912,
            0.19329608938547485,
            0.23961218836565096
           ]
          },
          {
           "axis": {
            "matches": true
           },
           "label": "eigenvector centrality",
           "values": [
            0.10516321066735264,
            0.14660503959888888,
            0.05169481500166359,
            0.06675681850176221,
            0.2316284728128563,
            0.1775077870237711,
            0.08620977354471616,
            0.15238406793528708,
            0.017714918913906575,
            0.17881186918645312
           ]
          },
          {
           "axis": {
            "matches": true
           },
           "label": "communicability betweenness centrality",
           "values": [
            0.0942585505669218,
            0.08676061991360168,
            0.0694900415722316,
            0.09428120917687019,
            0.19957745547125985,
            0.133790476073069,
            0.04305609407565409,
            0.12353610580933824,
            0.012789303182310856,
            0.15646213842627424
           ]
          },
          {
           "axis": {
            "matches": true
           },
           "label": "pka rgroup",
           "values": [
            7,
            7,
            7,
            7,
            7,
            7,
            7,
            7,
            7,
            7
           ]
          },
          {
           "axis": {
            "matches": true
           },
           "label": "isoelectric points",
           "values": [
            6.04,
            6.04,
            6.04,
            6.04,
            6.04,
            6.04,
            6.04,
            6.04,
            6.04,
            6.04
           ]
          },
          {
           "axis": {
            "matches": true
           },
           "label": "bulkiness",
           "values": [
            21.4,
            21.4,
            21.4,
            21.4,
            21.4,
            21.4,
            21.4,
            21.4,
            21.4,
            21.4
           ]
          },
          {
           "axis": {
            "matches": true
           },
           "label": "transmembranetendency",
           "values": [
            1.97,
            1.97,
            1.97,
            1.97,
            1.97,
            1.97,
            1.97,
            1.97,
            1.97,
            1.97
           ]
          },
          {
           "axis": {
            "matches": true
           },
           "label": "coilroux",
           "values": [
            0.886,
            0.886,
            0.886,
            0.886,
            0.886,
            0.886,
            0.886,
            0.886,
            0.886,
            0.886
           ]
          },
          {
           "axis": {
            "matches": true
           },
           "label": "relativemutability",
           "values": [
            96,
            96,
            96,
            96,
            96,
            96,
            96,
            96,
            96,
            96
           ]
          }
         ],
         "hovertemplate": "residue type=ILE<br>%{xaxis.title.text}=%{x}<br>%{yaxis.title.text}=%{y}<extra></extra>",
         "legendgroup": "ILE",
         "marker": {
          "color": "#EF553B",
          "opacity": 0.2,
          "symbol": "circle"
         },
         "name": "ILE",
         "showlegend": true,
         "type": "splom"
        },
        {
         "diagonal": {
          "visible": false
         },
         "dimensions": [
          {
           "axis": {
            "matches": true
           },
           "label": "degree",
           "values": [
            2,
            2,
            2,
            2,
            2,
            2,
            2,
            2
           ]
          },
          {
           "axis": {
            "matches": true
           },
           "label": "betweenness centrality",
           "values": [
            0.00426893198694035,
            0.00374292926383261,
            0.005291654697452261,
            0.008942684679757971,
            0.002960560053506601,
            0.001440365768568484,
            0.0013014279660740055,
            0.007426511883083747
           ]
          },
          {
           "axis": {
            "matches": true
           },
           "label": "closeness centrality",
           "values": [
            0.22094508301404853,
            0.16093023255813954,
            0.19200887902330743,
            0.13536776212832552,
            0.20497630331753555,
            0.12047353760445682,
            0.18404255319148935,
            0.1943820224719101
           ]
          },
          {
           "axis": {
            "matches": true
           },
           "label": "eigenvector centrality",
           "values": [
            0.030615842258447216,
            0.001977048209935735,
            0.005436816230777319,
            0.00028174264859345507,
            0.030917446491900986,
            0.00006992760116852438,
            0.013206444478951853,
            0.028521955813971586
           ]
          },
          {
           "axis": {
            "matches": true
           },
           "label": "communicability betweenness centrality",
           "values": [
            0.008467226235882247,
            0.004097940396728068,
            0.00807950661749091,
            0.009631971280152259,
            0.006061871440350192,
            0.002425091473467742,
            0.0023877439633181318,
            0.010344641382834573
           ]
          },
          {
           "axis": {
            "matches": true
           },
           "label": "pka rgroup",
           "values": [
            4.25,
            4.25,
            4.25,
            4.25,
            4.25,
            4.25,
            4.25,
            4.25
           ]
          },
          {
           "axis": {
            "matches": true
           },
           "label": "isoelectric points",
           "values": [
            3.08,
            3.08,
            3.08,
            3.08,
            3.08,
            3.08,
            3.08,
            3.08
           ]
          },
          {
           "axis": {
            "matches": true
           },
           "label": "bulkiness",
           "values": [
            13.57,
            13.57,
            13.57,
            13.57,
            13.57,
            13.57,
            13.57,
            13.57
           ]
          },
          {
           "axis": {
            "matches": true
           },
           "label": "transmembranetendency",
           "values": [
            -2.9,
            -2.9,
            -2.9,
            -2.9,
            -2.9,
            -2.9,
            -2.9,
            -2.9
           ]
          },
          {
           "axis": {
            "matches": true
           },
           "label": "coilroux",
           "values": [
            0.761,
            0.761,
            0.761,
            0.761,
            0.761,
            0.761,
            0.761,
            0.761
           ]
          },
          {
           "axis": {
            "matches": true
           },
           "label": "relativemutability",
           "values": [
            102,
            102,
            102,
            102,
            102,
            102,
            102,
            102
           ]
          }
         ],
         "hovertemplate": "residue type=GLU<br>%{xaxis.title.text}=%{x}<br>%{yaxis.title.text}=%{y}<extra></extra>",
         "legendgroup": "GLU",
         "marker": {
          "color": "#00cc96",
          "opacity": 0.2,
          "symbol": "circle"
         },
         "name": "GLU",
         "showlegend": true,
         "type": "splom"
        },
        {
         "diagonal": {
          "visible": false
         },
         "dimensions": [
          {
           "axis": {
            "matches": true
           },
           "label": "degree",
           "values": [
            6,
            9,
            6,
            3,
            8
           ]
          },
          {
           "axis": {
            "matches": true
           },
           "label": "betweenness centrality",
           "values": [
            0.05632923976925615,
            0.11629945820462007,
            0.05235637710100116,
            0.002774989159247796,
            0.07427745500769205
           ]
          },
          {
           "axis": {
            "matches": true
           },
           "label": "closeness centrality",
           "values": [
            0.20546318289786222,
            0.25441176470588234,
            0.25441176470588234,
            0.1905286343612335,
            0.22179487179487178
           ]
          },
          {
           "axis": {
            "matches": true
           },
           "label": "eigenvector centrality",
           "values": [
            0.013438525723083626,
            0.1471902148791566,
            0.10226013295699309,
            0.02938999706631148,
            0.10034301489796661
           ]
          },
          {
           "axis": {
            "matches": true
           },
           "label": "communicability betweenness centrality",
           "values": [
            0.06153398116811012,
            0.16634149179351693,
            0.08141720111399649,
            0.007218367663916245,
            0.1163239227634885
           ]
          },
          {
           "axis": {
            "matches": true
           },
           "label": "pka rgroup",
           "values": [
            10.07,
            10.07,
            10.07,
            10.07,
            10.07
           ]
          },
          {
           "axis": {
            "matches": true
           },
           "label": "isoelectric points",
           "values": [
            5.63,
            5.63,
            5.63,
            5.63,
            5.63
           ]
          },
          {
           "axis": {
            "matches": true
           },
           "label": "bulkiness",
           "values": [
            18.03,
            18.03,
            18.03,
            18.03,
            18.03
           ]
          },
          {
           "axis": {
            "matches": true
           },
           "label": "transmembranetendency",
           "values": [
            0.49,
            0.49,
            0.49,
            0.49,
            0.49
           ]
          },
          {
           "axis": {
            "matches": true
           },
           "label": "coilroux",
           "values": [
            1.109,
            1.109,
            1.109,
            1.109,
            1.109
           ]
          },
          {
           "axis": {
            "matches": true
           },
           "label": "relativemutability",
           "values": [
            41,
            41,
            41,
            41,
            41
           ]
          }
         ],
         "hovertemplate": "residue type=TYR<br>%{xaxis.title.text}=%{x}<br>%{yaxis.title.text}=%{y}<extra></extra>",
         "legendgroup": "TYR",
         "marker": {
          "color": "#ab63fa",
          "opacity": 0.2,
          "symbol": "circle"
         },
         "name": "TYR",
         "showlegend": true,
         "type": "splom"
        },
        {
         "diagonal": {
          "visible": false
         },
         "dimensions": [
          {
           "axis": {
            "matches": true
           },
           "label": "degree",
           "values": [
            2,
            2,
            2,
            2
           ]
          },
          {
           "axis": {
            "matches": true
           },
           "label": "betweenness centrality",
           "values": [
            0.002036683106449161,
            0.0019652688225195065,
            0,
            0.0013282652581093105
           ]
          },
          {
           "axis": {
            "matches": true
           },
           "label": "closeness centrality",
           "values": [
            0.15741583257506825,
            0.20425029515938606,
            0.2023391812865497,
            0.2023391812865497
           ]
          },
          {
           "axis": {
            "matches": true
           },
           "label": "eigenvector centrality",
           "values": [
            0.0021437076131651193,
            0.030049189351781327,
            0.049362152361129834,
            0.03863963776032447
           ]
          },
          {
           "axis": {
            "matches": true
           },
           "label": "communicability betweenness centrality",
           "values": [
            0.0029482775088418233,
            0.006091625426971921,
            0.004087757622762265,
            0.0038185590930409005
           ]
          },
          {
           "axis": {
            "matches": true
           },
           "label": "pka rgroup",
           "values": [
            13.2,
            13.2,
            13.2,
            13.2
           ]
          },
          {
           "axis": {
            "matches": true
           },
           "label": "isoelectric points",
           "values": [
            10.76,
            10.76,
            10.76,
            10.76
           ]
          },
          {
           "axis": {
            "matches": true
           },
           "label": "bulkiness",
           "values": [
            14.28,
            14.28,
            14.28,
            14.28
           ]
          },
          {
           "axis": {
            "matches": true
           },
           "label": "transmembranetendency",
           "values": [
            -2.57,
            -2.57,
            -2.57,
            -2.57
           ]
          },
          {
           "axis": {
            "matches": true
           },
           "label": "coilroux",
           "values": [
            0.893,
            0.893,
            0.893,
            0.893
           ]
          },
          {
           "axis": {
            "matches": true
           },
           "label": "relativemutability",
           "values": [
            65,
            65,
            65,
            65
           ]
          }
         ],
         "hovertemplate": "residue type=ARG<br>%{xaxis.title.text}=%{x}<br>%{yaxis.title.text}=%{y}<extra></extra>",
         "legendgroup": "ARG",
         "marker": {
          "color": "#FFA15A",
          "opacity": 0.2,
          "symbol": "circle"
         },
         "name": "ARG",
         "showlegend": true,
         "type": "splom"
        },
        {
         "diagonal": {
          "visible": false
         },
         "dimensions": [
          {
           "axis": {
            "matches": true
           },
           "label": "degree",
           "values": [
            2,
            2,
            2,
            2,
            2,
            2
           ]
          },
          {
           "axis": {
            "matches": true
           },
           "label": "betweenness centrality",
           "values": [
            0.00006721333512568894,
            0.03223704798520085,
            0.021267386797811393,
            0.030787018595606872,
            0.0010626487782355505,
            0.010521184838969487
           ]
          },
          {
           "axis": {
            "matches": true
           },
           "label": "closeness centrality",
           "values": [
            0.15175438596491228,
            0.1618334892422825,
            0.19953863898500576,
            0.18153200419727178,
            0.13884430176565007,
            0.1941638608305275
           ]
          },
          {
           "axis": {
            "matches": true
           },
           "label": "eigenvector centrality",
           "values": [
            0.0028584956034938716,
            0.0018209149387908563,
            0.02822155510006067,
            0.011189577092276254,
            0.00046805129365451155,
            0.028507207665902274
           ]
          },
          {
           "axis": {
            "matches": true
           },
           "label": "communicability betweenness centrality",
           "values": [
            0.0007442844026635462,
            0.030917667672918776,
            0.022822710649384362,
            0.031755276458438376,
            0.0014288402529474716,
            0.011856933569239588
           ]
          },
          {
           "axis": {
            "matches": true
           },
           "label": "pka rgroup",
           "values": [
            7,
            7,
            7,
            7,
            7,
            7
           ]
          },
          {
           "axis": {
            "matches": true
           },
           "label": "isoelectric points",
           "values": [
            5.6,
            5.6,
            5.6,
            5.6,
            5.6,
            5.6
           ]
          },
          {
           "axis": {
            "matches": true
           },
           "label": "bulkiness",
           "values": [
            15.77,
            15.77,
            15.77,
            15.77,
            15.77,
            15.77
           ]
          },
          {
           "axis": {
            "matches": true
           },
           "label": "transmembranetendency",
           "values": [
            -0.32,
            -0.32,
            -0.32,
            -0.32,
            -0.32,
            -0.32
           ]
          },
          {
           "axis": {
            "matches": true
           },
           "label": "coilroux",
           "values": [
            1.148,
            1.148,
            1.148,
            1.148,
            1.148,
            1.148
           ]
          },
          {
           "axis": {
            "matches": true
           },
           "label": "relativemutability",
           "values": [
            97,
            97,
            97,
            97,
            97,
            97
           ]
          }
         ],
         "hovertemplate": "residue type=THR<br>%{xaxis.title.text}=%{x}<br>%{yaxis.title.text}=%{y}<extra></extra>",
         "legendgroup": "THR",
         "marker": {
          "color": "#19d3f3",
          "opacity": 0.2,
          "symbol": "circle"
         },
         "name": "THR",
         "showlegend": true,
         "type": "splom"
        },
        {
         "diagonal": {
          "visible": false
         },
         "dimensions": [
          {
           "axis": {
            "matches": true
           },
           "label": "degree",
           "values": [
            5,
            6,
            6,
            3
           ]
          },
          {
           "axis": {
            "matches": true
           },
           "label": "betweenness centrality",
           "values": [
            0.01384090083760445,
            0.08039638381729183,
            0.04672173634344856,
            0.008893279114250509
           ]
          },
          {
           "axis": {
            "matches": true
           },
           "label": "closeness centrality",
           "values": [
            0.19094922737306844,
            0.242296918767507,
            0.2189873417721519,
            0.15336879432624115
           ]
          },
          {
           "axis": {
            "matches": true
           },
           "label": "eigenvector centrality",
           "values": [
            0.04742902924854904,
            0.062267785669646594,
            0.07069982940806299,
            0.0010756585707002691
           ]
          },
          {
           "axis": {
            "matches": true
           },
           "label": "communicability betweenness centrality",
           "values": [
            0.03039341520212134,
            0.0808641986397615,
            0.07118798553785395,
            0.00836998698769709
           ]
          },
          {
           "axis": {
            "matches": true
           },
           "label": "pka rgroup",
           "values": [
            7,
            7,
            7,
            7
           ]
          },
          {
           "axis": {
            "matches": true
           },
           "label": "isoelectric points",
           "values": [
            5.74,
            5.74,
            5.74,
            5.74
           ]
          },
          {
           "axis": {
            "matches": true
           },
           "label": "bulkiness",
           "values": [
            16.25,
            16.25,
            16.25,
            16.25
           ]
          },
          {
           "axis": {
            "matches": true
           },
           "label": "transmembranetendency",
           "values": [
            1.4,
            1.4,
            1.4,
            1.4
           ]
          },
          {
           "axis": {
            "matches": true
           },
           "label": "coilroux",
           "values": [
            0.81,
            0.81,
            0.81,
            0.81
           ]
          },
          {
           "axis": {
            "matches": true
           },
           "label": "relativemutability",
           "values": [
            94,
            94,
            94,
            94
           ]
          }
         ],
         "hovertemplate": "residue type=MET<br>%{xaxis.title.text}=%{x}<br>%{yaxis.title.text}=%{y}<extra></extra>",
         "legendgroup": "MET",
         "marker": {
          "color": "#FF6692",
          "opacity": 0.2,
          "symbol": "circle"
         },
         "name": "MET",
         "showlegend": true,
         "type": "splom"
        },
        {
         "diagonal": {
          "visible": false
         },
         "dimensions": [
          {
           "axis": {
            "matches": true
           },
           "label": "degree",
           "values": [
            2,
            2,
            2
           ]
          },
          {
           "axis": {
            "matches": true
           },
           "label": "betweenness centrality",
           "values": [
            0.009611604951696119,
            0.0014139605297691063,
            0.004416477766062646
           ]
          },
          {
           "axis": {
            "matches": true
           },
           "label": "closeness centrality",
           "values": [
            0.1832627118644068,
            0.1866235167206041,
            0.18502673796791444
           ]
          },
          {
           "axis": {
            "matches": true
           },
           "label": "eigenvector centrality",
           "values": [
            0.014419808000865295,
            0.019897090760399312,
            0.009884426741064425
           ]
          },
          {
           "axis": {
            "matches": true
           },
           "label": "communicability betweenness centrality",
           "values": [
            0.009285056254450101,
            0.0025885002027188605,
            0.004501831039013604
           ]
          },
          {
           "axis": {
            "matches": true
           },
           "label": "pka rgroup",
           "values": [
            5.97,
            5.97,
            5.97
           ]
          },
          {
           "axis": {
            "matches": true
           },
           "label": "isoelectric points",
           "values": [
            7.64,
            7.64,
            7.64
           ]
          },
          {
           "axis": {
            "matches": true
           },
           "label": "bulkiness",
           "values": [
            13.69,
            13.69,
            13.69
           ]
          },
          {
           "axis": {
            "matches": true
           },
           "label": "transmembranetendency",
           "values": [
            -1.44,
            -1.44,
            -1.44
           ]
          },
          {
           "axis": {
            "matches": true
           },
           "label": "coilroux",
           "values": [
            1.068,
            1.068,
            1.068
           ]
          },
          {
           "axis": {
            "matches": true
           },
           "label": "relativemutability",
           "values": [
            66,
            66,
            66
           ]
          }
         ],
         "hovertemplate": "residue type=HIS<br>%{xaxis.title.text}=%{x}<br>%{yaxis.title.text}=%{y}<extra></extra>",
         "legendgroup": "HIS",
         "marker": {
          "color": "#B6E880",
          "opacity": 0.2,
          "symbol": "circle"
         },
         "name": "HIS",
         "showlegend": true,
         "type": "splom"
        },
        {
         "diagonal": {
          "visible": false
         },
         "dimensions": [
          {
           "axis": {
            "matches": true
           },
           "label": "degree",
           "values": [
            2
           ]
          },
          {
           "axis": {
            "matches": true
           },
           "label": "betweenness centrality",
           "values": [
            0.011336098600107779
           ]
          },
          {
           "axis": {
            "matches": true
           },
           "label": "closeness centrality",
           "values": [
            0.1689453125
           ]
          },
          {
           "axis": {
            "matches": true
           },
           "label": "eigenvector centrality",
           "values": [
            0.006804162997428362
           ]
          },
          {
           "axis": {
            "matches": true
           },
           "label": "communicability betweenness centrality",
           "values": [
            0.01228875966589661
           ]
          },
          {
           "axis": {
            "matches": true
           },
           "label": "pka rgroup",
           "values": [
            8.33
           ]
          },
          {
           "axis": {
            "matches": true
           },
           "label": "isoelectric points",
           "values": [
            5.02
           ]
          },
          {
           "axis": {
            "matches": true
           },
           "label": "bulkiness",
           "values": [
            13.46
           ]
          },
          {
           "axis": {
            "matches": true
           },
           "label": "transmembranetendency",
           "values": [
            -0.3
           ]
          },
          {
           "axis": {
            "matches": true
           },
           "label": "coilroux",
           "values": [
            0.953
           ]
          },
          {
           "axis": {
            "matches": true
           },
           "label": "relativemutability",
           "values": [
            20
           ]
          }
         ],
         "hovertemplate": "residue type=CYS<br>%{xaxis.title.text}=%{x}<br>%{yaxis.title.text}=%{y}<extra></extra>",
         "legendgroup": "CYS",
         "marker": {
          "color": "#FF97FF",
          "opacity": 0.2,
          "symbol": "circle"
         },
         "name": "CYS",
         "showlegend": true,
         "type": "splom"
        },
        {
         "diagonal": {
          "visible": false
         },
         "dimensions": [
          {
           "axis": {
            "matches": true
           },
           "label": "degree",
           "values": [
            2,
            6
           ]
          },
          {
           "axis": {
            "matches": true
           },
           "label": "betweenness centrality",
           "values": [
            0.032941495592725606,
            0.03902716040345175
           ]
          },
          {
           "axis": {
            "matches": true
           },
           "label": "closeness centrality",
           "values": [
            0.1787190082644628,
            0.23283983849259757
           ]
          },
          {
           "axis": {
            "matches": true
           },
           "label": "eigenvector centrality",
           "values": [
            0.011098065173849403,
            0.08515724708327511
           ]
          },
          {
           "axis": {
            "matches": true
           },
           "label": "communicability betweenness centrality",
           "values": [
            0.03322712069899232,
            0.059403977141945154
           ]
          },
          {
           "axis": {
            "matches": true
           },
           "label": "pka rgroup",
           "values": [
            7,
            7
           ]
          },
          {
           "axis": {
            "matches": true
           },
           "label": "isoelectric points",
           "values": [
            5.88,
            5.88
           ]
          },
          {
           "axis": {
            "matches": true
           },
           "label": "bulkiness",
           "values": [
            21.67,
            21.67
           ]
          },
          {
           "axis": {
            "matches": true
           },
           "label": "transmembranetendency",
           "values": [
            1.53,
            1.53
           ]
          },
          {
           "axis": {
            "matches": true
           },
           "label": "coilroux",
           "values": [
            0.941,
            0.941
           ]
          },
          {
           "axis": {
            "matches": true
           },
           "label": "relativemutability",
           "values": [
            18,
            18
           ]
          }
         ],
         "hovertemplate": "residue type=TRP<br>%{xaxis.title.text}=%{x}<br>%{yaxis.title.text}=%{y}<extra></extra>",
         "legendgroup": "TRP",
         "marker": {
          "color": "#FECB52",
          "opacity": 0.2,
          "symbol": "circle"
         },
         "name": "TRP",
         "showlegend": true,
         "type": "splom"
        }
       ],
       "layout": {
        "dragmode": "select",
        "font": {
         "size": 10
        },
        "height": 1000,
        "legend": {
         "title": {
          "text": "residue type"
         },
         "tracegroupgap": 0
        },
        "template": {
         "data": {
          "bar": [
           {
            "error_x": {
             "color": "#2a3f5f"
            },
            "error_y": {
             "color": "#2a3f5f"
            },
            "marker": {
             "line": {
              "color": "#E5ECF6",
              "width": 0.5
             },
             "pattern": {
              "fillmode": "overlay",
              "size": 10,
              "solidity": 0.2
             }
            },
            "type": "bar"
           }
          ],
          "barpolar": [
           {
            "marker": {
             "line": {
              "color": "#E5ECF6",
              "width": 0.5
             },
             "pattern": {
              "fillmode": "overlay",
              "size": 10,
              "solidity": 0.2
             }
            },
            "type": "barpolar"
           }
          ],
          "carpet": [
           {
            "aaxis": {
             "endlinecolor": "#2a3f5f",
             "gridcolor": "white",
             "linecolor": "white",
             "minorgridcolor": "white",
             "startlinecolor": "#2a3f5f"
            },
            "baxis": {
             "endlinecolor": "#2a3f5f",
             "gridcolor": "white",
             "linecolor": "white",
             "minorgridcolor": "white",
             "startlinecolor": "#2a3f5f"
            },
            "type": "carpet"
           }
          ],
          "choropleth": [
           {
            "colorbar": {
             "outlinewidth": 0,
             "ticks": ""
            },
            "type": "choropleth"
           }
          ],
          "contour": [
           {
            "colorbar": {
             "outlinewidth": 0,
             "ticks": ""
            },
            "colorscale": [
             [
              0,
              "#0d0887"
             ],
             [
              0.1111111111111111,
              "#46039f"
             ],
             [
              0.2222222222222222,
              "#7201a8"
             ],
             [
              0.3333333333333333,
              "#9c179e"
             ],
             [
              0.4444444444444444,
              "#bd3786"
             ],
             [
              0.5555555555555556,
              "#d8576b"
             ],
             [
              0.6666666666666666,
              "#ed7953"
             ],
             [
              0.7777777777777778,
              "#fb9f3a"
             ],
             [
              0.8888888888888888,
              "#fdca26"
             ],
             [
              1,
              "#f0f921"
             ]
            ],
            "type": "contour"
           }
          ],
          "contourcarpet": [
           {
            "colorbar": {
             "outlinewidth": 0,
             "ticks": ""
            },
            "type": "contourcarpet"
           }
          ],
          "heatmap": [
           {
            "colorbar": {
             "outlinewidth": 0,
             "ticks": ""
            },
            "colorscale": [
             [
              0,
              "#0d0887"
             ],
             [
              0.1111111111111111,
              "#46039f"
             ],
             [
              0.2222222222222222,
              "#7201a8"
             ],
             [
              0.3333333333333333,
              "#9c179e"
             ],
             [
              0.4444444444444444,
              "#bd3786"
             ],
             [
              0.5555555555555556,
              "#d8576b"
             ],
             [
              0.6666666666666666,
              "#ed7953"
             ],
             [
              0.7777777777777778,
              "#fb9f3a"
             ],
             [
              0.8888888888888888,
              "#fdca26"
             ],
             [
              1,
              "#f0f921"
             ]
            ],
            "type": "heatmap"
           }
          ],
          "heatmapgl": [
           {
            "colorbar": {
             "outlinewidth": 0,
             "ticks": ""
            },
            "colorscale": [
             [
              0,
              "#0d0887"
             ],
             [
              0.1111111111111111,
              "#46039f"
             ],
             [
              0.2222222222222222,
              "#7201a8"
             ],
             [
              0.3333333333333333,
              "#9c179e"
             ],
             [
              0.4444444444444444,
              "#bd3786"
             ],
             [
              0.5555555555555556,
              "#d8576b"
             ],
             [
              0.6666666666666666,
              "#ed7953"
             ],
             [
              0.7777777777777778,
              "#fb9f3a"
             ],
             [
              0.8888888888888888,
              "#fdca26"
             ],
             [
              1,
              "#f0f921"
             ]
            ],
            "type": "heatmapgl"
           }
          ],
          "histogram": [
           {
            "marker": {
             "pattern": {
              "fillmode": "overlay",
              "size": 10,
              "solidity": 0.2
             }
            },
            "type": "histogram"
           }
          ],
          "histogram2d": [
           {
            "colorbar": {
             "outlinewidth": 0,
             "ticks": ""
            },
            "colorscale": [
             [
              0,
              "#0d0887"
             ],
             [
              0.1111111111111111,
              "#46039f"
             ],
             [
              0.2222222222222222,
              "#7201a8"
             ],
             [
              0.3333333333333333,
              "#9c179e"
             ],
             [
              0.4444444444444444,
              "#bd3786"
             ],
             [
              0.5555555555555556,
              "#d8576b"
             ],
             [
              0.6666666666666666,
              "#ed7953"
             ],
             [
              0.7777777777777778,
              "#fb9f3a"
             ],
             [
              0.8888888888888888,
              "#fdca26"
             ],
             [
              1,
              "#f0f921"
             ]
            ],
            "type": "histogram2d"
           }
          ],
          "histogram2dcontour": [
           {
            "colorbar": {
             "outlinewidth": 0,
             "ticks": ""
            },
            "colorscale": [
             [
              0,
              "#0d0887"
             ],
             [
              0.1111111111111111,
              "#46039f"
             ],
             [
              0.2222222222222222,
              "#7201a8"
             ],
             [
              0.3333333333333333,
              "#9c179e"
             ],
             [
              0.4444444444444444,
              "#bd3786"
             ],
             [
              0.5555555555555556,
              "#d8576b"
             ],
             [
              0.6666666666666666,
              "#ed7953"
             ],
             [
              0.7777777777777778,
              "#fb9f3a"
             ],
             [
              0.8888888888888888,
              "#fdca26"
             ],
             [
              1,
              "#f0f921"
             ]
            ],
            "type": "histogram2dcontour"
           }
          ],
          "mesh3d": [
           {
            "colorbar": {
             "outlinewidth": 0,
             "ticks": ""
            },
            "type": "mesh3d"
           }
          ],
          "parcoords": [
           {
            "line": {
             "colorbar": {
              "outlinewidth": 0,
              "ticks": ""
             }
            },
            "type": "parcoords"
           }
          ],
          "pie": [
           {
            "automargin": true,
            "type": "pie"
           }
          ],
          "scatter": [
           {
            "marker": {
             "colorbar": {
              "outlinewidth": 0,
              "ticks": ""
             }
            },
            "type": "scatter"
           }
          ],
          "scatter3d": [
           {
            "line": {
             "colorbar": {
              "outlinewidth": 0,
              "ticks": ""
             }
            },
            "marker": {
             "colorbar": {
              "outlinewidth": 0,
              "ticks": ""
             }
            },
            "type": "scatter3d"
           }
          ],
          "scattercarpet": [
           {
            "marker": {
             "colorbar": {
              "outlinewidth": 0,
              "ticks": ""
             }
            },
            "type": "scattercarpet"
           }
          ],
          "scattergeo": [
           {
            "marker": {
             "colorbar": {
              "outlinewidth": 0,
              "ticks": ""
             }
            },
            "type": "scattergeo"
           }
          ],
          "scattergl": [
           {
            "marker": {
             "colorbar": {
              "outlinewidth": 0,
              "ticks": ""
             }
            },
            "type": "scattergl"
           }
          ],
          "scattermapbox": [
           {
            "marker": {
             "colorbar": {
              "outlinewidth": 0,
              "ticks": ""
             }
            },
            "type": "scattermapbox"
           }
          ],
          "scatterpolar": [
           {
            "marker": {
             "colorbar": {
              "outlinewidth": 0,
              "ticks": ""
             }
            },
            "type": "scatterpolar"
           }
          ],
          "scatterpolargl": [
           {
            "marker": {
             "colorbar": {
              "outlinewidth": 0,
              "ticks": ""
             }
            },
            "type": "scatterpolargl"
           }
          ],
          "scatterternary": [
           {
            "marker": {
             "colorbar": {
              "outlinewidth": 0,
              "ticks": ""
             }
            },
            "type": "scatterternary"
           }
          ],
          "surface": [
           {
            "colorbar": {
             "outlinewidth": 0,
             "ticks": ""
            },
            "colorscale": [
             [
              0,
              "#0d0887"
             ],
             [
              0.1111111111111111,
              "#46039f"
             ],
             [
              0.2222222222222222,
              "#7201a8"
             ],
             [
              0.3333333333333333,
              "#9c179e"
             ],
             [
              0.4444444444444444,
              "#bd3786"
             ],
             [
              0.5555555555555556,
              "#d8576b"
             ],
             [
              0.6666666666666666,
              "#ed7953"
             ],
             [
              0.7777777777777778,
              "#fb9f3a"
             ],
             [
              0.8888888888888888,
              "#fdca26"
             ],
             [
              1,
              "#f0f921"
             ]
            ],
            "type": "surface"
           }
          ],
          "table": [
           {
            "cells": {
             "fill": {
              "color": "#EBF0F8"
             },
             "line": {
              "color": "white"
             }
            },
            "header": {
             "fill": {
              "color": "#C8D4E3"
             },
             "line": {
              "color": "white"
             }
            },
            "type": "table"
           }
          ]
         },
         "layout": {
          "annotationdefaults": {
           "arrowcolor": "#2a3f5f",
           "arrowhead": 0,
           "arrowwidth": 1
          },
          "autotypenumbers": "strict",
          "coloraxis": {
           "colorbar": {
            "outlinewidth": 0,
            "ticks": ""
           }
          },
          "colorscale": {
           "diverging": [
            [
             0,
             "#8e0152"
            ],
            [
             0.1,
             "#c51b7d"
            ],
            [
             0.2,
             "#de77ae"
            ],
            [
             0.3,
             "#f1b6da"
            ],
            [
             0.4,
             "#fde0ef"
            ],
            [
             0.5,
             "#f7f7f7"
            ],
            [
             0.6,
             "#e6f5d0"
            ],
            [
             0.7,
             "#b8e186"
            ],
            [
             0.8,
             "#7fbc41"
            ],
            [
             0.9,
             "#4d9221"
            ],
            [
             1,
             "#276419"
            ]
           ],
           "sequential": [
            [
             0,
             "#0d0887"
            ],
            [
             0.1111111111111111,
             "#46039f"
            ],
            [
             0.2222222222222222,
             "#7201a8"
            ],
            [
             0.3333333333333333,
             "#9c179e"
            ],
            [
             0.4444444444444444,
             "#bd3786"
            ],
            [
             0.5555555555555556,
             "#d8576b"
            ],
            [
             0.6666666666666666,
             "#ed7953"
            ],
            [
             0.7777777777777778,
             "#fb9f3a"
            ],
            [
             0.8888888888888888,
             "#fdca26"
            ],
            [
             1,
             "#f0f921"
            ]
           ],
           "sequentialminus": [
            [
             0,
             "#0d0887"
            ],
            [
             0.1111111111111111,
             "#46039f"
            ],
            [
             0.2222222222222222,
             "#7201a8"
            ],
            [
             0.3333333333333333,
             "#9c179e"
            ],
            [
             0.4444444444444444,
             "#bd3786"
            ],
            [
             0.5555555555555556,
             "#d8576b"
            ],
            [
             0.6666666666666666,
             "#ed7953"
            ],
            [
             0.7777777777777778,
             "#fb9f3a"
            ],
            [
             0.8888888888888888,
             "#fdca26"
            ],
            [
             1,
             "#f0f921"
            ]
           ]
          },
          "colorway": [
           "#636efa",
           "#EF553B",
           "#00cc96",
           "#ab63fa",
           "#FFA15A",
           "#19d3f3",
           "#FF6692",
           "#B6E880",
           "#FF97FF",
           "#FECB52"
          ],
          "font": {
           "color": "#2a3f5f"
          },
          "geo": {
           "bgcolor": "white",
           "lakecolor": "white",
           "landcolor": "#E5ECF6",
           "showlakes": true,
           "showland": true,
           "subunitcolor": "white"
          },
          "hoverlabel": {
           "align": "left"
          },
          "hovermode": "closest",
          "mapbox": {
           "style": "light"
          },
          "paper_bgcolor": "white",
          "plot_bgcolor": "#E5ECF6",
          "polar": {
           "angularaxis": {
            "gridcolor": "white",
            "linecolor": "white",
            "ticks": ""
           },
           "bgcolor": "#E5ECF6",
           "radialaxis": {
            "gridcolor": "white",
            "linecolor": "white",
            "ticks": ""
           }
          },
          "scene": {
           "xaxis": {
            "backgroundcolor": "#E5ECF6",
            "gridcolor": "white",
            "gridwidth": 2,
            "linecolor": "white",
            "showbackground": true,
            "ticks": "",
            "zerolinecolor": "white"
           },
           "yaxis": {
            "backgroundcolor": "#E5ECF6",
            "gridcolor": "white",
            "gridwidth": 2,
            "linecolor": "white",
            "showbackground": true,
            "ticks": "",
            "zerolinecolor": "white"
           },
           "zaxis": {
            "backgroundcolor": "#E5ECF6",
            "gridcolor": "white",
            "gridwidth": 2,
            "linecolor": "white",
            "showbackground": true,
            "ticks": "",
            "zerolinecolor": "white"
           }
          },
          "shapedefaults": {
           "line": {
            "color": "#2a3f5f"
           }
          },
          "ternary": {
           "aaxis": {
            "gridcolor": "white",
            "linecolor": "white",
            "ticks": ""
           },
           "baxis": {
            "gridcolor": "white",
            "linecolor": "white",
            "ticks": ""
           },
           "bgcolor": "#E5ECF6",
           "caxis": {
            "gridcolor": "white",
            "linecolor": "white",
            "ticks": ""
           }
          },
          "title": {
           "x": 0.05
          },
          "xaxis": {
           "automargin": true,
           "gridcolor": "white",
           "linecolor": "white",
           "ticks": "",
           "title": {
            "standoff": 15
           },
           "zerolinecolor": "white",
           "zerolinewidth": 2
          },
          "yaxis": {
           "automargin": true,
           "gridcolor": "white",
           "linecolor": "white",
           "ticks": "",
           "title": {
            "standoff": 15
           },
           "zerolinecolor": "white",
           "zerolinewidth": 2
          }
         }
        },
        "title": {
         "text": "3eiy - Correlation of Graph Metrics with Properties (Coloured by residue_type)"
        },
        "width": 1000
       }
      }
     },
     "metadata": {},
     "output_type": "display_data"
    }
   ],
   "source": [
    "from functools import partial\n",
    "from graphein.protein.features.nodes import expasy_protein_scale\n",
    "\n",
    "# Construct the graph\n",
    "config = ProteinGraphConfig(\n",
    "    edge_construction_functions=[\n",
    "        add_hydrophobic_interactions,\n",
    "        add_aromatic_interactions,\n",
    "        add_disulfide_interactions,\n",
    "        add_peptide_bonds,\n",
    "    ],\n",
    "    node_metadata_functions=[partial(expasy_protein_scale, add_separate=True)], # Add expasy scale (add partial it so each feature is added under a separate key)\n",
    ")\n",
    "g = construct_graph(\n",
    "    pdb_code=\"3eiy\",\n",
    "    config=config\n",
    "    )\n",
    "\n",
    "# Plot\n",
    "plot_graph_metric_property_correlation(\n",
    "    g,\n",
    "    diagonal_visible=False,\n",
    "    colour_by=\"residue_type\",\n",
    "    properties=[\n",
    "        \"pka_rgroup\",\n",
    "        \"isoelectric_points\",\n",
    "        \"bulkiness\",\n",
    "        \"transmembranetendency\",\n",
    "        \"coilroux\",\n",
    "        \"relativemutability\"\n",
    "        ]\n",
    "    )"
   ]
  }
 ],
 "metadata": {
  "interpreter": {
   "hash": "2405bbb9b0f17ca74d68c7ceaffab421796591b319a83e9ab2306dfe9d8be96b"
  },
  "kernelspec": {
   "display_name": "Python 3.7.11 ('graphein-3.7')",
   "language": "python",
   "name": "python3"
  },
  "language_info": {
   "codemirror_mode": {
    "name": "ipython",
    "version": 3
   },
   "file_extension": ".py",
   "mimetype": "text/x-python",
   "name": "python",
   "nbconvert_exporter": "python",
   "pygments_lexer": "ipython3",
   "version": "3.8.12"
  }
 },
 "nbformat": 4,
 "nbformat_minor": 2
}
