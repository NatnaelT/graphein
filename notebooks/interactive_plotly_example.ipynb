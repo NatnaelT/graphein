{
 "cells": [
  {
   "cell_type": "code",
   "execution_count": null,
   "metadata": {},
   "outputs": [],
   "source": [
    "from graphein.protein.graphs import construct_graph\n",
    "from graphein.protein.config import ProteinGraphConfig\n",
    "from graphein.protein.edges.distance import add_hydrogen_bond_interactions, add_ionic_interactions, add_peptide_bonds\n",
    "\n",
    "# Create backbone graph\n",
    "config = ProteinGraphConfig()\n",
    "simple_graph = construct_graph(config, pdb_code=\"3eiy\")\n",
    "\n",
    "# Create backbone graph with additional interactions\n",
    "edge_funcs = [add_hydrogen_bond_interactions, add_ionic_interactions, add_peptide_bonds]\n",
    "config = ProteinGraphConfig(edge_construction_functions= edge_funcs)\n",
    "complex_graph = construct_graph(config, pdb_code=\"3eiy\")"
   ]
  },
  {
   "cell_type": "markdown",
   "metadata": {},
   "source": [
    "## Distance Matrix Visualisation"
   ]
  },
  {
   "cell_type": "code",
   "execution_count": null,
   "metadata": {},
   "outputs": [],
   "source": [
    "from graphein.protein.visualisation import plot_distance_matrix\n",
    "plot_distance_matrix(complex_graph)"
   ]
  },
  {
   "cell_type": "markdown",
   "metadata": {},
   "source": [
    "## 3D Graph Plot\n",
    "\n",
    "### Parameters\n",
    "```\n",
    "G: nx.Graph,\n",
    "plot_title: Optional[str] = None,\n",
    "figsize: Tuple[int, int] = (620, 650),\n",
    "node_alpha: float = 0.7,\n",
    "node_size_min: float = 20.0,\n",
    "node_size_multiplier: float = 20.0,\n",
    "label_node_ids: bool = True,\n",
    "node_colour_map=plt.cm.plasma,\n",
    "edge_color_map=plt.cm.plasma,\n",
    "colour_nodes_by: str = \"degree\",\n",
    "colour_edges_by: str = \"type\",\n",
    "edge_alpha: float = 0.5,\n",
    "```"
   ]
  },
  {
   "cell_type": "code",
   "execution_count": null,
   "metadata": {},
   "outputs": [],
   "source": [
    "from graphein.protein.visualisation import plotly_protein_structure_graph\n",
    "\n",
    "plotly_protein_structure_graph(\n",
    "    G=simple_graph,\n",
    "    plot_title=\"Simple Protein Structure (Backbone only)\",\n",
    "    colour_nodes_by=\"residue_number\",\n",
    "    colour_edges_by=\"kind\",\n",
    "    node_size_min=1\n",
    "    )"
   ]
  },
  {
   "cell_type": "code",
   "execution_count": null,
   "metadata": {},
   "outputs": [],
   "source": [
    "from graphein.protein.visualisation import plotly_protein_structure_graph\n",
    "\n",
    "plotly_protein_structure_graph(\n",
    "    G=complex_graph,\n",
    "    plot_title=\"Residue level graph with Hydrogenbonds, Ionic interactions and Peptide bonds\",\n",
    "    colour_nodes_by=\"residue_number\",\n",
    "    colour_edges_by=\"kind\",\n",
    "    node_size_min=20,\n",
    "    node_size_multiplier=1\n",
    "    )"
   ]
  },
  {
   "cell_type": "code",
   "execution_count": null,
   "metadata": {},
   "outputs": [],
   "source": [
    "from graphein.protein.edges.atomic import add_atomic_edges\n",
    "config = ProteinGraphConfig(granularity='atom', edge_construction_functions=[add_atomic_edges])\n",
    "g = construct_graph(config, pdb_code=\"3eiy\")\n",
    "\n",
    "# Create atomic graph\n",
    "plotly_protein_structure_graph(\n",
    "    g,\n",
    "    plot_title=\"Atom level graph\",\n",
    "    colour_nodes_by=\"atom_type\",\n",
    "    colour_edges_by=\"kind\",\n",
    "    node_size_min=10,\n",
    "    node_size_multiplier=1\n",
    "    )"
   ]
  },
  {
   "cell_type": "code",
   "execution_count": null,
   "metadata": {},
   "outputs": [],
   "source": []
  }
 ],
 "metadata": {
  "interpreter": {
   "hash": "2084dd4fc0c9f9186ef9bb5d9f5c6652432726a285d6ac2dcf2b1a616ab39cbb"
  },
  "kernelspec": {
   "display_name": "Python 3.8.12 64-bit ('graphein-wip': conda)",
   "language": "python",
   "name": "python3"
  },
  "language_info": {
   "codemirror_mode": {
    "name": "ipython",
    "version": 3
   },
   "file_extension": ".py",
   "mimetype": "text/x-python",
   "name": "python",
   "nbconvert_exporter": "python",
   "pygments_lexer": "ipython3",
   "version": "3.8.12"
  }
 },
 "nbformat": 4,
 "nbformat_minor": 2
}
