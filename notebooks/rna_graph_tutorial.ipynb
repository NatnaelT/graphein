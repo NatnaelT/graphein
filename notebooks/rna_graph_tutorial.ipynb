{
 "cells": [
  {
   "cell_type": "markdown",
   "id": "97919218-3e83-4102-a1b5-0142780e384b",
   "metadata": {},
   "source": [
    "## Graphein RNA Graph Construction Tutorial\n",
    "\n",
    "In this notebook we construct graphs of RNA secondary structures.\n",
    "\n",
    "The inputs we require are a sequence (optional) and a [dotbracket](https://www.tbi.univie.ac.at/RNA/ViennaRNA/doc/html/rna_structure_notations.html) specification of the secondary structure. \n",
    "\n",
    "The workflow we follow is similar to the other data modalities. The desired edge constructions are passed as a list of functions to the construction function.\n",
    "\n",
    "[![Open In Colab](https://colab.research.google.com/assets/colab-badge.svg)](https://colab.research.google.com/github/a-r-j/graphein/blob/master/notebooks/rna_graph_tutorial.ipynb)\n",
    "\n",
    "![](https://www.biorxiv.org/content/biorxiv/early/2021/10/12/2020.07.15.204701/F4.large.jpg?width=800&height=600&carousel=1])\n"
   ]
  },
  {
   "cell_type": "code",
   "execution_count": null,
   "id": "afca1888",
   "metadata": {},
   "outputs": [],
   "source": [
    "# Install Graphein if necessary\n",
    "# !pip install graphein"
   ]
  },
  {
   "cell_type": "code",
   "execution_count": null,
   "id": "3334d136",
   "metadata": {},
   "outputs": [],
   "source": [
    "import logging\n",
    "logging.getLogger(\"matplotlib\").setLevel(logging.WARNING)\n",
    "logging.getLogger(\"graphein\").setLevel(logging.WARNING)\n",
    "\n",
    "from typing import List, Callable\n",
    "import networkx as nx\n",
    "from graphein.rna.graphs import construct_rna_graph\n",
    "from graphein.rna.edges import (\n",
    "    add_all_dotbracket_edges,\n",
    "    add_pseudoknots,\n",
    "    add_phosphodiester_bonds,\n",
    "    add_base_pairing_interactions\n",
    ")"
   ]
  },
  {
   "cell_type": "markdown",
   "id": "93504d88",
   "metadata": {},
   "source": [
    "### Construction with a Dotbracket\n"
   ]
  },
  {
   "cell_type": "code",
   "execution_count": null,
   "id": "a48d46c8-a8de-4641-b702-f6f3f4cc31f8",
   "metadata": {},
   "outputs": [],
   "source": [
    "from graphein.rna.visualisation import plot_rna_graph\n",
    "edge_funcs_1: List[Callable] = [\n",
    "    add_base_pairing_interactions,\n",
    "    add_phosphodiester_bonds,\n",
    "    add_pseudoknots,\n",
    "]\n",
    "edge_funcs_2: List[Callable] = [add_all_dotbracket_edges]\n",
    "\n",
    "g = construct_rna_graph(\n",
    "    \"......((((((......[[[))))))......]]]....\",\n",
    "    sequence=None,\n",
    "    edge_construction_funcs=edge_funcs_1,\n",
    ")\n",
    "nx.draw(g)\n",
    "\n",
    "plot_rna_graph(g, layout=nx.layout.spring_layout)"
   ]
  },
  {
   "cell_type": "markdown",
   "id": "52bbfe8a",
   "metadata": {},
   "source": [
    "### Construction with a dotbracket and sequence"
   ]
  },
  {
   "cell_type": "code",
   "execution_count": null,
   "id": "94e20b13",
   "metadata": {},
   "outputs": [],
   "source": [
    "g = construct_rna_graph(\n",
    "    sequence=\"CGUCUUAAACUCAUCACCGUGUGGAGCUGCGACCCUUCCCUAGAUUCGAAGACGAG\",\n",
    "    dotbracket=\"((((((...(((..(((...))))))...(((..((.....))..)))))))))..\",\n",
    "    edge_construction_funcs=edge_funcs_1,\n",
    ")\n",
    "plot_rna_graph(g, layout=nx.layout.spring_layout)"
   ]
  },
  {
   "cell_type": "code",
   "execution_count": null,
   "id": "e4ec0a91",
   "metadata": {},
   "outputs": [],
   "source": [
    "g = construct_rna_graph(\n",
    "    sequence=\"CGUCUUAAACUCAUCACCGUGUGGAGCUGCGACCCUUCCCUAGAUUCGAAGACGAG\",\n",
    "    dotbracket=\"((((((...(((..(((...))))))...(((..((.....))..)))))))))..\",\n",
    "    edge_construction_funcs=edge_funcs_1,\n",
    ")\n",
    "plot_rna_graph(g, layout=nx.layout.circular_layout)"
   ]
  }
 ],
 "metadata": {
  "kernelspec": {
   "display_name": "Python 3",
   "language": "python",
   "name": "python3"
  },
  "language_info": {
   "codemirror_mode": {
    "name": "ipython",
    "version": 3
   },
   "file_extension": ".py",
   "mimetype": "text/x-python",
   "name": "python",
   "nbconvert_exporter": "python",
   "pygments_lexer": "ipython3",
   "version": "3.8.12"
  }
 },
 "nbformat": 4,
 "nbformat_minor": 5
}
